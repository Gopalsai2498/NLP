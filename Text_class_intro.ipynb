{
 "cells": [
  {
   "cell_type": "code",
   "execution_count": 2,
   "metadata": {},
   "outputs": [],
   "source": [
    "#OmSriGaneshayaNamah\n",
    "#OmSriSaraswatyaiNamah\n",
    "#OmSriSaiRam"
   ]
  },
  {
   "cell_type": "code",
   "execution_count": 34,
   "metadata": {},
   "outputs": [],
   "source": [
    "mess = 'Sample message! notice: it has Punctuation.'"
   ]
  },
  {
   "cell_type": "code",
   "execution_count": 4,
   "metadata": {},
   "outputs": [],
   "source": [
    "import string"
   ]
  },
  {
   "cell_type": "code",
   "execution_count": 5,
   "metadata": {},
   "outputs": [
    {
     "data": {
      "text/plain": [
       "'!\"#$%&\\'()*+,-./:;<=>?@[\\\\]^_`{|}~'"
      ]
     },
     "execution_count": 5,
     "metadata": {},
     "output_type": "execute_result"
    }
   ],
   "source": [
    "string.punctuation"
   ]
  },
  {
   "cell_type": "code",
   "execution_count": 35,
   "metadata": {},
   "outputs": [
    {
     "data": {
      "text/plain": [
       "'Sample message! notice: it has Punctuation.'"
      ]
     },
     "execution_count": 35,
     "metadata": {},
     "output_type": "execute_result"
    }
   ],
   "source": [
    "mess"
   ]
  },
  {
   "cell_type": "code",
   "execution_count": 38,
   "metadata": {},
   "outputs": [],
   "source": [
    "punc = [char for char in mess if char not in string.punctuation]"
   ]
  },
  {
   "cell_type": "code",
   "execution_count": 40,
   "metadata": {},
   "outputs": [
    {
     "data": {
      "text/plain": [
       "'Sample message notice it has Punctuation'"
      ]
     },
     "execution_count": 40,
     "metadata": {},
     "output_type": "execute_result"
    }
   ],
   "source": [
    "npunc = ''.join(punc)\n",
    "npunc"
   ]
  },
  {
   "cell_type": "code",
   "execution_count": 41,
   "metadata": {},
   "outputs": [
    {
     "data": {
      "text/plain": [
       "['Sample', 'message', 'notice', 'it', 'has', 'Punctuation']"
      ]
     },
     "execution_count": 41,
     "metadata": {},
     "output_type": "execute_result"
    }
   ],
   "source": [
    "npunc.split()"
   ]
  },
  {
   "cell_type": "code",
   "execution_count": 42,
   "metadata": {},
   "outputs": [],
   "source": [
    "from nltk.corpus import stopwords"
   ]
  },
  {
   "cell_type": "code",
   "execution_count": 46,
   "metadata": {},
   "outputs": [
    {
     "data": {
      "text/plain": [
       "['Sample', 'message', 'notice', 'Punctuation']"
      ]
     },
     "execution_count": 46,
     "metadata": {},
     "output_type": "execute_result"
    }
   ],
   "source": [
    "[char for char in npunc.split() if char.lower() not in stopwords.words('english')]"
   ]
  },
  {
   "cell_type": "code",
   "execution_count": null,
   "metadata": {},
   "outputs": [],
   "source": []
  },
  {
   "cell_type": "code",
   "execution_count": 22,
   "metadata": {},
   "outputs": [
    {
     "data": {
      "text/plain": [
       "['S',\n",
       " 'a',\n",
       " 'm',\n",
       " 'p',\n",
       " 'l',\n",
       " 'e',\n",
       " ' ',\n",
       " 'm',\n",
       " 'e',\n",
       " 's',\n",
       " 's',\n",
       " 'a',\n",
       " 'g',\n",
       " 'e',\n",
       " ' ',\n",
       " 'n',\n",
       " 'o',\n",
       " 't',\n",
       " 'i',\n",
       " 'c',\n",
       " 'e',\n",
       " ' ',\n",
       " 'i',\n",
       " 't',\n",
       " ' ',\n",
       " 'h',\n",
       " 'a',\n",
       " 's',\n",
       " ' ',\n",
       " 'P',\n",
       " 'u',\n",
       " 'n',\n",
       " 'c',\n",
       " 't',\n",
       " 'u',\n",
       " 'a',\n",
       " 't',\n",
       " 'i',\n",
       " 'o',\n",
       " 'n']"
      ]
     },
     "execution_count": 22,
     "metadata": {},
     "output_type": "execute_result"
    }
   ],
   "source": [
    "#remove punctuations\n",
    "nonpunc = [pun for pun in mess if pun not in string.punctuation]\n",
    "nonpunc"
   ]
  },
  {
   "cell_type": "code",
   "execution_count": null,
   "metadata": {},
   "outputs": [],
   "source": [
    "#remove stopwords\n",
    "#we can remove stopwords from nltk\n"
   ]
  },
  {
   "cell_type": "code",
   "execution_count": null,
   "metadata": {},
   "outputs": [],
   "source": [
    "for c in mess if c not in string.punctuation"
   ]
  },
  {
   "cell_type": "code",
   "execution_count": 26,
   "metadata": {},
   "outputs": [],
   "source": [
    "seq = [1,2,3,4]"
   ]
  },
  {
   "cell_type": "code",
   "execution_count": 27,
   "metadata": {},
   "outputs": [
    {
     "data": {
      "text/plain": [
       "[1, 2, 3, 4]"
      ]
     },
     "execution_count": 27,
     "metadata": {},
     "output_type": "execute_result"
    }
   ],
   "source": [
    "seq"
   ]
  },
  {
   "cell_type": "code",
   "execution_count": 28,
   "metadata": {},
   "outputs": [
    {
     "name": "stdout",
     "output_type": "stream",
     "text": [
      "1\n",
      "2\n",
      "3\n",
      "4\n"
     ]
    }
   ],
   "source": [
    "for num in seq:\n",
    "    print(num)"
   ]
  },
  {
   "cell_type": "code",
   "execution_count": 29,
   "metadata": {},
   "outputs": [
    {
     "data": {
      "text/plain": [
       "[1, 2, 3, 4]"
      ]
     },
     "execution_count": 29,
     "metadata": {},
     "output_type": "execute_result"
    }
   ],
   "source": [
    "[num for num in seq]"
   ]
  },
  {
   "cell_type": "code",
   "execution_count": 30,
   "metadata": {},
   "outputs": [],
   "source": [
    "seq1=[2,4]"
   ]
  },
  {
   "cell_type": "code",
   "execution_count": 31,
   "metadata": {},
   "outputs": [
    {
     "data": {
      "text/plain": [
       "[2, 4]"
      ]
     },
     "execution_count": 31,
     "metadata": {},
     "output_type": "execute_result"
    }
   ],
   "source": [
    "[num for num in seq if num in seq1]"
   ]
  },
  {
   "cell_type": "code",
   "execution_count": 19,
   "metadata": {},
   "outputs": [
    {
     "data": {
      "text/plain": [
       "[1, 3]"
      ]
     },
     "execution_count": 19,
     "metadata": {},
     "output_type": "execute_result"
    }
   ],
   "source": [
    "[num for num in seq if not num in seq1]"
   ]
  },
  {
   "cell_type": "code",
   "execution_count": null,
   "metadata": {},
   "outputs": [],
   "source": [
    "num for num in seq if num not in seq1"
   ]
  },
  {
   "cell_type": "code",
   "execution_count": 23,
   "metadata": {},
   "outputs": [],
   "source": [
    "import nltk"
   ]
  },
  {
   "cell_type": "code",
   "execution_count": 24,
   "metadata": {},
   "outputs": [],
   "source": [
    "from nltk.corpus import stopwords"
   ]
  },
  {
   "cell_type": "code",
   "execution_count": 25,
   "metadata": {},
   "outputs": [
    {
     "data": {
      "text/plain": [
       "['i',\n",
       " 'me',\n",
       " 'my',\n",
       " 'myself',\n",
       " 'we',\n",
       " 'our',\n",
       " 'ours',\n",
       " 'ourselves',\n",
       " 'you',\n",
       " \"you're\",\n",
       " \"you've\",\n",
       " \"you'll\",\n",
       " \"you'd\",\n",
       " 'your',\n",
       " 'yours',\n",
       " 'yourself',\n",
       " 'yourselves',\n",
       " 'he',\n",
       " 'him',\n",
       " 'his',\n",
       " 'himself',\n",
       " 'she',\n",
       " \"she's\",\n",
       " 'her',\n",
       " 'hers',\n",
       " 'herself',\n",
       " 'it',\n",
       " \"it's\",\n",
       " 'its',\n",
       " 'itself',\n",
       " 'they',\n",
       " 'them',\n",
       " 'their',\n",
       " 'theirs',\n",
       " 'themselves',\n",
       " 'what',\n",
       " 'which',\n",
       " 'who',\n",
       " 'whom',\n",
       " 'this',\n",
       " 'that',\n",
       " \"that'll\",\n",
       " 'these',\n",
       " 'those',\n",
       " 'am',\n",
       " 'is',\n",
       " 'are',\n",
       " 'was',\n",
       " 'were',\n",
       " 'be',\n",
       " 'been',\n",
       " 'being',\n",
       " 'have',\n",
       " 'has',\n",
       " 'had',\n",
       " 'having',\n",
       " 'do',\n",
       " 'does',\n",
       " 'did',\n",
       " 'doing',\n",
       " 'a',\n",
       " 'an',\n",
       " 'the',\n",
       " 'and',\n",
       " 'but',\n",
       " 'if',\n",
       " 'or',\n",
       " 'because',\n",
       " 'as',\n",
       " 'until',\n",
       " 'while',\n",
       " 'of',\n",
       " 'at',\n",
       " 'by',\n",
       " 'for',\n",
       " 'with',\n",
       " 'about',\n",
       " 'against',\n",
       " 'between',\n",
       " 'into',\n",
       " 'through',\n",
       " 'during',\n",
       " 'before',\n",
       " 'after',\n",
       " 'above',\n",
       " 'below',\n",
       " 'to',\n",
       " 'from',\n",
       " 'up',\n",
       " 'down',\n",
       " 'in',\n",
       " 'out',\n",
       " 'on',\n",
       " 'off',\n",
       " 'over',\n",
       " 'under',\n",
       " 'again',\n",
       " 'further',\n",
       " 'then',\n",
       " 'once',\n",
       " 'here',\n",
       " 'there',\n",
       " 'when',\n",
       " 'where',\n",
       " 'why',\n",
       " 'how',\n",
       " 'all',\n",
       " 'any',\n",
       " 'both',\n",
       " 'each',\n",
       " 'few',\n",
       " 'more',\n",
       " 'most',\n",
       " 'other',\n",
       " 'some',\n",
       " 'such',\n",
       " 'no',\n",
       " 'nor',\n",
       " 'not',\n",
       " 'only',\n",
       " 'own',\n",
       " 'same',\n",
       " 'so',\n",
       " 'than',\n",
       " 'too',\n",
       " 'very',\n",
       " 's',\n",
       " 't',\n",
       " 'can',\n",
       " 'will',\n",
       " 'just',\n",
       " 'don',\n",
       " \"don't\",\n",
       " 'should',\n",
       " \"should've\",\n",
       " 'now',\n",
       " 'd',\n",
       " 'll',\n",
       " 'm',\n",
       " 'o',\n",
       " 're',\n",
       " 've',\n",
       " 'y',\n",
       " 'ain',\n",
       " 'aren',\n",
       " \"aren't\",\n",
       " 'couldn',\n",
       " \"couldn't\",\n",
       " 'didn',\n",
       " \"didn't\",\n",
       " 'doesn',\n",
       " \"doesn't\",\n",
       " 'hadn',\n",
       " \"hadn't\",\n",
       " 'hasn',\n",
       " \"hasn't\",\n",
       " 'haven',\n",
       " \"haven't\",\n",
       " 'isn',\n",
       " \"isn't\",\n",
       " 'ma',\n",
       " 'mightn',\n",
       " \"mightn't\",\n",
       " 'mustn',\n",
       " \"mustn't\",\n",
       " 'needn',\n",
       " \"needn't\",\n",
       " 'shan',\n",
       " \"shan't\",\n",
       " 'shouldn',\n",
       " \"shouldn't\",\n",
       " 'wasn',\n",
       " \"wasn't\",\n",
       " 'weren',\n",
       " \"weren't\",\n",
       " 'won',\n",
       " \"won't\",\n",
       " 'wouldn',\n",
       " \"wouldn't\"]"
      ]
     },
     "execution_count": 25,
     "metadata": {},
     "output_type": "execute_result"
    }
   ],
   "source": [
    "stopwords.words('english')"
   ]
  },
  {
   "cell_type": "code",
   "execution_count": 27,
   "metadata": {},
   "outputs": [],
   "source": [
    "nonpun = ''.join(nonpunc)"
   ]
  },
  {
   "cell_type": "code",
   "execution_count": 28,
   "metadata": {},
   "outputs": [
    {
     "data": {
      "text/plain": [
       "'Sample message notice it has Punctuation'"
      ]
     },
     "execution_count": 28,
     "metadata": {},
     "output_type": "execute_result"
    }
   ],
   "source": [
    "nonpun"
   ]
  },
  {
   "cell_type": "code",
   "execution_count": 29,
   "metadata": {},
   "outputs": [
    {
     "data": {
      "text/plain": [
       "['a', 'b', 'c', 'd']"
      ]
     },
     "execution_count": 29,
     "metadata": {},
     "output_type": "execute_result"
    }
   ],
   "source": [
    "x = ['a','b','c','d']\n",
    "x"
   ]
  },
  {
   "cell_type": "code",
   "execution_count": 38,
   "metadata": {},
   "outputs": [
    {
     "data": {
      "text/plain": [
       "'a b c d'"
      ]
     },
     "execution_count": 38,
     "metadata": {},
     "output_type": "execute_result"
    }
   ],
   "source": [
    "xa = ' '.join(x)\n",
    "xa"
   ]
  },
  {
   "cell_type": "code",
   "execution_count": 39,
   "metadata": {},
   "outputs": [
    {
     "data": {
      "text/plain": [
       "['a', 'b', 'c', 'd']"
      ]
     },
     "execution_count": 39,
     "metadata": {},
     "output_type": "execute_result"
    }
   ],
   "source": [
    "xa.split()"
   ]
  },
  {
   "cell_type": "code",
   "execution_count": 32,
   "metadata": {},
   "outputs": [
    {
     "data": {
      "text/plain": [
       "'Sample message notice it has Punctuation'"
      ]
     },
     "execution_count": 32,
     "metadata": {},
     "output_type": "execute_result"
    }
   ],
   "source": [
    "nonpun"
   ]
  },
  {
   "cell_type": "code",
   "execution_count": 36,
   "metadata": {},
   "outputs": [
    {
     "data": {
      "text/plain": [
       "['Sample', 'message', 'notice', 'it', 'has', 'Punctuation']"
      ]
     },
     "execution_count": 36,
     "metadata": {},
     "output_type": "execute_result"
    }
   ],
   "source": [
    "nonpun.split()"
   ]
  },
  {
   "cell_type": "code",
   "execution_count": 42,
   "metadata": {},
   "outputs": [
    {
     "data": {
      "text/plain": [
       "['Sample', 'message', 'notice', 'Punctuation']"
      ]
     },
     "execution_count": 42,
     "metadata": {},
     "output_type": "execute_result"
    }
   ],
   "source": [
    "[word for word in nonpun.split() if word.lower() not in stopwords.words('english')]"
   ]
  },
  {
   "cell_type": "code",
   "execution_count": 49,
   "metadata": {},
   "outputs": [],
   "source": [
    "def text_process(mess):\n",
    "    \n",
    "    \"\"\"\n",
    "    1. remove punc\n",
    "    2. remove stopwords\n",
    "    3. return list of clean text words\n",
    "    \"\"\"\n",
    "    \n",
    "    nopunc = [char for char in mess if char not in string.punctuation]\n",
    "    \n",
    "    nopunc = ''.join(nopunc)\n",
    "    \n",
    "    return [word for word in nopunc.split() if word.lower() not in stopwords.words('english')]\n",
    "    "
   ]
  },
  {
   "cell_type": "code",
   "execution_count": null,
   "metadata": {},
   "outputs": [],
   "source": [
    "df['key_insight'].apply(text_process)"
   ]
  },
  {
   "cell_type": "code",
   "execution_count": 58,
   "metadata": {},
   "outputs": [],
   "source": [
    "import pandas as pd\n",
    "import sklearn"
   ]
  },
  {
   "cell_type": "code",
   "execution_count": 59,
   "metadata": {},
   "outputs": [],
   "source": [
    "from sklearn.feature_extraction.text import CountVectorizer"
   ]
  },
  {
   "cell_type": "code",
   "execution_count": 60,
   "metadata": {},
   "outputs": [
    {
     "ename": "SyntaxError",
     "evalue": "unexpected EOF while parsing (<ipython-input-60-32b433e60821>, line 1)",
     "output_type": "error",
     "traceback": [
      "\u001b[1;36m  File \u001b[1;32m\"<ipython-input-60-32b433e60821>\"\u001b[1;36m, line \u001b[1;32m1\u001b[0m\n\u001b[1;33m    bow_transformer = CountVectorizer(analyzer = text_process).fit(mess['message']\u001b[0m\n\u001b[1;37m                                                                                  ^\u001b[0m\n\u001b[1;31mSyntaxError\u001b[0m\u001b[1;31m:\u001b[0m unexpected EOF while parsing\n"
     ]
    }
   ],
   "source": [
    "bow_transformer = CountVectorizer(analyzer = text_process).fit(mess['message']"
   ]
  },
  {
   "cell_type": "code",
   "execution_count": null,
   "metadata": {},
   "outputs": [],
   "source": [
    "print(len(bow_transformer.vicabulary))"
   ]
  },
  {
   "cell_type": "code",
   "execution_count": null,
   "metadata": {},
   "outputs": [],
   "source": [
    "mess4 = df['key'][3]"
   ]
  },
  {
   "cell_type": "code",
   "execution_count": null,
   "metadata": {},
   "outputs": [],
   "source": [
    "print(mess4)"
   ]
  },
  {
   "cell_type": "code",
   "execution_count": null,
   "metadata": {},
   "outputs": [],
   "source": [
    "bow4=bow_transformer.transform([mess4])"
   ]
  },
  {
   "cell_type": "code",
   "execution_count": null,
   "metadata": {},
   "outputs": [],
   "source": [
    "print(bow4)"
   ]
  },
  {
   "cell_type": "code",
   "execution_count": null,
   "metadata": {},
   "outputs": [],
   "source": [
    "print(bow4.shape)"
   ]
  },
  {
   "cell_type": "code",
   "execution_count": null,
   "metadata": {},
   "outputs": [],
   "source": [
    "#check most\n",
    "bow_transformer.get_feature_names()[4068]"
   ]
  },
  {
   "cell_type": "code",
   "execution_count": 1,
   "metadata": {},
   "outputs": [
    {
     "data": {
      "text/plain": [
       "'C:\\\\Users\\\\TOSHIBA'"
      ]
     },
     "execution_count": 1,
     "metadata": {},
     "output_type": "execute_result"
    }
   ],
   "source": [
    "pwd"
   ]
  },
  {
   "cell_type": "code",
   "execution_count": 1,
   "metadata": {},
   "outputs": [],
   "source": [
    "import os\n",
    "import pandas as pd\n",
    "import string\n",
    "import nltk\n",
    "from nltk.corpus import stopwords\n",
    "import sklearn\n",
    "from sklearn.feature_extraction.text import CountVectorizer"
   ]
  },
  {
   "cell_type": "code",
   "execution_count": 2,
   "metadata": {},
   "outputs": [],
   "source": [
    "os.chdir('C:/Users/TOSHIBA/Desktop/Optimization/NLP')"
   ]
  },
  {
   "cell_type": "code",
   "execution_count": 3,
   "metadata": {},
   "outputs": [],
   "source": [
    "mess = pd.read_csv('smsspamcollection/SMSSpamCollection', sep='\\t', names=['label','message'])"
   ]
  },
  {
   "cell_type": "code",
   "execution_count": 4,
   "metadata": {},
   "outputs": [
    {
     "data": {
      "text/plain": [
       "(5572, 2)"
      ]
     },
     "execution_count": 4,
     "metadata": {},
     "output_type": "execute_result"
    }
   ],
   "source": [
    "mess.shape"
   ]
  },
  {
   "cell_type": "code",
   "execution_count": 5,
   "metadata": {},
   "outputs": [
    {
     "data": {
      "text/html": [
       "<div>\n",
       "<style scoped>\n",
       "    .dataframe tbody tr th:only-of-type {\n",
       "        vertical-align: middle;\n",
       "    }\n",
       "\n",
       "    .dataframe tbody tr th {\n",
       "        vertical-align: top;\n",
       "    }\n",
       "\n",
       "    .dataframe thead th {\n",
       "        text-align: right;\n",
       "    }\n",
       "</style>\n",
       "<table border=\"1\" class=\"dataframe\">\n",
       "  <thead>\n",
       "    <tr style=\"text-align: right;\">\n",
       "      <th></th>\n",
       "      <th>label</th>\n",
       "      <th>message</th>\n",
       "    </tr>\n",
       "  </thead>\n",
       "  <tbody>\n",
       "    <tr>\n",
       "      <th>0</th>\n",
       "      <td>ham</td>\n",
       "      <td>Go until jurong point, crazy.. Available only ...</td>\n",
       "    </tr>\n",
       "    <tr>\n",
       "      <th>1</th>\n",
       "      <td>ham</td>\n",
       "      <td>Ok lar... Joking wif u oni...</td>\n",
       "    </tr>\n",
       "    <tr>\n",
       "      <th>2</th>\n",
       "      <td>spam</td>\n",
       "      <td>Free entry in 2 a wkly comp to win FA Cup fina...</td>\n",
       "    </tr>\n",
       "    <tr>\n",
       "      <th>3</th>\n",
       "      <td>ham</td>\n",
       "      <td>U dun say so early hor... U c already then say...</td>\n",
       "    </tr>\n",
       "    <tr>\n",
       "      <th>4</th>\n",
       "      <td>ham</td>\n",
       "      <td>Nah I don't think he goes to usf, he lives aro...</td>\n",
       "    </tr>\n",
       "  </tbody>\n",
       "</table>\n",
       "</div>"
      ],
      "text/plain": [
       "  label                                            message\n",
       "0   ham  Go until jurong point, crazy.. Available only ...\n",
       "1   ham                      Ok lar... Joking wif u oni...\n",
       "2  spam  Free entry in 2 a wkly comp to win FA Cup fina...\n",
       "3   ham  U dun say so early hor... U c already then say...\n",
       "4   ham  Nah I don't think he goes to usf, he lives aro..."
      ]
     },
     "execution_count": 5,
     "metadata": {},
     "output_type": "execute_result"
    }
   ],
   "source": [
    "mess.head()"
   ]
  },
  {
   "cell_type": "code",
   "execution_count": 6,
   "metadata": {},
   "outputs": [
    {
     "name": "stdout",
     "output_type": "stream",
     "text": [
      "<class 'pandas.core.frame.DataFrame'>\n",
      "RangeIndex: 5572 entries, 0 to 5571\n",
      "Data columns (total 2 columns):\n",
      "label      5572 non-null object\n",
      "message    5572 non-null object\n",
      "dtypes: object(2)\n",
      "memory usage: 87.1+ KB\n"
     ]
    }
   ],
   "source": [
    "mess.info()"
   ]
  },
  {
   "cell_type": "code",
   "execution_count": 8,
   "metadata": {},
   "outputs": [
    {
     "data": {
      "text/plain": [
       "<bound method Series.drop_duplicates of 0       Go until jurong point, crazy.. Available only ...\n",
       "1                           Ok lar... Joking wif u oni...\n",
       "2       Free entry in 2 a wkly comp to win FA Cup fina...\n",
       "3       U dun say so early hor... U c already then say...\n",
       "4       Nah I don't think he goes to usf, he lives aro...\n",
       "5       FreeMsg Hey there darling it's been 3 week's n...\n",
       "6       Even my brother is not like to speak with me. ...\n",
       "7       As per your request 'Melle Melle (Oru Minnamin...\n",
       "8       WINNER!! As a valued network customer you have...\n",
       "9       Had your mobile 11 months or more? U R entitle...\n",
       "10      I'm gonna be home soon and i don't want to tal...\n",
       "11      SIX chances to win CASH! From 100 to 20,000 po...\n",
       "12      URGENT! You have won a 1 week FREE membership ...\n",
       "13      I've been searching for the right words to tha...\n",
       "14                    I HAVE A DATE ON SUNDAY WITH WILL!!\n",
       "15      XXXMobileMovieClub: To use your credit, click ...\n",
       "16                             Oh k...i'm watching here:)\n",
       "17      Eh u remember how 2 spell his name... Yes i di...\n",
       "18      Fine if thats the way u feel. Thats the way ...\n",
       "19      England v Macedonia - dont miss the goals/team...\n",
       "20              Is that seriously how you spell his name?\n",
       "21        I‘m going to try for 2 months ha ha only joking\n",
       "22      So ü pay first lar... Then when is da stock co...\n",
       "23      Aft i finish my lunch then i go str down lor. ...\n",
       "24      Ffffffffff. Alright no way I can meet up with ...\n",
       "25      Just forced myself to eat a slice. I'm really ...\n",
       "26                         Lol your always so convincing.\n",
       "27      Did you catch the bus ? Are you frying an egg ...\n",
       "28      I'm back &amp; we're packing the car now, I'll...\n",
       "29      Ahhh. Work. I vaguely remember that! What does...\n",
       "                              ...                        \n",
       "5542             Armand says get your ass over to epsilon\n",
       "5543               U still havent got urself a jacket ah?\n",
       "5544    I'm taking derek &amp; taylor to walmart, if I...\n",
       "5545        Hi its in durban are you still on this number\n",
       "5546           Ic. There are a lotta childporn cars then.\n",
       "5547    Had your contract mobile 11 Mnths? Latest Moto...\n",
       "5548                   No, I was trying it all weekend ;V\n",
       "5549    You know, wot people wear. T shirts, jumpers, ...\n",
       "5550          Cool, what time you think you can get here?\n",
       "5551    Wen did you get so spiritual and deep. That's ...\n",
       "5552    Have a safe trip to Nigeria. Wish you happines...\n",
       "5553                          Hahaha..use your brain dear\n",
       "5554    Well keep in mind I've only got enough gas for...\n",
       "5555    Yeh. Indians was nice. Tho it did kane me off ...\n",
       "5556    Yes i have. So that's why u texted. Pshew...mi...\n",
       "5557    No. I meant the calculation is the same. That ...\n",
       "5558                               Sorry, I'll call later\n",
       "5559    if you aren't here in the next  &lt;#&gt;  hou...\n",
       "5560                    Anything lor. Juz both of us lor.\n",
       "5561    Get me out of this dump heap. My mom decided t...\n",
       "5562    Ok lor... Sony ericsson salesman... I ask shuh...\n",
       "5563                                  Ard 6 like dat lor.\n",
       "5564    Why don't you wait 'til at least wednesday to ...\n",
       "5565                                         Huh y lei...\n",
       "5566    REMINDER FROM O2: To get 2.50 pounds free call...\n",
       "5567    This is the 2nd time we have tried 2 contact u...\n",
       "5568                 Will ü b going to esplanade fr home?\n",
       "5569    Pity, * was in mood for that. So...any other s...\n",
       "5570    The guy did some bitching but I acted like i'd...\n",
       "5571                           Rofl. Its true to its name\n",
       "Name: message, Length: 5572, dtype: object>"
      ]
     },
     "execution_count": 8,
     "metadata": {},
     "output_type": "execute_result"
    }
   ],
   "source": [
    "mess['message'].drop_duplicates"
   ]
  },
  {
   "cell_type": "code",
   "execution_count": 33,
   "metadata": {},
   "outputs": [
    {
     "data": {
      "text/plain": [
       "['Go until jurong point, crazy.. Available only in bugis n great world la e buffet... Cine there got amore wat...',\n",
       " 'Ok lar... Joking wif u oni...',\n",
       " \"Free entry in 2 a wkly comp to win FA Cup final tkts 21st May 2005. Text FA to 87121 to receive entry question(std txt rate)T&C's apply 08452810075over18's\",\n",
       " 'U dun say so early hor... U c already then say...',\n",
       " \"Nah I don't think he goes to usf, he lives around here though\",\n",
       " \"FreeMsg Hey there darling it's been 3 week's now and no word back! I'd like some fun you up for it still? Tb ok! XxX std chgs to send, £1.50 to rcv\",\n",
       " 'Even my brother is not like to speak with me. They treat me like aids patent.',\n",
       " \"As per your request 'Melle Melle (Oru Minnaminunginte Nurungu Vettam)' has been set as your callertune for all Callers. Press *9 to copy your friends Callertune\",\n",
       " 'WINNER!! As a valued network customer you have been selected to receivea £900 prize reward! To claim call 09061701461. Claim code KL341. Valid 12 hours only.',\n",
       " 'Had your mobile 11 months or more? U R entitled to Update to the latest colour mobiles with camera for Free! Call The Mobile Update Co FREE on 08002986030',\n",
       " \"I'm gonna be home soon and i don't want to talk about this stuff anymore tonight, k? I've cried enough today.\",\n",
       " 'SIX chances to win CASH! From 100 to 20,000 pounds txt> CSH11 and send to 87575. Cost 150p/day, 6days, 16+ TsandCs apply Reply HL 4 info',\n",
       " 'URGENT! You have won a 1 week FREE membership in our £100,000 Prize Jackpot! Txt the word: CLAIM to No: 81010 T&C www.dbuk.net LCCLTD POBOX 4403LDNW1A7RW18',\n",
       " \"I've been searching for the right words to thank you for this breather. I promise i wont take your help for granted and will fulfil my promise. You have been wonderful and a blessing at all times.\",\n",
       " 'I HAVE A DATE ON SUNDAY WITH WILL!!',\n",
       " 'XXXMobileMovieClub: To use your credit, click the WAP link in the next txt message or click here>> http://wap. xxxmobilemovieclub.com?n=QJKGIGHJJGCBL',\n",
       " \"Oh k...i'm watching here:)\",\n",
       " 'Eh u remember how 2 spell his name... Yes i did. He v naughty make until i v wet.',\n",
       " 'Fine if that\\x92s the way u feel. That\\x92s the way its gota b',\n",
       " 'England v Macedonia - dont miss the goals/team news. Txt ur national team to 87077 eg ENGLAND to 87077 Try:WALES, SCOTLAND 4txt/ú1.20 POBOXox36504W45WQ 16+',\n",
       " 'Is that seriously how you spell his name?',\n",
       " 'I‘m going to try for 2 months ha ha only joking',\n",
       " 'So ü pay first lar... Then when is da stock comin...',\n",
       " 'Aft i finish my lunch then i go str down lor. Ard 3 smth lor. U finish ur lunch already?',\n",
       " 'Ffffffffff. Alright no way I can meet up with you sooner?',\n",
       " \"Just forced myself to eat a slice. I'm really not hungry tho. This sucks. Mark is getting worried. He knows I'm sick when I turn down pizza. Lol\",\n",
       " 'Lol your always so convincing.',\n",
       " \"Did you catch the bus ? Are you frying an egg ? Did you make a tea? Are you eating your mom's left over dinner ? Do you feel my Love ?\",\n",
       " \"I'm back &amp; we're packing the car now, I'll let you know if there's room\",\n",
       " 'Ahhh. Work. I vaguely remember that! What does it feel like? Lol',\n",
       " \"Wait that's still not all that clear, were you not sure about me being sarcastic or that that's why x doesn't want to live with us\",\n",
       " \"Yeah he got in at 2 and was v apologetic. n had fallen out and she was actin like spoilt child and he got caught up in that. Till 2! But we won't go there! Not doing too badly cheers. You? \",\n",
       " 'K tell me anything about you.',\n",
       " 'For fear of fainting with the of all that housework you just did? Quick have a cuppa',\n",
       " 'Thanks for your subscription to Ringtone UK your mobile will be charged £5/month Please confirm by replying YES or NO. If you reply NO you will not be charged',\n",
       " 'Yup... Ok i go home look at the timings then i msg ü again... Xuhui going to learn on 2nd may too but her lesson is at 8am',\n",
       " \"Oops, I'll let you know when my roommate's done\",\n",
       " 'I see the letter B on my car',\n",
       " 'Anything lor... U decide...',\n",
       " \"Hello! How's you and how did saturday go? I was just texting to see if you'd decided to do anything tomo. Not that i'm trying to invite myself or anything!\",\n",
       " 'Pls go ahead with watts. I just wanted to be sure. Do have a great weekend. Abiola',\n",
       " 'Did I forget to tell you ? I want you , I need you, I crave you ... But most of all ... I love you my sweet Arabian steed ... Mmmmmm ... Yummy',\n",
       " '07732584351 - Rodger Burns - MSG = We tried to call you re your reply to our sms for a free nokia mobile + free camcorder. Please call now 08000930705 for delivery tomorrow',\n",
       " 'WHO ARE YOU SEEING?',\n",
       " 'Great! I hope you like your man well endowed. I am  &lt;#&gt;  inches...',\n",
       " 'No calls..messages..missed calls',\n",
       " \"Didn't you get hep b immunisation in nigeria.\",\n",
       " 'Fair enough, anything going on?',\n",
       " \"Yeah hopefully, if tyler can't do it I could maybe ask around a bit\",\n",
       " \"U don't know how stubborn I am. I didn't even want to go to the hospital. I kept telling Mark I'm not a weak sucker. Hospitals are for weak suckers.\",\n",
       " 'What you thinked about me. First time you saw me in class.',\n",
       " 'A gram usually runs like  &lt;#&gt; , a half eighth is smarter though and gets you almost a whole second gram for  &lt;#&gt;',\n",
       " \"K fyi x has a ride early tomorrow morning but he's crashing at our place tonight\",\n",
       " 'Wow. I never realized that you were so embarassed by your accomodations. I thought you liked it, since i was doing the best i could and you always seemed so happy about \"the cave\". I\\'m sorry I didn\\'t and don\\'t have more to give. I\\'m sorry i offered. I\\'m sorry your room was so embarassing.',\n",
       " 'SMS. ac Sptv: The New Jersey Devils and the Detroit Red Wings play Ice Hockey. Correct or Incorrect? End? Reply END SPTV',\n",
       " 'Do you know what Mallika Sherawat did yesterday? Find out now @  &lt;URL&gt;',\n",
       " 'Congrats! 1 year special cinema pass for 2 is yours. call 09061209465 now! C Suprman V, Matrix3, StarWars3, etc all 4 FREE! bx420-ip4-5we. 150pm. Dont miss out! ',\n",
       " \"Sorry, I'll call later in meeting.\",\n",
       " 'Tell where you reached',\n",
       " 'Yes..gauti and sehwag out of odi series.',\n",
       " \"Your gonna have to pick up a $1 burger for yourself on your way home. I can't even move. Pain is killing me.\",\n",
       " 'Ha ha ha good joke. Girls are situation seekers.',\n",
       " 'Its a part of checking IQ',\n",
       " 'Sorry my roommates took forever, it ok if I come by now?',\n",
       " 'Ok lar i double check wif da hair dresser already he said wun cut v short. He said will cut until i look nice.',\n",
       " 'As a valued customer, I am pleased to advise you that following recent review of your Mob No. you are awarded with a £1500 Bonus Prize, call 09066364589',\n",
       " 'Today is \"song dedicated day..\" Which song will u dedicate for me? Send this to all ur valuable frnds but first rply me...',\n",
       " 'Urgent UR awarded a complimentary trip to EuroDisinc Trav, Aco&Entry41 Or £1000. To claim txt DIS to 87121 18+6*£1.50(moreFrmMob. ShrAcomOrSglSuplt)10, LS1 3AJ',\n",
       " 'Did you hear about the new \"Divorce Barbie\"? It comes with all of Ken\\'s stuff!',\n",
       " 'I plane to give on this month end.',\n",
       " 'Wah lucky man... Then can save money... Hee...',\n",
       " 'Finished class where are you.',\n",
       " 'HI BABE IM AT HOME NOW WANNA DO SOMETHING? XX',\n",
       " 'K..k:)where are you?how did you performed?',\n",
       " 'U can call me now...',\n",
       " 'I am waiting machan. Call me once you free.',\n",
       " 'Thats cool. i am a gentleman and will treat you with dignity and respect.',\n",
       " 'I like you peoples very much:) but am very shy pa.',\n",
       " 'Does not operate after  &lt;#&gt;  or what',\n",
       " \"Its not the same here. Still looking for a job. How much do Ta's earn there.\",\n",
       " \"Sorry, I'll call later\",\n",
       " 'K. Did you call me just now ah? ',\n",
       " 'Ok i am on the way to home hi hi',\n",
       " 'You will be in the place of that man',\n",
       " 'Yup next stop.',\n",
       " \"I call you later, don't have network. If urgnt, sms me.\",\n",
       " \"For real when u getting on yo? I only need 2 more tickets and one more jacket and I'm done. I already used all my multis.\",\n",
       " \"Yes I started to send requests to make it but pain came back so I'm back in bed. Double coins at the factory too. I gotta cash in all my nitros.\",\n",
       " \"I'm really not up to it still tonight babe\",\n",
       " 'Ela kano.,il download, come wen ur free..',\n",
       " 'Yeah do! Don‘t stand to close tho- you‘ll catch something!',\n",
       " \"Sorry to be a pain. Is it ok if we meet another night? I spent late afternoon in casualty and that means i haven't done any of y stuff42moro and that includes all my time sheets and that. Sorry. \",\n",
       " 'Smile in Pleasure Smile in Pain Smile when trouble pours like Rain Smile when sum1 Hurts U Smile becoz SOMEONE still Loves to see u Smiling!!',\n",
       " 'Please call our customer service representative on 0800 169 6031 between 10am-9pm as you have WON a guaranteed £1000 cash or £5000 prize!',\n",
       " 'Havent planning to buy later. I check already lido only got 530 show in e afternoon. U finish work already?',\n",
       " 'Your free ringtone is waiting to be collected. Simply text the password \"MIX\" to 85069 to verify. Get Usher and Britney. FML, PO Box 5249, MK17 92H. 450Ppw 16',\n",
       " 'Watching telugu movie..wat abt u?',\n",
       " 'i see. When we finish we have loads of loans to pay',\n",
       " 'Hi. Wk been ok - on hols now! Yes on for a bit of a run. Forgot that i have hairdressers appointment at four so need to get home n shower beforehand. Does that cause prob for u?\"',\n",
       " 'I see a cup of coffee animation',\n",
       " \"Please don't text me anymore. I have nothing else to say.\",\n",
       " 'Okay name ur price as long as its legal! Wen can I pick them up? Y u ave x ams xx',\n",
       " \"I'm still looking for a car to buy. And have not gone 4the driving test yet.\",\n",
       " \"As per your request 'Melle Melle (Oru Minnaminunginte Nurungu Vettam)' has been set as your callertune for all Callers. Press *9 to copy your friends Callertune\",\n",
       " \"wow. You're right! I didn't mean to do that. I guess once i gave up on boston men and changed my search location to nyc, something changed. Cuz on my signin page it still says boston.\",\n",
       " 'Umma my life and vava umma love you lot dear',\n",
       " 'Thanks a lot for your wishes on my birthday. Thanks you for making my birthday truly memorable.',\n",
       " \"Aight, I'll hit you up when I get some cash\",\n",
       " \"How would my ip address test that considering my computer isn't a minecraft server\",\n",
       " 'I know! Grumpy old people. My mom was like you better not be lying. Then again I am always the one to play jokes...',\n",
       " \"Dont worry. I guess he's busy.\",\n",
       " 'What is the plural of the noun research?',\n",
       " 'Going for dinner.msg you after.',\n",
       " \"I'm ok wif it cos i like 2 try new things. But i scared u dun like mah. Cos u said not too loud.\",\n",
       " 'GENT! We are trying to contact you. Last weekends draw shows that you won a £1000 prize GUARANTEED. Call 09064012160. Claim Code K52. Valid 12hrs only. 150ppm',\n",
       " \"Wa, ur openin sentence very formal... Anyway, i'm fine too, juz tt i'm eatin too much n puttin on weight...Haha... So anythin special happened?\",\n",
       " \"As I entered my cabin my PA said, '' Happy B'day Boss !!''. I felt special. She askd me 4 lunch. After lunch she invited me to her apartment. We went there.\",\n",
       " 'You are a winner U have been specially selected 2 receive £1000 or a 4* holiday (flights inc) speak to a live operator 2 claim 0871277810910p/min (18+) ',\n",
       " 'Goodo! Yes we must speak friday - egg-potato ratio for tortilla needed! ',\n",
       " \"Hmm...my uncle just informed me that he's paying the school directly. So pls buy food.\",\n",
       " 'PRIVATE! Your 2004 Account Statement for 07742676969 shows 786 unredeemed Bonus Points. To claim call 08719180248 Identifier Code: 45239 Expires',\n",
       " 'URGENT! Your Mobile No. was awarded £2000 Bonus Caller Prize on 5/9/03 This is our final try to contact U! Call from Landline 09064019788 BOX42WR29C, 150PPM',\n",
       " 'here is my new address -apples&pairs&all that malarky',\n",
       " 'Todays Voda numbers ending 7548 are selected to receive a $350 award. If you have a match please call 08712300220 quoting claim code 4041 standard rates app',\n",
       " 'I am going to sao mu today. Will be done only at 12 ',\n",
       " \"Ü predict wat time ü'll finish buying?\",\n",
       " 'Good stuff, will do.',\n",
       " \"Just so that you know,yetunde hasn't sent money yet. I just sent her a text not to bother sending. So its over, you dont have to involve yourself in anything. I shouldn't have imposed anything on you in the first place so for that, i apologise.\",\n",
       " 'Are you there in room.',\n",
       " 'HEY GIRL. HOW R U? HOPE U R WELL ME AN DEL R BAK! AGAIN LONG TIME NO C! GIVE ME A CALL SUM TIME FROM LUCYxx',\n",
       " 'K..k:)how much does it cost?',\n",
       " \"I'm home.\",\n",
       " 'Dear, will call Tmorrow.pls accomodate.',\n",
       " 'First answer my question.',\n",
       " 'Sunshine Quiz Wkly Q! Win a top Sony DVD player if u know which country the Algarve is in? Txt ansr to 82277. £1.50 SP:Tyrone',\n",
       " \"Want 2 get laid tonight? Want real Dogging locations sent direct 2 ur mob? Join the UK's largest Dogging Network bt Txting GRAVEL to 69888! Nt. ec2a. 31p.msg@150p\",\n",
       " \"I only haf msn. It's yijue@hotmail.com\",\n",
       " 'He is there. You call and meet him',\n",
       " 'No no. I will check all rooms befor activities',\n",
       " \"You'll not rcv any more msgs from the chat svc. For FREE Hardcore services text GO to: 69988 If u get nothing u must Age Verify with yr network & try again\",\n",
       " 'Got c... I lazy to type... I forgot ü in lect... I saw a pouch but like not v nice...',\n",
       " \"K, text me when you're on the way\",\n",
       " 'Sir, Waiting for your mail.',\n",
       " 'A swt thought: \"Nver get tired of doing little things 4 lovable persons..\" Coz..somtimes those little things occupy d biggest part in their Hearts.. Gud ni8',\n",
       " 'I know you are. Can you pls open the back?',\n",
       " 'Yes see ya not on the dot',\n",
       " 'Whats the staff name who is taking class for us?',\n",
       " \"FreeMsg Why haven't you replied to my text? I'm Randy, sexy, female and live local. Luv to hear from u. Netcollex Ltd 08700621170150p per msg reply Stop to end\",\n",
       " 'Ummma.will call after check in.our life will begin from qatar so pls pray very hard.',\n",
       " 'K..i deleted my contact that why?',\n",
       " 'Sindu got job in birla soft ..',\n",
       " \"The wine is flowing and i'm i have nevering..\",\n",
       " 'Yup i thk cine is better cos no need 2 go down 2 plaza mah.',\n",
       " 'Ok... Ur typical reply...',\n",
       " \"As per your request 'Melle Melle (Oru Minnaminunginte Nurungu Vettam)' has been set as your callertune for all Callers. Press *9 to copy your friends Callertune\",\n",
       " 'You are everywhere dirt, on the floor, the windows, even on my shirt. And sometimes when i open my mouth, you are all that comes flowing out. I dream of my world without you, then half my chores are out too. A time of joy for me, lots of tv shows i.ll see. But i guess like all things you just must exist, like rain, hail and mist, and when my time here is done, you and i become one.',\n",
       " 'Aaooooright are you at work?',\n",
       " \"I'm leaving my house now...\",\n",
       " 'Hello, my love. What are you doing? Did you get to that interview today? Are you you happy? Are you being a good boy? Do you think of me?Are you missing me ?',\n",
       " 'Customer service annoncement. You have a New Years delivery waiting for you. Please call 07046744435 now to arrange delivery',\n",
       " 'You are a winner U have been specially selected 2 receive £1000 cash or a 4* holiday (flights inc) speak to a live operator 2 claim 0871277810810',\n",
       " \"Keep yourself safe for me because I need you and I miss you already and I envy everyone that see's you in real life\",\n",
       " 'New car and house for my parents.:)i have only new job in hand:)',\n",
       " \"I'm so in love with you. I'm excited each day i spend with you. You make me so happy.\",\n",
       " '-PLS STOP bootydelious (32/F) is inviting you to be her friend. Reply YES-434 or NO-434 See her: www.SMS.ac/u/bootydelious STOP? Send STOP FRND to 62468',\n",
       " 'BangBabes Ur order is on the way. U SHOULD receive a Service Msg 2 download UR content. If U do not, GoTo wap. bangb. tv on UR mobile internet/service menu',\n",
       " 'I place all ur points on e cultures module already.',\n",
       " 'URGENT! We are trying to contact you. Last weekends draw shows that you have won a £900 prize GUARANTEED. Call 09061701939. Claim code S89. Valid 12hrs only',\n",
       " \"Hi frnd, which is best way to avoid missunderstding wit our beloved one's?\",\n",
       " 'Great escape. I fancy the bridge but needs her lager. See you tomo ',\n",
       " 'Yes :)it completely in out of form:)clark also utter waste.',\n",
       " 'Sir, I need AXIS BANK account no and bank address.',\n",
       " 'Hmmm.. Thk sure got time to hop ard... Ya, can go 4 free abt... Muz call u to discuss liao... ',\n",
       " 'What time you coming down later? ',\n",
       " 'Bloody hell, cant believe you forgot my surname Mr . Ill give u a clue, its spanish and begins with m... ',\n",
       " \"Well, i'm gonna finish my bath now. Have a good...fine night.\",\n",
       " \"Let me know when you've got the money so carlos can make the call\",\n",
       " 'U still going to the mall?',\n",
       " \"Turns out my friends are staying for the whole show and won't be back til ~ &lt;#&gt; , so feel free to go ahead and smoke that $ &lt;#&gt;  worth\",\n",
       " 'Text her. If she doesnt reply let me know so i can have her log in',\n",
       " \"Hi! You just spoke to MANEESHA V. We'd like to know if you were satisfied with the experience. Reply Toll Free with Yes or No.\",\n",
       " 'You lifted my hopes with the offer of money. I am in need. Especially when the end of the month approaches and it hurts my studying. Anyways have a gr8 weekend',\n",
       " 'Lol no. U can trust me.',\n",
       " 'ok. I am a gentleman and will treat you with dignity and respect.',\n",
       " 'He will, you guys close?',\n",
       " 'Going on nothing great.bye',\n",
       " \"Hello handsome ! Are you finding that job ? Not being lazy ? Working towards getting back that net for mummy ? Where's my boytoy now ? Does he miss me ?\",\n",
       " 'Haha awesome, be there in a minute',\n",
       " 'Please call our customer service representative on FREEPHONE 0808 145 4742 between 9am-11pm as you have WON a guaranteed £1000 cash or £5000 prize!',\n",
       " 'Have you got Xmas radio times. If not i will get it now',\n",
       " 'I jus reached home. I go bathe first. But my sis using net tell u when she finishes k...',\n",
       " 'Are you unique enough? Find out from 30th August. www.areyouunique.co.uk',\n",
       " \"I'm sorry. I've joined the league of people that dont keep in touch. You mean a great deal to me. You have been a friend at all times even at great personal cost. Do have a great week.|\",\n",
       " 'Hi :)finally i completed the course:)',\n",
       " 'It will stop on itself. I however suggest she stays with someone that will be able to give ors for every stool.',\n",
       " \"How are you doing? Hope you've settled in for the new school year. Just wishin you a gr8 day\",\n",
       " 'Gud mrng dear hav a nice day',\n",
       " 'Did u got that persons story',\n",
       " 'is your hamster dead? Hey so tmr i meet you at 1pm orchard mrt? ',\n",
       " 'Hi its Kate how is your evening? I hope i can see you tomorrow for a bit but i have to bloody babyjontet! Txt back if u can. :) xxx',\n",
       " 'Found it, ENC  &lt;#&gt; , where you at?',\n",
       " 'I sent you  &lt;#&gt;  bucks',\n",
       " 'Hello darlin ive finished college now so txt me when u finish if u can love Kate xxx',\n",
       " 'Your account has been refilled successfully by INR  &lt;DECIMAL&gt; . Your KeralaCircle prepaid account balance is Rs  &lt;DECIMAL&gt; . Your Transaction ID is KR &lt;#&gt; .',\n",
       " 'Goodmorning sleeping ga.',\n",
       " 'U call me alter at 11 ok.',\n",
       " 'Ü say until like dat i dun buy ericsson oso cannot oredi lar...',\n",
       " \"As I entered my cabin my PA said, '' Happy B'day Boss !!''. I felt special. She askd me 4 lunch. After lunch she invited me to her apartment. We went there.\",\n",
       " 'Aight yo, dats straight dogg',\n",
       " 'You please give us connection today itself before  &lt;DECIMAL&gt;  or refund the bill',\n",
       " 'Both :) i shoot big loads so get ready!',\n",
       " \"What's up bruv, hope you had a great break. Do have a rewarding semester.\",\n",
       " 'Home so we can always chat',\n",
       " 'K:)k:)good:)study well.',\n",
       " 'Yup... How ü noe leh...',\n",
       " 'Sounds great! Are you home now?',\n",
       " 'Finally the match heading towards draw as your prediction.',\n",
       " \"Tired. I haven't slept well the past few nights.\",\n",
       " 'Easy ah?sen got selected means its good..',\n",
       " 'I have to take exam with march 3',\n",
       " \"Yeah you should. I think you can use your gt atm now to register. Not sure but if there's anyway i can help let me know. But when you do be sure you are ready.\",\n",
       " 'Ok no prob. Take ur time.',\n",
       " 'There is os called ubandu which will run without installing in hard disk...you can use that os to copy the important files in system and give it to repair shop..',\n",
       " \"Sorry, I'll call later\",\n",
       " 'U say leh... Of course nothing happen lar. Not say v romantic jus a bit only lor. I thk e nite scenery not so nice leh.',\n",
       " '500 New Mobiles from 2004, MUST GO! Txt: NOKIA to No: 89545 & collect yours today!From ONLY £1 www.4-tc.biz 2optout 087187262701.50gbp/mtmsg18',\n",
       " 'Would really appreciate if you call me. Just need someone to talk to.',\n",
       " 'Will u meet ur dream partner soon? Is ur career off 2 a flyng start? 2 find out free, txt HORO followed by ur star sign, e. g. HORO ARIES',\n",
       " 'Hey company elama po mudyadhu.',\n",
       " 'Life is more strict than teacher... Bcoz Teacher teaches lesson &amp; then conducts exam, But Life first conducts Exam &amp; then teaches Lessons. Happy morning. . .',\n",
       " 'Dear good morning now only i am up',\n",
       " 'Get down in gandhipuram and walk to cross cut road. Right side &lt;#&gt; street road and turn at first right.',\n",
       " 'Dear we are going to our rubber place',\n",
       " \"Sorry battery died, yeah I'm here\",\n",
       " 'Yes:)here tv is always available in work place..',\n",
       " 'Text & meet someone sexy today. U can find a date or even flirt its up to U. Join 4 just 10p. REPLY with NAME & AGE eg Sam 25. 18 -msg recd@thirtyeight pence',\n",
       " 'I have printed it oh. So  &lt;#&gt;  come upstairs',\n",
       " 'Or ill be a little closer like at the bus stop on the same street',\n",
       " 'Where are you?when wil you reach here?',\n",
       " \"New Theory: Argument wins d SITUATION, but loses the PERSON. So dont argue with ur friends just.. . . . kick them &amp; say, I'm always correct.!\",\n",
       " 'U 447801259231 have a secret admirer who is looking 2 make contact with U-find out who they R*reveal who thinks UR so special-call on 09058094597',\n",
       " 'Tomarrow final hearing on my laptop case so i cant.',\n",
       " 'PLEASSSSSSSEEEEEE TEL ME V AVENT DONE SPORTSx',\n",
       " 'Okay. No no, just shining on. That was meant to be signing, but that sounds better.',\n",
       " \"Although i told u dat i'm into baig face watches now but i really like e watch u gave cos it's fr u. Thanx 4 everything dat u've done today, i'm touched...\",\n",
       " \"U don't remember that old commercial?\",\n",
       " \"Too late. I said i have the website. I didn't i have or dont have the slippers\",\n",
       " 'I asked you to call him now ok',\n",
       " 'Kallis wont bat in 2nd innings.',\n",
       " 'It didnt work again oh. Ok goodnight then. I.ll fix and have it ready by the time you wake up. You are very dearly missed have a good night sleep.',\n",
       " 'Congratulations ur awarded 500 of CD vouchers or 125gift guaranteed & Free entry 2 100 wkly draw txt MUSIC to 87066 TnCs www.Ldew.com1win150ppmx3age16',\n",
       " 'Ranjith cal drpd Deeraj and deepak 5min hold',\n",
       " 'Wen ur lovable bcums angry wid u, dnt take it seriously.. Coz being angry is d most childish n true way of showing deep affection, care n luv!.. kettoda manda... Have nice day da.',\n",
       " 'What you doing?how are you?',\n",
       " 'Ups which is 3days also, and the shipping company that takes 2wks. The other way is usps which takes a week but when it gets to lag you may have to bribe nipost to get your stuff.',\n",
       " \"I'm back, lemme know when you're ready\",\n",
       " \"Don't necessarily expect it to be done before you get back though because I'm just now headin out\",\n",
       " 'Mmm so yummy babe ... Nice jolt to the suzy',\n",
       " 'Where are you lover ? I need you ...',\n",
       " 'We tried to contact you re your reply to our offer of a Video Handset? 750 anytime networks mins? UNLIMITED TEXT? Camcorder? Reply or call 08000930705 NOW',\n",
       " 'I‘m parked next to a MINI!!!! When are you coming in today do you think?',\n",
       " 'Yup',\n",
       " \"Anyway i'm going shopping on my own now. Cos my sis not done yet. Dun disturb u liao.\",\n",
       " 'MY NO. IN LUTON 0125698789 RING ME IF UR AROUND! H*',\n",
       " 'Hey I am really horny want to chat or see me naked text hot to 69698 text charged at 150pm to unsubscribe text stop 69698',\n",
       " 'Why you Dint come with us.',\n",
       " 'Same. Wana plan a trip sometme then',\n",
       " 'Not sure yet, still trying to get a hold of him',\n",
       " 'Ur ringtone service has changed! 25 Free credits! Go to club4mobiles.com to choose content now! Stop? txt CLUB STOP to 87070. 150p/wk Club4 PO Box1146 MK45 2WT',\n",
       " 'The evo. I just had to download flash. Jealous?',\n",
       " 'Ringtone Club: Get the UK singles chart on your mobile each week and choose any top quality ringtone! This message is free of charge.',\n",
       " \"Come to mu, we're sorting out our narcotics situation\",\n",
       " 'Night has ended for another day, morning has come in a special way. May you smile like the sunny rays and leaves your worries at the blue blue bay.',\n",
       " 'HMV BONUS SPECIAL 500 pounds of genuine HMV vouchers to be won. Just answer 4 easy questions. Play Now! Send HMV to 86688 More info:www.100percent-real.com',\n",
       " 'Usf I guess, might as well take 1 car',\n",
       " 'No objection. My bf not coming.',\n",
       " 'Thanx...',\n",
       " 'Tell rob to mack his gf in the theater',\n",
       " \"Awesome, I'll see you in a bit\",\n",
       " 'Just sent it. So what type of food do you like?',\n",
       " 'All done? All handed in? Celebrations in full swing yet?',\n",
       " 'You got called a tool?',\n",
       " 'Wen u miss someone, the person is definitely special for u..... But if the person is so special, why to miss them, just Keep-in-touch gdeve..',\n",
       " 'Ok. I asked for money how far',\n",
       " 'Okie...',\n",
       " \"Yeah I think my usual guy's still passed out from last night, if you get ahold of anybody let me know and I'll throw down\",\n",
       " 'K, I might come by tonight then if my class lets out early',\n",
       " 'Ok..',\n",
       " 'hi baby im cruisin with my girl friend what r u up 2? give me a call in and hour at home if thats alright or fone me on this fone now love jenny xxx',\n",
       " 'My life Means a lot to me, Not because I love my life, But because I love the people in my life, The world calls them friends, I call them my World:-).. Ge:-)..',\n",
       " 'Dear,shall mail tonite.busy in the street,shall update you tonite.things are looking ok.varunnathu edukkukayee raksha ollu.but a good one in real sense.',\n",
       " 'Hey you told your name to gautham ah?',\n",
       " 'Haf u found him? I feel so stupid da v cam was working.',\n",
       " 'Oops. 4 got that bit.',\n",
       " 'Are you this much buzy',\n",
       " 'I accidentally deleted the message. Resend please.',\n",
       " \"T-Mobile customer you may now claim your FREE CAMERA PHONE upgrade & a pay & go sim card for your loyalty. Call on 0845 021 3680.Offer ends 28thFeb.T&C's apply\",\n",
       " \"Unless it's a situation where YOU GO GURL would be more appropriate\",\n",
       " 'Hurt me... Tease me... Make me cry... But in the end of my life when i die plz keep one rose on my grave and say STUPID I MISS U.. HAVE A NICE DAY BSLVYL',\n",
       " 'I cant pick the phone right now. Pls send a message',\n",
       " \"Need a coffee run tomo?Can't believe it's that time of week already\",\n",
       " 'Awesome, I remember the last time we got somebody high for the first time with diesel :V',\n",
       " 'Shit that is really shocking and scary, cant imagine for a second. Def up for night out. Do u think there is somewhere i could crash for night, save on taxi?',\n",
       " 'Oh and by the way you do have more food in your fridge! Want to go out for a meal tonight? ',\n",
       " 'He is a womdarfull actor',\n",
       " 'SMS. ac Blind Date 4U!: Rodds1 is 21/m from Aberdeen, United Kingdom. Check Him out http://img. sms. ac/W/icmb3cktz8r7!-4 no Blind Dates send HIDE',\n",
       " 'Yup... From what i remb... I think should be can book... ',\n",
       " 'Jos ask if u wana meet up?',\n",
       " \"Lol yes. Our friendship is hanging on a thread cause u won't buy stuff.\",\n",
       " 'TheMob> Check out our newest selection of content, Games, Tones, Gossip, babes and sport, Keep your mobile fit and funky text WAP to 82468',\n",
       " \"Where are the garage keys? They aren't on the bookshelf\",\n",
       " 'Today is ACCEPT DAY..U Accept me as? Brother Sister Lover Dear1 Best1 Clos1 Lvblefrnd Jstfrnd Cutefrnd Lifpartnr Belovd Swtheart Bstfrnd No rply means enemy',\n",
       " 'Think ur smart ? Win £200 this week in our weekly quiz, text PLAY to 85222 now!T&Cs WinnersClub PO BOX 84, M26 3UZ. 16+. GBP1.50/week',\n",
       " \"He says he'll give me a call when his friend's got the money but that he's definitely buying before the end of the week\",\n",
       " 'Hi the way I was with u 2day, is the normal way&this is the real me. UR unique&I hope I know u 4 the rest of mylife. Hope u find wot was lost.',\n",
       " 'You made my day. Do have a great day too.',\n",
       " 'K.k:)advance happy pongal.',\n",
       " 'Hmmm... Guess we can go 4 kb n power yoga... Haha, dunno we can tahan power yoga anot... Thk got lo oso, forgot liao...',\n",
       " \"Not really dude, have no friends i'm afraid :(\",\n",
       " 'December only! Had your mobile 11mths+? You are entitled to update to the latest colour camera mobile for Free! Call The Mobile Update Co FREE on 08002986906',\n",
       " 'Coffee cake, i guess...',\n",
       " 'Merry Christmas to you too babe, i love ya *kisses*',\n",
       " 'Hey... Why dont we just go watch x men and have lunch... Haha ',\n",
       " 'cud u tell ppl im gona b a bit l8 cos 2 buses hav gon past cos they were full & im still waitin 4 1. Pete x',\n",
       " \"That would be great. We'll be at the Guild. Could meet on Bristol road or somewhere - will get in touch over weekend. Our plans take flight! Have a good week\",\n",
       " 'No problem. How are you doing?',\n",
       " 'No calls..messages..missed calls',\n",
       " 'Hi da:)how is the todays class?',\n",
       " \"I'd say that's a good sign but, well, you know my track record at reading women\",\n",
       " \"Cool, text me when you're parked\",\n",
       " \"I'm reading the text i just sent you. Its meant to be a joke. So read it in that light\",\n",
       " 'K.k:)apo k.good movie.',\n",
       " 'Maybe i could get book out tomo then return it immediately ..? Or something.',\n",
       " 'Call Germany for only 1 pence per minute! Call from a fixed line via access number 0844 861 85 85. No prepayment. Direct access!',\n",
       " \"Any chance you might have had with me evaporated as soon as you violated my privacy by stealing my phone number from your employer's paperwork. Not cool at all. Please do not contact me again or I will report you to your supervisor.\",\n",
       " 'Valentines Day Special! Win over £1000 in our quiz and take your partner on the trip of a lifetime! Send GO to 83600 now. 150p/msg rcvd. CustCare:08718720201.',\n",
       " 'Ta-Daaaaa! I am home babe, are you still up ?',\n",
       " 'Cool. So how come you havent been wined and dined before?',\n",
       " 'Just sleeping..and surfing',\n",
       " \"Sorry, I'll call later\",\n",
       " 'U calling me right? Call my hand phone...',\n",
       " \"Ok that's great thanx a lot.\",\n",
       " 'I take it the post has come then! You must have 1000s of texts now! Happy reading. My one from wiv hello caroline at the end is my favourite. Bless him',\n",
       " 'Where u been hiding stranger?',\n",
       " 'Am not interested to do like that.',\n",
       " 'My sister cleared two round in birla soft yesterday.',\n",
       " 'Gudnite....tc...practice going on',\n",
       " 'Dis is yijue. I jus saw ur mail. In case huiming havent sent u my num. Dis is my num.',\n",
       " 'One small prestige problem now.',\n",
       " 'Fancy a shag? I do.Interested? sextextuk.com txt XXUK SUZY to 69876. Txts cost 1.50 per msg. TnCs on website. X',\n",
       " 'Just checking in on you. Really do miss seeing Jeremiah. Do have a great month',\n",
       " \"Nah can't help you there, I've never had an iphone\",\n",
       " \"If you're not in my car in an hour and a half I'm going apeshit\",\n",
       " \"TODAY is Sorry day.! If ever i was angry with you, if ever i misbehaved or hurt you? plz plz JUST SLAP URSELF Bcoz, Its ur fault, I'm basically GOOD\",\n",
       " 'Yo you guys ever figure out how much we need for alcohol? Jay and I are trying to figure out how much we can safely spend on weed',\n",
       " '&lt;#&gt; ISH MINUTES WAS 5 MINUTES AGO. WTF.',\n",
       " 'Thank You for calling.Forgot to say Happy Onam to you Sirji.I am fine here and remembered you when i met an insurance person.Meet You in Qatar Insha Allah.Rakhesh, ex Tata AIG who joined TISSCO,Tayseer.',\n",
       " 'Congratulations ur awarded 500 of CD vouchers or 125gift guaranteed & Free entry 2 100 wkly draw txt MUSIC to 87066 TnCs www.Ldew.com1win150ppmx3age16',\n",
       " 'Ur cash-balance is currently 500 pounds - to maximize ur cash-in now send CASH to 86688 only 150p/msg. CC: 08708800282 HG/Suite342/2Lands Row/W1J6HL',\n",
       " \"I'm an actor. When i work, i work in the evening and sleep late. Since i'm unemployed at the moment, i ALWAYS sleep late. When you're unemployed, every day is saturday.\",\n",
       " 'Hello! Just got here, st andrews-boy its a long way! Its cold. I will keep you posted',\n",
       " 'Ha ha cool cool chikku chikku:-):-DB-)',\n",
       " 'Oh ok no prob..',\n",
       " \"Check audrey's status right now\",\n",
       " 'Busy here. Trying to finish for new year. I am looking forward to finally meeting you...',\n",
       " 'Good afternoon sunshine! How dawns that day ? Are we refreshed and happy to be alive? Do we breathe in the air and smile ? I think of you, my love ... As always',\n",
       " 'Well i know Z will take care of me. So no worries.',\n",
       " 'Update_Now - Xmas Offer! Latest Motorola, SonyEricsson & Nokia & FREE Bluetooth! Double Mins & 1000 Txt on Orange. Call MobileUpd8 on 08000839402 or call2optout/F4Q=',\n",
       " 'Here is your discount code RP176781. To stop further messages reply stop. www.regalportfolio.co.uk. Customer Services 08717205546',\n",
       " 'Wat uniform? In where get?',\n",
       " \"Cool, text me when you're ready\",\n",
       " 'Hello my boytoy ... Geeee I miss you already and I just woke up. I wish you were here in bed with me, cuddling me. I love you ...',\n",
       " 'I will spoil you in bed as well :)',\n",
       " \"I'm going for bath will msg you next  &lt;#&gt;  min..\",\n",
       " 'I cant keep talking to people if am not sure i can pay them if they agree to price. So pls tell me what you want to really buy and how much you are willing to pay',\n",
       " 'Thanks for your Ringtone Order, Reference T91. You will be charged GBP 4 per week. You can unsubscribe at anytime by calling customer services on 09057039994',\n",
       " 'Can you say what happen',\n",
       " \"You could have seen me..i did't recognise you Face.:)\",\n",
       " \"Well there's not a lot of things happening in Lindsay on New years *sighs* Some bars in Ptbo and the blue heron has something going\",\n",
       " 'Keep my payasam there if rinu brings',\n",
       " 'I taught that Ranjith sir called me. So only i sms like that. Becaus hes verifying about project. Prabu told today so only pa dont mistake me..',\n",
       " \"I guess that's why you re worried. You must know that there's a way the body repairs itself. And i'm quite sure you shouldn't worry. We'll take it slow. First the tests, they will guide when your ovulation is then just relax. Nothing you've said is a reason to worry but i.ll keep on followin you up.\",\n",
       " 'Yeah sure, give me a couple minutes to track down my wallet',\n",
       " 'Hey leave it. not a big deal:-) take care.',\n",
       " 'Hey i will be late ah... Meet you at 945+',\n",
       " 'Double mins and txts 4 6months FREE Bluetooth on Orange. Available on Sony, Nokia Motorola phones. Call MobileUpd8 on 08000839402 or call2optout/N9DX',\n",
       " 'It took Mr owl 3 licks',\n",
       " 'Customer place i will call you.',\n",
       " 'Mm that time you dont like fun',\n",
       " '4mths half price Orange line rental & latest camera phones 4 FREE. Had your phone 11mths ? Call MobilesDirect free on 08000938767 to update now! or2stoptxt',\n",
       " 'Yup having my lunch buffet now.. U eat already?',\n",
       " 'Huh so late... Fr dinner?',\n",
       " 'Hey so this sat are we going for the intro pilates only? Or the kickboxing too? ',\n",
       " 'Morning only i can ok.',\n",
       " 'Yes i think so. I am in office but my lap is in room i think thats on for the last few days. I didnt shut that down',\n",
       " 'Pick you up bout 7.30ish? What time are  and that going?',\n",
       " 'From here after The performance award is calculated every two month.not for current one month period..',\n",
       " 'Was actually sleeping and still might when u call back. So a text is gr8. You rock sis. Will send u a text wen i wake.',\n",
       " \"You are always putting your business out there. You put pictures of your ass on facebook. You are one of the most open people i've ever met. Why would i think a picture of your room would hurt you, make you feel violated.\",\n",
       " 'Good evening Sir, Al Salam Wahleykkum.sharing a happy news.By the grace of God, i got an offer from Tayseer,TISSCO and i joined.Hope you are fine.Inshah Allah,meet you sometime.Rakhesh,visitor from India.',\n",
       " 'Hmmm...k...but i want to change the field quickly da:-)i wanna get system administrator or network administrator..',\n",
       " 'FREE RINGTONE text FIRST to 87131 for a poly or text GET to 87131 for a true tone! Help? 0845 2814032 16 after 1st free, tones are 3x£150pw to e£nd txt stop',\n",
       " 'Dear how is chechi. Did you talk to her',\n",
       " 'The hair cream has not been shipped.',\n",
       " \"None of that's happening til you get here though\",\n",
       " 'Yep, the great loxahatchee xmas tree burning of  &lt;#&gt;  starts in an hour',\n",
       " 'Haha get used to driving to usf man, I know a lot of stoners',\n",
       " \"All was well until slightly disastrous class this pm with my fav darlings! Hope day off ok. Coffee wld be good as can't stay late tomorrow. Same time + place as always?\",\n",
       " 'Hello! Good week? Fancy a drink or something later?',\n",
       " 'Headin towards busetop',\n",
       " 'Message:some text missing* Sender:Name Missing* *Number Missing *Sent:Date missing *Missing U a lot thats y everything is missing sent via fullonsms.com',\n",
       " 'Come by our room at some point so we can iron out the plan for this weekend',\n",
       " 'Cos i want it to be your thing',\n",
       " \"Okies... I'll go yan jiu too... We can skip ard oso, go cine den go mrt one, blah blah blah... \",\n",
       " 'Bring home some Wendy =D',\n",
       " '100 dating service cal;l 09064012103 box334sk38ch',\n",
       " 'Whatsup there. Dont u want to sleep',\n",
       " 'Alright i have a new goal now',\n",
       " 'FREE entry into our £250 weekly competition just text the word WIN to 80086 NOW. 18 T&C www.txttowin.co.uk',\n",
       " \"Alright, I'll head out in a few minutes, text me where to meet you\",\n",
       " 'Send a logo 2 ur lover - 2 names joined by a heart. Txt LOVE NAME1 NAME2 MOBNO eg LOVE ADAM EVE 07123456789 to 87077 Yahoo! POBox36504W45WQ TxtNO 4 no ads 150p',\n",
       " \"Yes:)from last week itself i'm taking live call.\",\n",
       " 'Someone has contacted our dating service and entered your phone because they fancy you! To find out who it is call from a landline 09111032124 . PoBox12n146tf150p',\n",
       " 'Siva is in hostel aha:-.',\n",
       " 'URGENT! Your Mobile number has been awarded with a £2000 prize GUARANTEED. Call 09058094455 from land line. Claim 3030. Valid 12hrs only',\n",
       " 'Send this to ur friends and receive something about ur voice..... How is my speaking expression? 1.childish 2.naughty 3.Sentiment 4.rowdy 5.ful of attitude 6.romantic 7.shy 8.Attractive 9.funny  &lt;#&gt; .irritating  &lt;#&gt; .lovable. reply me..',\n",
       " \"Ok. She'll be ok. I guess\",\n",
       " 'aathi..where are you dear..',\n",
       " 'Any pain on urination any thing else?',\n",
       " '7 at esplanade.. Do ü mind giving me a lift cos i got no car today..',\n",
       " 'I wnt to buy a BMW car urgently..its vry urgent.but hv a shortage of  &lt;#&gt; Lacs.there is no source to arng dis amt. &lt;#&gt; lacs..thats my prob',\n",
       " 'At home watching tv lor.',\n",
       " 'Does she usually take fifteen fucking minutes to respond to a yes or no question',\n",
       " 'Congrats! Nokia 3650 video camera phone is your Call 09066382422 Calls cost 150ppm Ave call 3mins vary from mobiles 16+ Close 300603 post BCM4284 Ldn WC1N3XX',\n",
       " 'Booked ticket for pongal?',\n",
       " \"You available now? I'm like right around hillsborough &amp;  &lt;#&gt; th\",\n",
       " 'The message sent is askin for  &lt;#&gt; dollars. Shoul i pay  &lt;#&gt;  or  &lt;#&gt; ?',\n",
       " \"Ask g or iouri, I've told the story like ten times already\",\n",
       " 'How long does applebees fucking take',\n",
       " 'Hi hope u get this txt~journey hasnt been gd,now about 50 mins late I think.',\n",
       " 'But i have to. I like to have love and arrange.',\n",
       " 'Yes..he is really great..bhaji told kallis best cricketer after sachin in world:).very tough to get out.',\n",
       " 'You were supposed to wake ME up &gt;:(',\n",
       " 'Oic... I saw him too but i tot he din c me... I found a group liao...',\n",
       " \"Sorry, I'll call later\",\n",
       " 'HEY HEY WERETHE MONKEESPEOPLE SAY WE MONKEYAROUND! HOWDY GORGEOUS, HOWU DOIN? FOUNDURSELF A JOBYET SAUSAGE?LOVE JEN XXX',\n",
       " \"Sorry, my battery died, I can come by but I'm only getting a gram for now, where's your place?\",\n",
       " 'Well done, blimey, exercise, yeah, i kinda remember wot that is, hmm. ',\n",
       " 'I wont get concentration dear you know you are my mind and everything :-)',\n",
       " 'LOL ... Have you made plans for new years?',\n",
       " '10 min later k...',\n",
       " 'hanks lotsly!',\n",
       " 'Thanks for this hope you had a good day today',\n",
       " 'K:)k:)what are detail you want to transfer?acc no enough?',\n",
       " 'Ok i will tell her to stay out. Yeah its been tough but we are optimistic things will improve this month.',\n",
       " \"Loan for any purpose £500 - £75,000. Homeowners + Tenants welcome. Have you been previously refused? We can still help. Call Free 0800 1956669 or text back 'help'\",\n",
       " 'Si si. I think ill go make those oreo truffles.',\n",
       " 'LOOK AT AMY URE A BEAUTIFUL, INTELLIGENT WOMAN AND I LIKE U A LOT. I KNOW U DON\\x92T LIKE ME LIKE THAT SO DON\\x92T WORRY.',\n",
       " \"I hope you that's the result of being consistently intelligent and kind. Start asking him about practicum links and keep your ears open and all the best. ttyl\",\n",
       " '1.20 that call cost. Which i guess isnt bad. Miss ya, need ya, want ya, love ya',\n",
       " 'Going thru a very different feeling.wavering decisions and coping up with the same is the same individual.time will heal everything i believe.',\n",
       " 'Where did u go? My phone is gonna die you have to stay in here',\n",
       " 'Great. Never been better. Each day gives even more reasons to thank God',\n",
       " \"UpgrdCentre Orange customer, you may now claim your FREE CAMERA PHONE upgrade for your loyalty. Call now on 0207 153 9153. Offer ends 26th July. T&C's apply. Opt-out available\",\n",
       " \"Sorry, I'll call later ok bye\",\n",
       " 'Ok i am on the way to railway',\n",
       " 'great princess! I love giving and receiving oral. Doggy style is my fave position. How about you? I enjoy making love  &lt;#&gt;  times per night :)',\n",
       " \"They don't put that stuff on the roads to keep it from getting slippery over there?\",\n",
       " 'When are you going to ride your bike?',\n",
       " \"Yup, no need. I'll jus wait 4 e rain 2 stop.\",\n",
       " 'There are many company. Tell me the language.',\n",
       " 'okmail: Dear Dave this is your final notice to collect your 4* Tenerife Holiday or #5000 CASH award! Call 09061743806 from landline. TCs SAE Box326 CW25WX 150ppm',\n",
       " 'How long has it been since you screamed, princess?',\n",
       " 'Nothing. I meant that once the money enters your account here, the bank will remove its flat rate. Someone transfered  &lt;#&gt;  to my account and  &lt;#&gt; dollars got removed. So the banks differ and charges also differ.be sure you trust the 9ja person you are sending account details to cos...',\n",
       " \"Want 2 get laid tonight? Want real Dogging locations sent direct 2 ur Mob? Join the UK's largest Dogging Network by txting MOAN to 69888Nyt. ec2a. 31p.msg@150p\",\n",
       " \"Nice line said by a broken heart- Plz don't cum 1 more times infront of me... Other wise once again I ll trust U... Good 9t:)\",\n",
       " \"Ok I'm gonna head up to usf in like fifteen minutes\",\n",
       " 'Love you aathi..love u lot..',\n",
       " 'Tension ah?what machi?any problem?',\n",
       " \"K, can I pick up another 8th when you're done?\",\n",
       " \"When're you guys getting back? G said you were thinking about not staying for mcr\",\n",
       " 'Almost there, see u in a sec',\n",
       " 'Yo carlos, a few friends are already asking me about you, you working at all this weekend?',\n",
       " 'Watching tv lor...',\n",
       " 'Thank you baby! I cant wait to taste the real thing...',\n",
       " 'You should change your fb to jaykwon thuglyfe falconerf',\n",
       " 'If we win its really no 1 side for long time.',\n",
       " 'FREE MESSAGE Activate your 500 FREE Text Messages by replying to this message with the word FREE For terms & conditions, visit www.07781482378.com',\n",
       " 'Dear reached railway. What happen to you',\n",
       " 'Depends on quality. If you want the type i sent boye, faded glory, then about 6. If you want ralphs maybe 2',\n",
       " \"I think i've fixed it can you send a test message?\",\n",
       " \"Sorry man my account's dry or I would, if you want we could trade back half or I could buy some shit with my credit card\",\n",
       " 'Congrats! 1 year special cinema pass for 2 is yours. call 09061209465 now! C Suprman V, Matrix3, StarWars3, etc all 4 FREE! bx420-ip4-5we. 150pm. Dont miss out!',\n",
       " \"Sorry,in meeting I'll call later\",\n",
       " 'What class of  &lt;#&gt;  reunion?',\n",
       " 'Are you free now?can i call now?',\n",
       " 'Got meh... When?',\n",
       " 'Nope... Think i will go for it on monday... Sorry i replied so late',\n",
       " 'Some of them told accenture is not confirm. Is it true.',\n",
       " 'Kate jackson rec center before 7ish, right?',\n",
       " 'Dear i have reache room',\n",
       " 'Fighting with the world is easy, u either win or lose bt fightng with some1 who is close to u is dificult if u lose - u lose if u win - u still lose.',\n",
       " 'When can ü come out?',\n",
       " 'Check with nuerologist.',\n",
       " 'Lolnice. I went from a fish to ..water.?',\n",
       " \"+123 Congratulations - in this week's competition draw u have won the £1450 prize to claim just call 09050002311 b4280703. T&Cs/stop SMS 08718727868. Over 18 only 150ppm\",\n",
       " \"No it's waiting in e car dat's bored wat. Cos wait outside got nothing 2 do. At home can do my stuff or watch tv wat.\",\n",
       " 'Maybe westshore or hyde park village, the place near my house?',\n",
       " \"You should know now. So how's anthony. Are you bringing money. I've school fees to pay and rent and stuff like that. Thats why i need your help. A friend in need....|\",\n",
       " \"What's the significance?\",\n",
       " 'Your opinion about me? 1. Over 2. Jada 3. Kusruthi 4. Lovable 5. Silent 6. Spl character 7. Not matured 8. Stylish 9. Simple Pls reply..',\n",
       " \"8 at the latest, g's still there if you can scrounge up some ammo and want to give the new ak a try\",\n",
       " \"Prabha..i'm soryda..realy..frm heart i'm sory\",\n",
       " 'Lol ok your forgiven :)',\n",
       " 'No..jst change tat only..',\n",
       " 'You are guaranteed the latest Nokia Phone, a 40GB iPod MP3 player or a £500 prize! Txt word: COLLECT to No: 83355! IBHltd LdnW15H 150p/Mtmsgrcvd18+',\n",
       " 'S:)no competition for him.',\n",
       " 'Boltblue tones for 150p Reply POLY# or MONO# eg POLY3 1. Cha Cha Slide 2. Yeah 3. Slow Jamz 6. Toxic 8. Come With Me or STOP 4 more tones txt MORE',\n",
       " 'Your credits have been topped up for http://www.bubbletext.com Your renewal Pin is tgxxrz',\n",
       " 'That way transport is less problematic than on sat night. By the way, if u want to ask  n  to join my bday, feel free. But need to know definite nos as booking on fri. ',\n",
       " \"Usually the person is unconscious that's in children but in adults they may just behave abnormally. I.ll call you now\",\n",
       " \"But that's on ebay it might be less elsewhere.\",\n",
       " 'Shall i come to get pickle',\n",
       " 'Were gonna go get some tacos',\n",
       " \"That's very rude, you on campus?\",\n",
       " 'URGENT!: Your Mobile No. was awarded a £2,000 Bonus Caller Prize on 02/09/03! This is our 2nd attempt to contact YOU! Call 0871-872-9755 BOX95QU',\n",
       " \"Hi i won't b ard 4 christmas. But do enjoy n merry x'mas.\",\n",
       " \"Today's Offer! Claim ur £150 worth of discount vouchers! Text YES to 85023 now! SavaMob, member offers mobile! T Cs 08717898035. £3.00 Sub. 16 . Unsub reply X\",\n",
       " 'Yes! How is a pretty lady like you single?',\n",
       " 'You will recieve your tone within the next 24hrs. For Terms and conditions please see Channel U Teletext Pg 750',\n",
       " \"Jay says that you're a double-faggot\",\n",
       " 'PRIVATE! Your 2003 Account Statement for 07815296484 shows 800 un-redeemed S.I.M. points. Call 08718738001 Identifier Code 41782 Expires 18/11/04 ',\n",
       " 'What Today-sunday..sunday is holiday..so no work..',\n",
       " 'Gudnite....tc...practice going on',\n",
       " \"I'll be late...\",\n",
       " \"I've not called you in a while. This is hoping it was l8r malaria and that you know that we miss you guys. I miss Bani big, so pls give her my love especially. Have a great day.\",\n",
       " 'Good afternoon, my love! How goes that day ? I hope maybe you got some leads on a job. I think of you, boytoy and send you a passionate kiss from across the sea',\n",
       " 'Probably gonna be here for a while, see you later tonight &lt;)',\n",
       " \"Or maybe my fat fingers just press all these buttons and it doesn't know what to do.\",\n",
       " 'Ummmmmaah Many many happy returns of d day my dear sweet heart.. HAPPY BIRTHDAY dear',\n",
       " 'I am in tirupur da, once you started from office call me.',\n",
       " 'from www.Applausestore.com MonthlySubscription@50p/msg max6/month T&CsC web age16 2stop txt stop',\n",
       " \"A famous quote : when you develop the ability to listen to 'anything' unconditionally without losing your temper or self confidence, it means you are ......... 'MARRIED'\",\n",
       " 'But am going to college pa. What to do. are else ill come there it self. Pa.',\n",
       " '4 oclock at mine. Just to bash out a flat plan.',\n",
       " \"This girl does not stay in bed. This girl doesn't need recovery time. Id rather pass out while having fun then be cooped up in bed\",\n",
       " 'Then any special there?',\n",
       " \"I know but you need to get hotel now. I just got my invitation but i had to apologise. Cali is to sweet for me to come to some english bloke's weddin\",\n",
       " 'Sorry that took so long, omw now',\n",
       " 'Wait  &lt;#&gt;  min..',\n",
       " \"Ok give me 5 minutes I think I see her. BTW you're my alibi. You were cutting my hair the whole time.\",\n",
       " 'Imagine you finally get to sink into that bath after I have put you through your paces, maybe even having you eat me for a while before I left ... But also imagine the feel of that cage on your cock surrounded by the bath water, reminding you always who owns you ... Enjoy, my cuck',\n",
       " \"Hurry up, I've been weed-deficient for like three days\",\n",
       " \"Sure, if I get an acknowledgement from you that it's astoundingly tactless and generally faggy to demand a blood oath fo\",\n",
       " \"Ok. Every night take a warm bath drink a cup of milk and you'll see a work of magic. You still need to loose weight. Just so that you know\",\n",
       " 'I‘ll have a look at the frying pan in case it‘s cheap or a book perhaps. No that‘s silly a frying pan isn‘t likely to be a book',\n",
       " 'O. Well uv causes mutations. Sunscreen is like essential thesedays',\n",
       " 'Having lunch:)you are not in online?why?',\n",
       " 'I know that my friend already told that.',\n",
       " 'Hi Princess! Thank you for the pics. You are very pretty. How are you?',\n",
       " 'Aiyo... U always c our ex one... I dunno abt mei, she haven reply... First time u reply so fast... Y so lucky not workin huh, got bao by ur sugardad ah...gee.. ',\n",
       " \"Hi msg me:)i'm in office..\",\n",
       " \"Thanx 4 e brownie it's v nice...\",\n",
       " 'Geeeee ... I love you so much I can barely stand it',\n",
       " 'GENT! We are trying to contact you. Last weekends draw shows that you won a £1000 prize GUARANTEED. Call 09064012160. Claim Code K52. Valid 12hrs only. 150ppm ',\n",
       " \"Fuck babe ... I miss you already, you know ? Can't you let me send you some money towards your net ? I need you ... I want you ... I crave you ...\",\n",
       " 'Ill call u 2mrw at ninish, with my address that icky American freek wont stop callin me 2 bad Jen k eh?',\n",
       " 'Oooh bed ridden ey? What are YOU thinking of?',\n",
       " 'So anyways, you can just go to your gym or whatever, my love *smiles* I hope your ok and having a good day babe ... I miss you so much already',\n",
       " 'Love it! Daddy will make you scream with pleasure! I am going to slap your ass with my dick!',\n",
       " 'WOT U WANNA DO THEN MISSY?',\n",
       " 'Yar lor wait 4 my mum 2 finish sch then have lunch lor... I whole morning stay at home clean my room now my room quite clean... Hee...',\n",
       " 'Do you know where my lab goggles went',\n",
       " 'Can you open the door?',\n",
       " 'Waiting for your call.',\n",
       " 'Nope i waiting in sch 4 daddy... ',\n",
       " 'You have won ?1,000 cash or a ?2,000 prize! To claim, call09050000327',\n",
       " \"I'm tired of arguing with you about this week after week. Do what you want and from now on, i'll do the same.\",\n",
       " 'Ü wait 4 me in sch i finish ard 5..',\n",
       " 'our mobile number has won £5000, to claim calls us back or ring the claims hot line on 09050005321.',\n",
       " 'Arngd marriage is while u r walkin unfortuntly a snake bites u. bt love marriage is dancing in frnt of d snake &amp; sayin Bite me, bite me.',\n",
       " 'Huh so early.. Then ü having dinner outside izzit?',\n",
       " 'Ok anyway no need to change with what you said',\n",
       " 'We tried to contact you re your reply to our offer of 750 mins 150 textand a new video phone call 08002988890 now or reply for free delivery tomorrow',\n",
       " 'my ex-wife was not able to have kids. Do you want kids one day?',\n",
       " \"So how's scotland. Hope you are not over showing your JJC tendencies. Take care. Live the dream\",\n",
       " 'Tell them u have a headache and just want to use 1 hour of sick time.',\n",
       " \"I dun thk i'll quit yet... Hmmm, can go jazz ? Yogasana oso can... We can go meet em after our lessons den... \",\n",
       " 'Pete can you please ring meive hardly gotany credit',\n",
       " 'Ya srsly better than yi tho',\n",
       " \"I'm in a meeting, call me later at\",\n",
       " \"For ur chance to win a £250 wkly shopping spree TXT: SHOP to 80878. T's&C's www.txt-2-shop.com custcare 08715705022, 1x150p/wk\",\n",
       " 'You have been specially selected to receive a 2000 pound award! Call 08712402050 BEFORE the lines close. Cost 10ppm. 16+. T&Cs apply. AG Promo',\n",
       " 'PRIVATE! Your 2003 Account Statement for 07753741225 shows 800 un-redeemed S. I. M. points. Call 08715203677 Identifier Code: 42478 Expires 24/10/04',\n",
       " 'You still at grand prix?',\n",
       " 'I met you as a stranger and choose you as my friend. As long as the world stands, our friendship never ends. Lets be Friends forever!!! Gud nitz...',\n",
       " 'I am great! How are you?',\n",
       " 'Gud mrng dear have a nice day',\n",
       " 'You have an important customer service announcement. Call FREEPHONE 0800 542 0825 now!',\n",
       " 'Will do. Was exhausted on train this morning. Too much wine and pie. You sleep well too',\n",
       " \"I'm going out to buy mum's present ar.\",\n",
       " 'Mind blastin.. No more Tsunamis will occur from now on.. Rajnikant stopped swimming in Indian Ocean..:-D',\n",
       " \"If u sending her home first it's ok lor. I'm not ready yet.\",\n",
       " 'Speaking of does he have any cash yet?',\n",
       " 'Be happy there. I will come after noon',\n",
       " 'Meet after lunch la...',\n",
       " 'TaKe CaRE n gET WeLL sOOn',\n",
       " 'XCLUSIVE@CLUBSAISAI 2MOROW 28/5 SOIREE SPECIALE ZOUK WITH NICHOLS FROM PARIS.FREE ROSES 2 ALL LADIES !!! info: 07946746291/07880867867 ',\n",
       " 'what I meant to say is cant wait to see u again getting bored of this bridgwater banter',\n",
       " \"Neva mind it's ok..\",\n",
       " \"It's fine, imma get a drink or somethin. Want me to come find you?\",\n",
       " '22 days to kick off! For Euro2004 U will be kept up to date with the latest news and results daily. To be removed send GET TXT STOP to 83222',\n",
       " 'Its a valentine game. . . Send dis msg to all ur friends. .. If 5 answers r d same then someone really loves u. Ques- which colour suits me the best?rply me',\n",
       " 'I have many dependents',\n",
       " 'THANX4 TODAY CER IT WAS NICE 2 CATCH UP BUT WE AVE 2 FIND MORE TIME MORE OFTEN OH WELL TAKE CARE C U SOON.C',\n",
       " 'I called and said all to him:)then he have to choose this future.',\n",
       " 'Happy valentines day I know its early but i have hundreds of handsomes and beauties to wish. So i thought to finish off aunties and uncles 1st...',\n",
       " 'He like not v shock leh. Cos telling shuhui is like telling leona also. Like dat almost all know liao. He got ask me abt ur reaction lor.',\n",
       " 'For my family happiness..',\n",
       " 'I come n pick ü up... Come out immediately aft ur lesson...',\n",
       " 'Let there be snow. Let there be snow. This kind of weather brings ppl together so friendships can grow.',\n",
       " 'Dear we got  &lt;#&gt;  dollars hi hi',\n",
       " 'Good words.... But words may leave u in dismay many times.',\n",
       " \"MAKE SURE ALEX KNOWS HIS BIRTHDAY IS OVER IN FIFTEEN MINUTES AS FAR AS YOU'RE CONCERNED\",\n",
       " 'sorry, no, have got few things to do. may be in pub later.',\n",
       " \"Nah it's straight, if you can just bring bud or drinks or something that's actually a little more useful than straight cash\",\n",
       " \"Haha good to hear, I'm officially paid and on the market for an 8th\",\n",
       " 'How many licks does it take to get to the center of a tootsie pop?',\n",
       " 'Yup i thk they r e teacher said that will make my face look longer. Darren ask me not 2 cut too short.',\n",
       " 'New TEXTBUDDY Chat 2 horny guys in ur area 4 just 25p Free 2 receive Search postcode or at gaytextbuddy.com. TXT ONE name to 89693',\n",
       " 'Todays Vodafone numbers ending with 4882 are selected to a receive a £350 award. If your number matches call 09064019014 to receive your £350 award.',\n",
       " 'Please dont say like that. Hi hi hi',\n",
       " 'Thank u!',\n",
       " 'Oh that was a forwarded message. I thought you send that to me',\n",
       " 'Got it. Seventeen pounds for seven hundred ml – hope ok.',\n",
       " 'Dear Voucher Holder, 2 claim this weeks offer, at your PC go to http://www.e-tlp.co.uk/expressoffer Ts&Cs apply.2 stop texts txt STOP to 80062.',\n",
       " 'Me n him so funny...',\n",
       " 'Sweetheart, hope you are not having that kind of day! Have one with loads of reasons to smile. Biola',\n",
       " 'When ü login dat time... Dad fetching ü home now?',\n",
       " 'What will we do in the shower, baby?',\n",
       " 'I had askd u a question some hours before. Its answer',\n",
       " \"Well imma definitely need to restock before thanksgiving, I'll let you know when I'm out\",\n",
       " \" said kiss, kiss, i can't do the sound effects! He is a gorgeous man isn't he! Kind of person who needs a smile to brighten his day! \",\n",
       " 'Probably gonna swing by in a wee bit',\n",
       " 'Ya very nice. . .be ready on thursday',\n",
       " 'Allo! We have braved the buses and taken on the trains and triumphed. I mean we‘re in b‘ham. Have a jolly good rest of week',\n",
       " 'Watching cartoon, listening music &amp; at eve had to go temple &amp; church.. What about u?',\n",
       " 'Do you mind if I ask what happened? You dont have to say if it is uncomfortable.',\n",
       " 'PRIVATE! Your 2003 Account Statement for shows 800 un-redeemed S. I. M. points. Call 08715203694 Identifier Code: 40533 Expires 31/10/04',\n",
       " 'No prob. I will send to your email.',\n",
       " 'You have won ?1,000 cash or a ?2,000 prize! To claim, call09050000327. T&C: RSTM, SW7 3SS. 150ppm',\n",
       " 'Thats cool! Sometimes slow and gentle. Sonetimes rough and hard :)',\n",
       " \"I'm gonna say no. Sorry. I would but as normal am starting to panic about time. Sorry again! Are you seeing on Tuesday?\",\n",
       " 'Wait, do you know if wesleys in town? I bet she does hella drugs!',\n",
       " 'Fine i miss you very much.',\n",
       " 'Did u got that persons story',\n",
       " \"Tell them the drug dealer's getting impatient\",\n",
       " 'Sun cant come to earth but send luv as rays. cloud cant come to river but send luv as rain. I cant come to meet U, but can send my care as msg to U. Gud evng',\n",
       " 'You will be in the place of that man',\n",
       " 'It doesnt make sense to take it there unless its free. If you need to know more, wikipedia.com',\n",
       " '88800 and 89034 are premium phone services call 08718711108',\n",
       " \"Under the sea, there lays a rock. In the rock, there is an envelope. In the envelope, there is a paper. On the paper, there are 3 words... '\",\n",
       " \"Then mum's repent how?\",\n",
       " 'Sorry me going home first... Daddy come fetch ü later...',\n",
       " 'Leave it de:-). Start Prepare for next:-)..',\n",
       " 'Yes baby! We can study all the positions of the kama sutra ;)',\n",
       " 'En chikku nange bakra msg kalstiya..then had tea/coffee?',\n",
       " \"Carlos'll be here in a minute if you still need to buy\",\n",
       " 'This pay is  &lt;DECIMAL&gt;  lakhs:)',\n",
       " 'Have a good evening! Ttyl',\n",
       " 'Did u receive my msg?',\n",
       " 'Ho ho - big belly laugh! See ya tomo',\n",
       " 'SMS. ac sun0819 posts HELLO:\"You seem cool, wanted to say hi. HI!!!\" Stop? Send STOP to 62468',\n",
       " 'Get ur 1st RINGTONE FREE NOW! Reply to this msg with TONE. Gr8 TOP 20 tones to your phone every week just £1.50 per wk 2 opt out send STOP 08452810071 16',\n",
       " \"Ditto. And you won't have to worry about me saying ANYTHING to you anymore. Like i said last night, you do whatever you want and i'll do the same. Peace.\",\n",
       " \"I've got  &lt;#&gt; , any way I could pick up?\",\n",
       " 'I dont knw pa, i just drink milk..',\n",
       " 'Maybe?! Say hi to  and find out if  got his card. Great escape or wetherspoons? ',\n",
       " \"Piggy, r u awake? I bet u're still sleeping. I'm going 4 lunch now...\",\n",
       " \"Cause I'm not freaky lol\",\n",
       " \"Missed your call cause I was yelling at scrappy. Miss u. Can't wait for u to come home. I'm so lonely today.\",\n",
       " \"What is this 'hex' place you talk of? Explain!\",\n",
       " \"Ü log off 4 wat. It's sdryb8i\",\n",
       " 'Is xy going 4 e lunch?',\n",
       " \"Hi I'm sue. I am 20 years old and work as a lapdancer. I love sex. Text me live - I'm i my bedroom now. text SUE to 89555. By TextOperator G2 1DA 150ppmsg 18+\",\n",
       " 'I wanted to ask ü to wait 4 me to finish lect. Cos my lect finishes in an hour anyway.',\n",
       " 'Have you finished work yet? :)',\n",
       " 'Every King Was Once A Crying Baby And Every Great Building Was Once A Map.. Not Imprtant Where U r TODAY, BUT Where U Wil Reach TOMORW. Gud ni8',\n",
       " 'Dear,Me at cherthala.in case u r coming cochin pls call bfore u start.i shall also reach accordingly.or tell me which day u r coming.tmorow i am engaged ans its holiday.',\n",
       " 'Thanks love. But am i doing torch or bold.',\n",
       " '<Forwarded from 448712404000>Please CALL 08712404000 immediately as there is an urgent message waiting for you.',\n",
       " 'Was the farm open?',\n",
       " 'Sorry to trouble u again. Can buy 4d for my dad again? 1405, 1680, 1843. All 2 big 1 small, sat n sun. Thanx.',\n",
       " 'My sister in law, hope you are having a great month. Just saying hey. Abiola',\n",
       " 'Will purchase d stuff today and mail to you. Do you have a po box number?',\n",
       " 'Ah poop. Looks like ill prob have to send in my laptop to get fixed cuz it has a gpu problem',\n",
       " 'Good. Good job. I like entrepreneurs',\n",
       " \"Aight, you close by or still down around alex's place?\",\n",
       " 'meet you in corporation st outside gap … you can see how my mind is working!',\n",
       " 'Mum ask ü to buy food home...',\n",
       " 'K..u also dont msg or reply to his msg..',\n",
       " 'How much r ü willing to pay?',\n",
       " \"Sorry, I'll call later\",\n",
       " 'What is important is that you prevent dehydration by giving her enough fluids',\n",
       " 'Thats a bit weird, even ?- where is the do supposed to be happening? But good idea, sure they will be in pub!',\n",
       " \"True dear..i sat to pray evening and felt so.so i sms'd you in some time...\",\n",
       " \"I don't think I can get away for a trek that long with family in town, sorry\",\n",
       " 'So when do you wanna gym harri',\n",
       " 'Quite late lar... Ard 12 anyway i wun b drivin...',\n",
       " 'To review and KEEP the fantastic Nokia N-Gage game deck with Club Nokia, go 2 www.cnupdates.com/newsletter. unsubscribe from alerts reply with the word OUT',\n",
       " '4mths half price Orange line rental & latest camera phones 4 FREE. Had your phone 11mths+? Call MobilesDirect free on 08000938767 to update now! or2stoptxt T&Cs',\n",
       " 'Height of Confidence: All the Aeronautics professors wer calld &amp; they wer askd 2 sit in an aeroplane. Aftr they sat they wer told dat the plane ws made by their students. Dey all hurried out of d plane.. Bt only 1 didnt move... He said:\"if it is made by my students,this wont even start........ Datz confidence..',\n",
       " 'It just seems like weird timing that the night that all you and g want is for me to come smoke is the same day as when a shitstorm is attributed to me always coming over and making everyone smoke',\n",
       " '08714712388 between 10am-7pm Cost 10p',\n",
       " 'Save yourself the stress. If the person has a dorm account, just send your account details and the money will be sent to you.',\n",
       " 'He also knows about lunch menu only da. . I know',\n",
       " 'When i have stuff to sell i.ll tell you',\n",
       " '+449071512431 URGENT! This is the 2nd attempt to contact U!U have WON £1250 CALL 09071512433 b4 050703 T&CsBCM4235WC1N3XX. callcost 150ppm mobilesvary. max£7. 50',\n",
       " \"Book which lesson? then you msg me... I will call up after work or sth... I'm going to get specs. My membership is PX3748\",\n",
       " 'You have WON a guaranteed £1000 cash or a £2000 prize. To claim yr prize call our customer service representative on 08714712394 between 10am-7pm',\n",
       " 'Macha dont feel upset.i can assume your mindset.believe me one evening with me and i have some wonderful plans for both of us.LET LIFE BEGIN AGAIN.call me anytime',\n",
       " 'Oh is it? Send me the address',\n",
       " \"S'fine. Anytime. All the best with it.\",\n",
       " 'That is wondar full flim.',\n",
       " 'Ya even those cookies have jelly on them',\n",
       " 'The world is running and i am still.maybe all are feeling the same,so be it.or i have to admit,i am mad.then where is the correction?or let me call this is life.and keep running with the world,may be u r also running.lets run.',\n",
       " 'Got it! It looks scrumptious... daddy wants to eat you all night long!',\n",
       " \"Of cos can lar i'm not so ba dao ok... 1 pm lor... Y u never ask where we go ah... I said u would ask on fri but he said u will ask today...\",\n",
       " 'Alright omw, gotta change my order to a half8th',\n",
       " 'Exactly. Anyways how far. Is jide her to study or just visiting',\n",
       " 'Dunno y u ask me.',\n",
       " 'Email AlertFrom: Jeri StewartSize: 2KBSubject: Low-cost prescripiton drvgsTo listen to email call 123',\n",
       " \"No he didn't. Spring is coming early yay!\",\n",
       " \"Lol you won't feel bad when I use her money to take you out to a steak dinner =D\",\n",
       " 'Even u dont get in trouble while convincing..just tel him once or twice and just tel neglect his msgs dont c and read it..just dont reply',\n",
       " 'Leaving to qatar tonite in search of an opportunity.all went fast.pls add me in ur prayers dear.Rakhesh',\n",
       " 'Then why no one talking to me',\n",
       " 'Thanks for looking out for me. I really appreciate.',\n",
       " 'Hi. Customer Loyalty Offer:The NEW Nokia6650 Mobile from ONLY £10 at TXTAUCTION! Txt word: START to No: 81151 & get yours Now! 4T&Ctxt TC 150p/MTmsg',\n",
       " 'Wish i were with you now!',\n",
       " \"Haha mayb u're rite... U know me well. Da feeling of being liked by someone is gd lor. U faster go find one then all gals in our group attached liao.\",\n",
       " 'Yes i will be there. Glad you made it.',\n",
       " 'Do well :)all will for little time. Thing of good times ahead:',\n",
       " \"Just got up. have to be out of the room very soon. …. i hadn't put the clocks back til at 8 i shouted at everyone to get up and then realised it was 7. wahay. another hour in bed.\",\n",
       " 'Ok. There may be a free gym about.',\n",
       " 'Men like shorter ladies. Gaze up into his eyes.',\n",
       " 'Dunno he jus say go lido. Same time 930.',\n",
       " 'I promise to take good care of you, princess. I have to run now. Please send pics when you get a chance. Ttyl!',\n",
       " 'U are subscribed to the best Mobile Content Service in the UK for £3 per 10 days until you send STOP to 82324. Helpline 08706091795',\n",
       " \"Is there a reason we've not spoken this year? Anyways have a great week and all the best in your exam\",\n",
       " 'By monday next week. Give me the full gist',\n",
       " \"Do you realize that in about 40 years, we'll have thousands of old ladies running around with tattoos?\",\n",
       " 'You have an important customer service announcement from PREMIER.',\n",
       " 'Dont gimme that lip caveboy',\n",
       " 'When did you get to the library',\n",
       " \"Realy sorry-i don't recognise this number and am now confused :) who r u please?! \",\n",
       " 'So why didnt you holla?',\n",
       " 'Cant think of anyone with * spare room off * top of my head',\n",
       " 'Faith makes things possible,Hope makes things work,Love makes things beautiful,May you have all three this Christmas!Merry Christmas!',\n",
       " 'U should have made an appointment',\n",
       " \"Call me when you/carlos is/are here, my phone's vibrate is acting up and I might not hear texts\",\n",
       " 'Romantic Paris. 2 nights, 2 flights from £79 Book now 4 next year. Call 08704439680Ts&Cs apply.',\n",
       " 'We are at grandmas. Oh dear, u still ill? I felt Shit this morning but i think i am just hungover! Another night then. We leave on sat.',\n",
       " 'Urgent Ur £500 guaranteed award is still unclaimed! Call 09066368327 NOW closingdate04/09/02 claimcode M39M51 £1.50pmmorefrommobile2Bremoved-MobyPOBox734LS27YF',\n",
       " 'Nothing but we jus tot u would ask cos u ba gua... But we went mt faber yest... Yest jus went out already mah so today not going out... Jus call lor...',\n",
       " 'Wishing you and your family Merry \"X\" mas and HAPPY NEW Year in advance..',\n",
       " 'UR awarded a City Break and could WIN a £200 Summer Shopping spree every WK. Txt STORE to 88039 . SkilGme. TsCs087147403231Winawk!Age16 £1.50perWKsub',\n",
       " \"I'm nt goin, got somethin on, unless they meetin 4 dinner lor... Haha, i wonder who will go tis time...\",\n",
       " \"Sorry, I'll call later\",\n",
       " 'I cant pick the phone right now. Pls send a message',\n",
       " \"Lol I know! They're so dramatic. Schools already closed for tomorrow. Apparently we can't drive in the inch of snow were supposed to get.\",\n",
       " 'Not getting anywhere with this damn job hunting over here!',\n",
       " 'Lol! U drunkard! Just doing my hair at d moment. Yeah still up 4 tonight. Wats the plan? ',\n",
       " 'idc get over here, you are not weaseling your way out of this shit twice in a row',\n",
       " 'I wil be there with in  &lt;#&gt;  minutes. Got any space',\n",
       " 'Just sleeping..and surfing',\n",
       " 'Thanks for picking up the trash.',\n",
       " \"Why don't you go tell your friend you're not sure you want to live with him because he smokes too much then spend hours begging him to come smoke\",\n",
       " 'Hi its Kate it was lovely to see you tonight and ill phone you tomorrow. I got to sing and a guy gave me his card! xxx',\n",
       " 'Happy New year my dear brother. I really do miss you. Just got your number and decided to send you this text wishing you only happiness. Abiola',\n",
       " 'That means get the door',\n",
       " 'Your opinion about me? 1. Over 2. Jada 3. Kusruthi 4. Lovable 5. Silent 6. Spl character 7. Not matured 8. Stylish 9. Simple Pls reply..',\n",
       " 'Hmmm ... I thought we said 2 hours slave, not 3 ... You are late ... How should I punish you ?',\n",
       " 'Beerage?',\n",
       " 'You have an important customer service announcement from PREMIER. Call FREEPHONE 0800 542 0578 now!',\n",
       " 'Dont think so. It turns off like randomlly within 5min of opening',\n",
       " \"She was supposed to be but couldn't make it, she's still in town though\",\n",
       " 'It does it on its own. Most of the time it fixes my spelling. But sometimes it gets a completely diff word. Go figure',\n",
       " 'Ever thought about living a good life with a perfect partner? Just txt back NAME and AGE to join the mobile community. (100p/SMS)',\n",
       " '5 Free Top Polyphonic Tones call 087018728737, National Rate. Get a toppoly tune sent every week, just text SUBPOLY to 81618, £3 per pole. UnSub 08718727870.',\n",
       " 'Gud mrng dear hav a nice day',\n",
       " \"This is hoping you enjoyed your game yesterday. Sorry i've not been in touch but pls know that you are fondly bein thot off. Have a great week. Abiola\",\n",
       " 'All e best 4 ur driving tmr :-)',\n",
       " 'Y?WHERE U AT DOGBREATH? ITS JUST SOUNDING LIKE JAN C THAT\\x92S AL!!!!!!!!!',\n",
       " 'Omg I want to scream. I weighed myself and I lost more weight! Woohoo!',\n",
       " \"There generally isn't one. It's an uncountable noun - u in the dictionary. pieces of research?\",\n",
       " \"it's really getting me down just hanging around.\",\n",
       " \"Orange customer, you may now claim your FREE CAMERA PHONE upgrade for your loyalty. Call now on 0207 153 9996. Offer ends 14thMarch. T&C's apply. Opt-out availa\",\n",
       " 'Petey boy whereare you me and all your friendsare in theKingshead come down if you canlove Nic',\n",
       " 'Ok i msg u b4 i leave my house.',\n",
       " 'Gimme a few was  &lt;#&gt;  minutes ago',\n",
       " 'Last Chance! Claim ur £150 worth of discount vouchers today! Text SHOP to 85023 now! SavaMob, offers mobile! T Cs SavaMob POBOX84, M263UZ. £3.00 Sub. 16',\n",
       " \"Appt is at &lt;TIME&gt; am. Not my fault u don't listen. I told u twice\",\n",
       " 'FREE for 1st week! No1 Nokia tone 4 ur mobile every week just txt NOKIA to 8077 Get txting and tell ur mates. www.getzed.co.uk POBox 36504 W45WQ 16+ norm150p/tone',\n",
       " 'You have won a guaranteed £200 award or even £1000 cashto claim UR award call free on 08000407165 (18+) 2 stop getstop on 88222 PHP. RG21 4JX',\n",
       " \"K I'll be there before 4.\",\n",
       " 'I dled 3d its very imp',\n",
       " \"sure, but make sure he knows we ain't smokin yet\",\n",
       " 'Boooo you always work. Just quit.',\n",
       " 'I am taking half day leave bec i am not well',\n",
       " \"Ugh I don't wanna get out of bed. It's so warm.\",\n",
       " 'S:)s.nervous  &lt;#&gt; :)',\n",
       " \"So there's a ring that comes with the guys costumes. It's there so they can gift their future yowifes. Hint hint\",\n",
       " 'Congratulations ur awarded either £500 of CD gift vouchers & Free entry 2 our £100 weekly draw txt MUSIC to 87066 TnCs www.Ldew.com1win150ppmx3age16',\n",
       " 'I borrow ur bag ok.',\n",
       " 'U were outbid by simonwatson5120 on the Shinco DVD Plyr. 2 bid again, visit sms. ac/smsrewards 2 end bid notifications, reply END OUT',\n",
       " \"Where's my boytoy? I miss you ... What happened?\",\n",
       " \"He has lots of used ones babe, but the model doesn't help. Youi have to bring it over and he'll match it up\",\n",
       " 'Also are you bringing galileo or dobby',\n",
       " 'Then why you not responding',\n",
       " 'BOO BABE! U ENJOYIN YOURJOB? U SEEMED 2 B GETTIN ON WELL HUNNY!HOPE URE OK?TAKE CARE & I\\x92LLSPEAK 2U SOONLOTS OF LOVEME XXXX.',\n",
       " \"Good afternoon starshine! How's my boytoy? Does he crave me yet? Ache to fuck me ? *sips cappuccino* I miss you babe *teasing kiss*\",\n",
       " 'On the road so cant txt',\n",
       " 'SMSSERVICES. for yourinclusive text credits, pls goto www.comuk.net login= 3qxj9 unsubscribe with STOP, no extra charge. help 08702840625.COMUK. 220-CM2 9AE',\n",
       " \"25p 4 alfie Moon's Children in need song on ur mob. Tell ur m8s. Txt Tone charity to 8007 for Nokias or Poly charity for polys: zed 08701417012 profit 2 charity.\",\n",
       " 'Have a good evening! Ttyl',\n",
       " 'Hmm .. Bits and pieces lol ... *sighs* ...',\n",
       " 'Hahaha..use your brain dear',\n",
       " 'Hey. You got any mail?',\n",
       " 'Sorry light turned green, I meant another friend wanted  &lt;#&gt;  worth but he may not be around',\n",
       " 'Thanks for yesterday sir. You have been wonderful. Hope you enjoyed the burial. MojiBiola',\n",
       " 'U have a secret admirer. REVEAL who thinks U R So special. Call 09065174042. To opt out Reply REVEAL STOP. 1.50 per msg recd. Cust care 07821230901',\n",
       " 'Hi mate its RV did u hav a nice hol just a message 3 say hello coz haven\\x92t sent u 1 in ages started driving so stay off roads!RVx',\n",
       " 'Dear Voucher Holder, To claim this weeks offer, at you PC please go to http://www.e-tlp.co.uk/expressoffer Ts&Cs apply. To stop texts, txt STOP to 80062',\n",
       " \"Thank you so much. When we skyped wit kz and sura, we didnt get the pleasure of your company. Hope you are good. We've given you ultimatum oh! We are countin down to aburo. Enjoy! This is the message i sent days ago\",\n",
       " 'Surely result will offer:)',\n",
       " 'Good Morning my Dear........... Have a great &amp; successful day.',\n",
       " 'Do you want 750 anytime any network mins 150 text and a NEW VIDEO phone for only five pounds per week call 08002888812 or reply for delivery tomorrow',\n",
       " \"Sir, I have been late in paying rent for the past few months and had to pay a $ &lt;#&gt;  charge. I felt it would be inconsiderate of me to nag about something you give at great cost to yourself and that's why i didnt speak up. I however am in a recession and wont be able to pay the charge this month hence my askin well ahead of month's end. Can you please help. Thanks\",\n",
       " 'We tried to contact you re our offer of New Video Phone 750 anytime any network mins HALF PRICE Rental camcorder call 08000930705 or reply for delivery Wed',\n",
       " 'Last chance 2 claim ur £150 worth of discount vouchers-Text YES to 85023 now!SavaMob-member offers mobile T Cs 08717898035. £3.00 Sub. 16 . Remove txt X or STOP',\n",
       " 'I luv u soo much u don\\x92t understand how special u r 2 me ring u 2morrow luv u xxx',\n",
       " \"Pls send me a comprehensive mail about who i'm paying, when and how much.\",\n",
       " \"Our Prashanthettan's mother passed away last night. pray for her and family.\",\n",
       " 'Urgent! call 09066350750 from your landline. Your complimentary 4* Ibiza Holiday or 10,000 cash await collection SAE T&Cs PO BOX 434 SK3 8WP 150 ppm 18+ ',\n",
       " 'K.k:)when are you going?',\n",
       " \"Meanwhile in the shit suite: xavier decided to give us  &lt;#&gt;  seconds of warning that samantha was coming over and is playing jay's guitar to impress her or some shit. Also I don't think doug realizes I don't live here anymore\",\n",
       " \"My stomach has been thru so much trauma I swear I just can't eat. I better lose weight.\",\n",
       " 'I am in office:)whats the matter..msg me now.i will call you at break:).',\n",
       " \"Yeah there's barely enough room for the two of us, x has too many fucking shoes. Sorry man, see you later\",\n",
       " \"Today's Offer! Claim ur £150 worth of discount vouchers! Text YES to 85023 now! SavaMob, member offers mobile! T Cs 08717898035. £3.00 Sub. 16 . Unsub reply X\",\n",
       " 'U reach orchard already? U wan 2 go buy tickets first?',\n",
       " 'I am real, baby! I want to bring out your inner tigress...',\n",
       " 'No da if you run that it activate the full version da.',\n",
       " 'AH POOR BABY!HOPE URFEELING BETTERSN LUV! PROBTHAT OVERDOSE OF WORK HEY GO CAREFUL SPK 2 U SN LOTS OF LOVEJEN XXX.',\n",
       " \"Stop the story. I've told him i've returned it and he's saying i should not re order it.\",\n",
       " 'Talk sexy!! Make new friends or fall in love in the worlds most discreet text dating service. Just text VIP to 83110 and see who you could meet.',\n",
       " 'Going to take your babe out ?',\n",
       " 'Hai ana tomarrow am coming on morning.  &lt;DECIMAL&gt;  ill be there in sathy then we ll go to RTO office. Reply me after came to home.',\n",
       " 'Spoons it is then okay?',\n",
       " 'Did he just say somebody is named tampa',\n",
       " 'In work now. Going have in few min.',\n",
       " 'Your brother is a genius',\n",
       " \"Sorry, I guess whenever I can get a hold of my connections, maybe an hour or two? I'll text you\",\n",
       " 'Did u find out what time the bus is at coz i need to sort some stuff out.',\n",
       " 'Dude ive been seeing a lotta corvettes lately',\n",
       " 'Congratulations ur awarded either a yrs supply of CDs from Virgin Records or a Mystery Gift GUARANTEED Call 09061104283 Ts&Cs www.smsco.net £1.50pm approx 3mins',\n",
       " \"Same here, but I consider walls and bunkers and shit important just because I never play on peaceful but I guess your place is high enough that it don't matter\",\n",
       " 'PRIVATE! Your 2003 Account Statement for 07808 XXXXXX shows 800 un-redeemed S. I. M. points. Call 08719899217 Identifier Code: 41685 Expires 07/11/04',\n",
       " 'Hello. We need some posh birds and chaps to user trial prods for champneys. Can i put you down? I need your address and dob asap. Ta r',\n",
       " 'What do U want for Xmas? How about 100 free text messages & a new video phone with half price line rental? Call free now on 0800 0721072 to find out more!',\n",
       " 'Well am officially in a philosophical hole, so if u wanna call am at home ready to be saved!',\n",
       " 'Its going good...no problem..but still need little experience to understand american customer voice...',\n",
       " \"I'll text you when I drop x off\",\n",
       " \"Ugh its been a long day. I'm exhausted. Just want to cuddle up and take a nap\",\n",
       " 'Talk With Yourself Atleast Once In A Day...!!! Otherwise You Will Miss Your Best FRIEND In This WORLD...!!! -Shakespeare- SHESIL  &lt;#&gt;',\n",
       " 'Shop till u Drop, IS IT YOU, either 10K, 5K, £500 Cash or £100 Travel voucher, Call now, 09064011000. NTT PO Box CR01327BT fixedline Cost 150ppm mobile vary',\n",
       " 'Are you in castor? You need to see something',\n",
       " 'Sunshine Quiz Wkly Q! Win a top Sony DVD player if u know which country Liverpool played in mid week? Txt ansr to 82277. £1.50 SP:Tyrone',\n",
       " 'U have a secret admirer who is looking 2 make contact with U-find out who they R*reveal who thinks UR so special-call on 09058094565',\n",
       " 'U have a Secret Admirer who is looking 2 make contact with U-find out who they R*reveal who thinks UR so special-call on 09065171142-stopsms-08',\n",
       " 'Reminder: You have not downloaded the content you have already paid for. Goto http://doit. mymoby. tv/ to collect your content.',\n",
       " \"see, i knew giving you a break a few times woul lead to you always wanting to miss curfew. I was gonna gibe you 'til one, but a MIDNIGHT movie is not gonna get out til after 2. You need to come home. You need to getsleep and, if anything, you need to b studdying ear training.\",\n",
       " 'I love to give massages. I use lots of baby oil... What is your fave position?',\n",
       " 'Dude we should go sup again',\n",
       " 'Yoyyooo u know how to change permissions for a drive in mac. My usb flash drive',\n",
       " 'Gibbs unsold.mike hussey',\n",
       " 'I like to talk pa but am not able to. I dont know y.',\n",
       " \"Y dun cut too short leh. U dun like ah? She failed. She's quite sad.\",\n",
       " 'You unbelievable faglord',\n",
       " 'Wife.how she knew the time of murder exactly',\n",
       " 'Why do you ask princess?',\n",
       " 'I am great princess! What are you thinking about me? :)',\n",
       " 'Nutter. Cutter. Ctter. Cttergg. Cttargg. Ctargg. Ctagg. ie you',\n",
       " \"It's ok i noe u're busy but i'm really too bored so i msg u. I oso dunno wat colour she choose 4 me one.\",\n",
       " \"Doesn't g have class early tomorrow and thus shouldn't be trying to smoke at  &lt;#&gt;\",\n",
       " 'Superb Thought- \"Be grateful that u dont have everything u want. That means u still have an opportunity to be happier tomorrow than u are today.\":-)',\n",
       " 'Hope you are having a good week. Just checking in',\n",
       " \"I'm used to it. I just hope my agents don't drop me since i've only booked a few things this year. This whole me in boston, them in nyc was an experiment.\",\n",
       " \"Thursday night? Yeah, sure thing, we'll work it out then\",\n",
       " 'Your free ringtone is waiting to be collected. Simply text the password \"MIX\" to 85069 to verify. Get Usher and Britney. FML, PO Box 5249, MK17 92H. 450Ppw 16',\n",
       " 'Probably money worries. Things are coming due and i have several outstanding invoices for work i did two and three months ago.',\n",
       " 'How is it possible to teach you. And where.',\n",
       " 'I wonder if your phone battery went dead ? I had to tell you, I love you babe',\n",
       " \"Lovely smell on this bus and it ain't tobacco... \",\n",
       " \"We're all getting worried over here, derek and taylor have already assumed the worst\",\n",
       " \"Hey what's up charles sorry about the late reply.\",\n",
       " 'all the lastest from Stereophonics, Marley, Dizzee Racal, Libertines and The Strokes! Win Nookii games with Flirt!! Click TheMob WAP Bookmark or text WAP to 82468',\n",
       " 'I.ll give her once i have it. Plus she said grinule greet you whenever we speak',\n",
       " 'WHITE FUDGE OREOS ARE IN STORES',\n",
       " 'January Male Sale! Hot Gay chat now cheaper, call 08709222922. National rate from 1.5p/min cheap to 7.8p/min peak! To stop texts call 08712460324 (10p/min)',\n",
       " \"My love ! How come it took you so long to leave for Zaher's? I got your words on ym and was happy to see them but was sad you had left. I miss you\",\n",
       " 'I am sorry it hurt you.',\n",
       " \"Can't. I feel nauseous. I'm so pissed. I didn't eat any sweets all week cause today I was planning to pig out. I was dieting all week. And now I'm not hungry :/\",\n",
       " 'Ok lor but not too early. Me still having project meeting now.',\n",
       " 'Call me da, i am waiting for your call.',\n",
       " 'I could ask carlos if we could get more if anybody else can chip in',\n",
       " 'Was actually about to send you a reminder today. Have a wonderful weekend',\n",
       " \"When people see my msgs, They think Iam addicted to msging... They are wrong, Bcoz They don\\\\'t know that Iam addicted to my sweet Friends..!! BSLVYL\",\n",
       " 'Hey you gave them your photo when you registered for driving ah? Tmr wanna meet at yck? ',\n",
       " 'Dont talk to him ever ok its my word.',\n",
       " 'When u wana see it then',\n",
       " \"On ma way to school. Can you pls send me ashley's number\",\n",
       " 'It shall be fine. I have avalarr now. Will hollalater',\n",
       " \"She went to attend another two rounds today..but still did't reach home..\",\n",
       " 'Actually i deleted my old website..now i m blogging at magicalsongs.blogspot.com',\n",
       " 'K, wait chikku..il send aftr  &lt;#&gt; mins',\n",
       " \"But I'm on a diet. And I ate 1 too many slices of pizza yesterday. Ugh I'm ALWAYS on a diet.\",\n",
       " 'K:)i will give my kvb acc details:)',\n",
       " 'Oh all have to come ah?',\n",
       " 'money!!! you r a lucky winner ! 2 claim your prize text money 2 88600 over £1million to give away ! ppt150x3+normal text rate box403 w1t1jy',\n",
       " \"I'm really sorry i won't b able 2 do this friday.hope u can find an alternative.hope yr term's going ok:-)\",\n",
       " 'Congratulations ore mo owo re wa. Enjoy it and i wish you many happy moments to and fro wherever you go',\n",
       " 'So do you have samus shoulders yet',\n",
       " \"What time you think you'll have it? Need to know when I should be near campus\",\n",
       " 'Dear Matthew please call 09063440451 from a landline, your complimentary 4*Lux Tenerife holiday or £1000 CASH await collection. ppm150 SAE T&Cs Box334 SK38XH.',\n",
       " 'Then dun wear jeans lor...',\n",
       " 'Since when, which side, any fever, any vomitin.',\n",
       " 'K:)k.are you in college?',\n",
       " 'Urgent! call 09061749602 from Landline. Your complimentary 4* Tenerife Holiday or £10,000 cash await collection SAE T&Cs BOX 528 HP20 1YF 150ppm 18+',\n",
       " 'Better. Made up for Friday and stuffed myself like a pig yesterday. Now I feel bleh. But at least its not writhing pain kind of bleh.',\n",
       " \"No we sell it all so we'll have tons if coins. Then sell our coins to someone thru paypal. Voila! Money back in life pockets:)\",\n",
       " 'Theyre doing it to lots of places. Only hospitals and medical places are safe.',\n",
       " 'How about getting in touch with folks waiting for company? Just txt back your NAME and AGE to opt in! Enjoy the community (150p/SMS)',\n",
       " \"And also I've sorta blown him off a couple times recently so id rather not text him out of the blue looking for weed\",\n",
       " 'I sent my scores to sophas and i had to do secondary application for a few schools. I think if you are thinking of applying, do a research on cost also. Contact joke ogunrinde, her school is one me the less expensive ones',\n",
       " 'I cant wait to see you! How were the photos were useful? :)',\n",
       " 'Ur cash-balance is currently 500 pounds - to maximize ur cash-in now send GO to 86688 only 150p/msg. CC: 08718720201 PO BOX 114/14 TCR/W1',\n",
       " 'Hey i booked the kb on sat already... what other lessons are we going for ah? Keep your sat night free we need to meet and confirm our lodging ',\n",
       " 'Chk in ur belovd ms dict',\n",
       " 'Is that what time you want me to come?',\n",
       " \"Awesome, lemme know whenever you're around\",\n",
       " 'Shb b ok lor... Thanx...',\n",
       " 'Beautiful Truth against Gravity.. Read carefully: \"Our heart feels light when someone is in it.. But it feels very heavy when someone leaves it..\" GOOD NIGHT',\n",
       " \"Also remember to get dobby's bowl from your car\",\n",
       " 'Filthy stories and GIRLS waiting for your',\n",
       " \"Sorry i now then c ur msg... Yar lor so poor thing... But only 4 one night... Tmr u'll have a brand new room 2 sleep in...\",\n",
       " \"Love isn't a decision, it's a feeling. If we could decide who to love, then, life would be much simpler, but then less magical\",\n",
       " 'Welp apparently he retired',\n",
       " \"My sort code is  and acc no is . The bank is natwest. Can you reply to confirm i've sent this to the right person!\",\n",
       " 'Where @',\n",
       " \"U sure u can't take any sick time?\",\n",
       " 'URGENT! We are trying to contact U. Todays draw shows that you have won a £800 prize GUARANTEED. Call 09050001808 from land line. Claim M95. Valid12hrs only',\n",
       " 'Watching cartoon, listening music &amp; at eve had to go temple &amp; church.. What about u?',\n",
       " 'Yo chad which gymnastics class do you wanna take? The site says Christians class is full..',\n",
       " 'Are you this much buzy',\n",
       " 'Or better still can you catch her and let ask her if she can sell  &lt;#&gt;  for me.',\n",
       " 'I am not sure about night menu. . . I know only about noon menu',\n",
       " 'What do u want when i come back?.a beautiful necklace as a token of my heart for you.thats what i will give but ONLY to MY WIFE OF MY LIKING.BE THAT AND SEE..NO ONE can give you that.dont call me.i will wait till i come.',\n",
       " 'Are you willing to go for aptitude class.',\n",
       " 'It wont b until 2.15 as trying 2 sort house out, is that ok?',\n",
       " 'Yar lor he wan 2 go c horse racing today mah, so eat earlier lor. I ate chicken rice. U?',\n",
       " 'Haha awesome, omw back now then',\n",
       " 'Yup i thk so until e shop closes lor.',\n",
       " 'what is your account number?',\n",
       " 'Eh u send wrongly lar...',\n",
       " 'Hey no I ad a crap nite was borin without ya 2 boggy with me u boring biatch! Thanx but u wait til nxt time il ave ya ',\n",
       " 'Ok i shall talk to him',\n",
       " 'Dont hesitate. You know this is the second time she has had weakness like that. So keep i notebook of what she eat and did the day before or if anything changed the day before so that we can be sure its nothing',\n",
       " 'Hey you can pay. With salary de. Only  &lt;#&gt; .',\n",
       " 'Another month. I need chocolate weed and alcohol.',\n",
       " 'If he started searching he will get job in few days.he have great potential and talent.',\n",
       " 'Reckon need to be in town by eightish to walk from * carpark.',\n",
       " 'Congrats! 2 mobile 3G Videophones R yours. call 09063458130 now! videochat wid your mates, play java games, Dload polyPH music, noline rentl.',\n",
       " 'LOOK AT THE FUCKIN TIME. WHAT THE FUCK YOU THINK IS UP',\n",
       " 'Yo guess what I just dropped',\n",
       " \"Carlos says he'll be at mu in  &lt;#&gt;  minutes\",\n",
       " \"I'm in office now . I will call you  &lt;#&gt;  min:)\",\n",
       " \"Geeee ... I miss you already, you know ? Your all I can think about. Fuck, I can't wait till next year when we will be together ... *loving kiss*\",\n",
       " 'Yun ah.the ubi one say if ü wan call by tomorrow.call 67441233 look for irene.ere only got bus8,22,65,61,66,382. Ubi cres,ubi tech park.6ph for 1st 5wkg days.èn',\n",
       " 'Ugh. Gotta drive back to sd from la. My butt is sore.',\n",
       " '26th OF JULY',\n",
       " 'Hi im having the most relaxing time ever! we have to get up at 7am every day! was the party good the other night? I get home tomorrow at 5ish.',\n",
       " 'Up to ü... Ü wan come then come lor... But i din c any stripes skirt...',\n",
       " 'The Xmas story is peace.. The Xmas msg is love.. The Xmas miracle is jesus.. Hav a blessed month ahead &amp; wish U Merry Xmas...',\n",
       " \"I can't, I don't have her number!\",\n",
       " \"Change again... It's e one next to escalator...\",\n",
       " \"Yetunde i'm in class can you not run water on it to make it ok. Pls now.\",\n",
       " 'Not a lot has happened here. Feels very quiet. Beth is at her aunts and charlie is working lots. Just me and helen in at the mo. How have you been? ',\n",
       " 'Then ü wait 4 me at bus stop aft ur lect lar. If i dun c ü then i go get my car then come back n pick ü.',\n",
       " ...]"
      ]
     },
     "execution_count": 33,
     "metadata": {},
     "output_type": "execute_result"
    }
   ],
   "source": [
    "[word for word in mess['message'] if not word in string.punctuation] "
   ]
  },
  {
   "cell_type": "code",
   "execution_count": 8,
   "metadata": {},
   "outputs": [
    {
     "data": {
      "text/plain": [
       "'Pity, * was in mood for that. So...any other suggestions?'"
      ]
     },
     "execution_count": 8,
     "metadata": {},
     "output_type": "execute_result"
    }
   ],
   "source": [
    "mess['message'][5569]"
   ]
  },
  {
   "cell_type": "code",
   "execution_count": 10,
   "metadata": {},
   "outputs": [],
   "source": [
    "#clean_mess[5569]"
   ]
  },
  {
   "cell_type": "code",
   "execution_count": 11,
   "metadata": {},
   "outputs": [
    {
     "data": {
      "text/plain": [
       "label      0\n",
       "message    0\n",
       "dtype: int64"
      ]
     },
     "execution_count": 11,
     "metadata": {},
     "output_type": "execute_result"
    }
   ],
   "source": [
    "mess.isna().sum()"
   ]
  },
  {
   "cell_type": "code",
   "execution_count": 12,
   "metadata": {},
   "outputs": [],
   "source": [
    "def text_process(mess):\n",
    "    \n",
    "    \"\"\"\n",
    "    1. remove punc\n",
    "    2. remove stopwords\n",
    "    3. return list of clean text words\n",
    "    \"\"\"\n",
    "    \n",
    "    nopunc = [char for char in mess if char not in string.punctuation]\n",
    "    \n",
    "    nopunc = ''.join(nopunc)\n",
    "    \n",
    "    return [word for word in nopunc.split() if word.lower() not in stopwords.words('english')]\n",
    "    "
   ]
  },
  {
   "cell_type": "code",
   "execution_count": 13,
   "metadata": {},
   "outputs": [
    {
     "data": {
      "text/plain": [
       "0    [Go, jurong, point, crazy, Available, bugis, n...\n",
       "1                       [Ok, lar, Joking, wif, u, oni]\n",
       "2    [Free, entry, 2, wkly, comp, win, FA, Cup, fin...\n",
       "3        [U, dun, say, early, hor, U, c, already, say]\n",
       "4    [Nah, dont, think, goes, usf, lives, around, t...\n",
       "Name: message, dtype: object"
      ]
     },
     "execution_count": 13,
     "metadata": {},
     "output_type": "execute_result"
    }
   ],
   "source": [
    "#strings of token-integers\n",
    "mess['message'].head().apply(text_process)"
   ]
  },
  {
   "cell_type": "code",
   "execution_count": 14,
   "metadata": {},
   "outputs": [],
   "source": [
    "#fit this with analyzer\n",
    "bow_transform = CountVectorizer(analyzer=text_process).fit(mess['message'])"
   ]
  },
  {
   "cell_type": "code",
   "execution_count": 15,
   "metadata": {},
   "outputs": [
    {
     "name": "stdout",
     "output_type": "stream",
     "text": [
      "11425\n"
     ]
    }
   ],
   "source": [
    "#print total number of vocab words\n",
    "print(len(bow_transform.vocabulary_))"
   ]
  },
  {
   "cell_type": "code",
   "execution_count": 16,
   "metadata": {},
   "outputs": [],
   "source": [
    "#copy message 4 \n",
    "mess4 = mess['message'][3]"
   ]
  },
  {
   "cell_type": "code",
   "execution_count": 9,
   "metadata": {},
   "outputs": [
    {
     "data": {
      "text/plain": [
       "'U dun say so early hor... U c already then say...'"
      ]
     },
     "execution_count": 9,
     "metadata": {},
     "output_type": "execute_result"
    }
   ],
   "source": [
    "mess['message'][3]"
   ]
  },
  {
   "cell_type": "code",
   "execution_count": 15,
   "metadata": {},
   "outputs": [
    {
     "data": {
      "text/plain": [
       "{'1.20 that call cost. Which i guess isnt bad. Miss ya, need ya, want ya, love ya',\n",
       " 'Thank You for calling.Forgot to say Happy Onam to you Sirji.I am fine here and remembered you when i met an insurance person.Meet You in Qatar Insha Allah.Rakhesh, ex Tata AIG who joined TISSCO,Tayseer.',\n",
       " 'URGENT! Your mobile was awarded a £1,500 Bonus Caller Prize on 27/6/03. Our final attempt 2 contact U! Call 08714714011',\n",
       " 'all the lastest from Stereophonics, Marley, Dizzee Racal, Libertines and The Strokes! Win Nookii games with Flirt!! Click TheMob WAP Bookmark or text WAP to 82468',\n",
       " 'What are youdoing later? Sar xxx',\n",
       " 'It has issues right now. Ill fix for her by tomorrow.',\n",
       " \"Ugh y can't u just apologize, admit u were wrong and ask me to take u back?\",\n",
       " 'Dad says hurry the hell up',\n",
       " 'soon you will have the real thing princess! Do i make you wet? :)',\n",
       " 'Friendship poem: Dear O Dear U R Not Near But I Can Hear Dont Get Fear Live With Cheer No More Tear U R Always my Dear. Gud ni8',\n",
       " 'Should i buy him a blackberry bold 2 or torch. Should i buy him new or used. Let me know. Plus are you saying i should buy the  &lt;#&gt; g wifi ipad. And what are you saying about the about the  &lt;#&gt; g?',\n",
       " 'We will meet soon princess! Ttyl!',\n",
       " 'Hurry home. Soup is DONE!',\n",
       " 'I dont know ask to my brother. Nothing problem some thing that. Just i told .',\n",
       " 'Get ready to put on your excellent sub face :)',\n",
       " \"Just send a text. We'll skype later.\",\n",
       " 'Jus finish my lunch on my way home lor... I tot u dun wan 2 stay in sch today...',\n",
       " 'Sorry that was my uncle. I.ll keep in touch',\n",
       " 'You do your studies alone without anyones help. If you cant no need to study.',\n",
       " \"Also where's the piece\",\n",
       " 'Hello darling how are you today? I would love to have a chat, why dont you tell me what you look like and what you are in to sexy?',\n",
       " 'Get 3 Lions England tone, reply lionm 4 mono or lionp 4 poly. 4 more go 2 www.ringtones.co.uk, the original n best. Tones 3GBP network operator rates apply',\n",
       " \"Did either of you have any idea's? Do you know of anyplaces doing something?\",\n",
       " \"Forgot to tell ü smth.. Can ü like number the sections so that it's clearer..\",\n",
       " 'No need to ke qi... Ü too bored izzit y suddenly thk of this...',\n",
       " \"I'm leaving my house now.\",\n",
       " 'K..k:)how about your training process?',\n",
       " 'I want to lick your pussy now...',\n",
       " 'Sounds like something that someone testing me would sayy',\n",
       " 'U are subscribed to the best Mobile Content Service in the UK for £3 per 10 days until you send STOP to 82324. Helpline 08706091795',\n",
       " 'Aight what time you want me to come up?',\n",
       " 'Maybe westshore or hyde park village, the place near my house?',\n",
       " 'I agree. So i can stop thinkin about ipad. Can you please ask macho the same question.',\n",
       " 'Yup. Thk of u oso boring wat.',\n",
       " \"Same, I'm at my great aunts anniversary party in tarpon springs\",\n",
       " 'We can go 4 e normal pilates after our intro...  ',\n",
       " 'What do you do, my dog ? Must I always wait till the end of your day to have word from you ? Did you run out of time on your cell already?',\n",
       " 'say thanks2. ',\n",
       " 'WINNER! As a valued network customer you hvae been selected to receive a £900 reward! To collect call 09061701444. Valid 24 hours only. ACL03530150PM',\n",
       " \"I'm back, lemme know when you're ready\",\n",
       " 'Hello hun how ru? Its here by the way. Im good. Been on 2 dates with that guy i met in walkabout so far. We have to meet up soon. Hows everyone else?',\n",
       " 'THIS IS A LONG FUCKIN SHOWR',\n",
       " 'Forgot it takes me 3 years to shower, sorry. Where you at/your phone dead yet?',\n",
       " 'How are you babes. Hope your doing ok. I had a shit nights sleep. I fell asleep at 5.I\\x92m knackered and i\\x92m dreading work tonight. What are thou upto tonight. X',\n",
       " 'I to am looking forward to all the sex cuddling.. Only two more sleeps ',\n",
       " 'I knew it... U slept v late yest? Wake up so late...',\n",
       " 'In which place i can get rooms cheap:-)',\n",
       " 'Ok da, i already planned. I wil pick you.',\n",
       " \"And by when you're done I mean now\",\n",
       " 'Jus finish bathing...',\n",
       " 'No wonder... Cos i dun rem seeing a silver car... But i thk i saw a black one...',\n",
       " 'Thats cool. Where should i cum? On you or in you? :)',\n",
       " 'I think I‘m waiting for the same bus! Inform me when you get there, if you ever get there.',\n",
       " \"Hi i won't b ard 4 christmas. But do enjoy n merry x'mas.\",\n",
       " 'Ok... C ya...',\n",
       " 'Goodmorning, today i am late for 1hr.',\n",
       " \"Although i told u dat i'm into baig face watches now but i really like e watch u gave cos it's fr u. Thanx 4 everything dat u've done today, i'm touched...\",\n",
       " 'Tell you what, if you make a little spreadsheet and track whose idea it was to smoke to determine who \"smokes too much\" for the entire month of february, I\\'ll come up',\n",
       " 'Ya:)going for restaurant..',\n",
       " 'Hiya do u like the hlday pics looked horrible in them so took mo out! Hows the camp Amrca thing? Speak soon Serena:)',\n",
       " 'Ahhhh...just woken up!had a bad dream about u tho,so i dont like u right now :) i didnt know anything about comedy night but i guess im up for it.',\n",
       " 'I wont do anything de.',\n",
       " 'Lol I would but my mom would have a fit and tell the whole family how crazy and terrible I am',\n",
       " \"Have you seen who's back at Holby?!\",\n",
       " 'Nope. Meanwhile she talk say make i greet you.',\n",
       " \"Aight I've been set free, think you could text me blake's address? It occurs to me I'm not quite as sure what I'm doing as I thought I was\",\n",
       " 'Good afternoon on this glorious anniversary day, my sweet J !! I hope this finds you happy and content, my Prey. I think of you and send a teasing kiss from across the sea coaxing images of fond souveniers ... You Cougar-Pen',\n",
       " 'Dunno lei... I might b eatin wif my frens... If ü wan to eat then i wait 4 ü lar',\n",
       " 'Home so we can always chat',\n",
       " \"I'll text carlos and let you know, hang on\",\n",
       " 'I will be outside office take all from there',\n",
       " 'Why did I wake up on my own &gt;:(',\n",
       " 'Water logging in desert. Geoenvironmental implications.',\n",
       " 'When/where do I pick you up',\n",
       " 'Yeah I can still give you a ride',\n",
       " 'Sir, waiting for your letter.',\n",
       " 'Hey mr whats the name of that bill brison book the one about language and words ',\n",
       " \"For me the love should start with attraction.i should feel that I need her every time around me.she should be the first thing which comes in my thoughts.I would start the day and end it with her.she should be there every time I dream.love will be then when my every breath has her name.my life should happen around her.my life will be named to her.I would cry for her.will give all my happiness and take all her sorrows.I will be ready to fight with anyone for her.I will be in love when I will be doing the craziest things for her.love will be when I don't have to proove anyone that my girl is the most beautiful lady on the whole planet.I will always be singing praises for her.love will be when I start up making chicken curry and end up makiing sambar.life will be the most beautiful then.will get every morning and thank god for the day because she is with me.I would like to say a lot..will tell later..\",\n",
       " 'I keep ten rs in my shelf:) buy two egg.',\n",
       " 'Can U get 2 phone NOW? I wanna chat 2 set up meet Call me NOW on 09096102316 U can cum here 2moro Luv JANE xx Calls£1/minmoremobsEMSPOBox45PO139WA',\n",
       " \"I'm wif him now buying tix lar...\",\n",
       " 'Wat r u doing now?',\n",
       " 'Somebody should go to andros and steal ice',\n",
       " \"Wow didn't think it was that common. I take it all back ur not a freak! Unless u chop it off:-)\",\n",
       " 'Aight, tomorrow around  &lt;#&gt;  it is',\n",
       " 'I am in tirupur.  call you da.',\n",
       " 'Money i have won wining number 946 wot do i do next',\n",
       " 'Were trying to find a Chinese food place around here',\n",
       " 'Is fujitsu s series lifebook good?',\n",
       " 'Hello which the site to download songs its urgent pls',\n",
       " 'December only! Had your mobile 11mths+? You are entitled to update to the latest colour camera mobile for Free! Call The Mobile Update VCo FREE on 08002986906 ',\n",
       " 'Life is more strict than teacher... Bcoz Teacher teaches lesson &amp; then conducts exam, But Life first conducts Exam &amp; then teaches Lessons. Happy morning. . .',\n",
       " \"Will do, you gonna be at blake's all night? I might be able to get out of here a little early\",\n",
       " 'Ya just telling abt tht incident..',\n",
       " 'Not planned yet :)going to join company on jan 5 only.don know what will happen after that.',\n",
       " 'I will vote for wherever my heart guides me',\n",
       " 'You lifted my hopes with the offer of money. I am in need. Especially when the end of the month approaches and it hurts my studying. Anyways have a gr8 weekend',\n",
       " \"Come around  &lt;DECIMAL&gt; pm vikky..i'm otside nw, il come by tht time\",\n",
       " \"Meanwhile in the shit suite: xavier decided to give us  &lt;#&gt;  seconds of warning that samantha was coming over and is playing jay's guitar to impress her or some shit. Also I don't think doug realizes I don't live here anymore\",\n",
       " 'Yup i thk so until e shop closes lor.',\n",
       " 'Are you willing to go for aptitude class.',\n",
       " 'Yo sorry was in the shower sup',\n",
       " \"Your right! I'll make the appointment right now.\",\n",
       " 'Goodmorning, today i am late for  &lt;DECIMAL&gt; min.',\n",
       " \"Well good morning mr . Hows london treatin' ya treacle?\",\n",
       " 'No calls..messages..missed calls',\n",
       " 'Yeh. Indians was nice. Tho it did kane me off a bit he he. We shud go out 4 a drink sometime soon. Mite hav 2 go 2 da works 4 a laugh soon. Love Pete x x',\n",
       " 'Dunno he jus say go lido. Same time 930.',\n",
       " 'No da..today also i forgot..',\n",
       " 'Married local women looking for discreet action now! 5 real matches instantly to your phone. Text MATCH to 69969 Msg cost 150p 2 stop txt stop BCMSFWC1N3XX',\n",
       " \"Not yet chikku..going to room nw, i'm in bus..\",\n",
       " 'Just sent it. So what type of food do you like?',\n",
       " 'Had your mobile 10 mths? Update to the latest Camera/Video phones for FREE. KEEP UR SAME NUMBER, Get extra free mins/texts. Text YES for a call',\n",
       " 'When did you get to the library',\n",
       " 'Mm not entirely sure i understood that text but hey. Ho. Which weekend?',\n",
       " \"Also remember to get dobby's bowl from your car\",\n",
       " 'Once free call me sir.',\n",
       " 'Final Chance! Claim ur £150 worth of discount vouchers today! Text YES to 85023 now! SavaMob, member offers mobile! T Cs SavaMob POBOX84, M263UZ. £3.00 Subs 16',\n",
       " 'Thanks for your Ringtone Order, Reference T91. You will be charged GBP 4 per week. You can unsubscribe at anytime by calling customer services on 09057039994',\n",
       " 'Yo guess what I just dropped',\n",
       " 'Guess what! Somebody you know secretly fancies you! Wanna find out who it is? Give us a call on 09065394973 from Landline DATEBox1282EssexCM61XN 150p/min 18',\n",
       " \"Yes watching footie but worried we're going to blow it - Phil Neville?\",\n",
       " \"FreeMsg Today's the day if you are ready! I'm horny & live in your town. I love sex fun & games! Netcollex Ltd 08700621170150p per msg reply Stop to end\",\n",
       " 'But i dint slept in afternoon.',\n",
       " \"Lol well don't do it without me. We could have a big sale together.\",\n",
       " 'Free video camera phones with Half Price line rental for 12 mths and 500 cross ntwk mins 100 txts. Call MobileUpd8 08001950382 or Call2OptOut/674',\n",
       " 'K..then come wenever u lik to come and also tel vikky to come by getting free time..:-)',\n",
       " 'For taking part in our mobile survey yesterday! You can now have 500 texts 2 use however you wish. 2 get txts just send TXT to 80160 T&C www.txt43.com 1.50p',\n",
       " 'Still in customer place',\n",
       " \"You are right though. I can't give you the space you want and need. This is really starting to become an issue. I was going to suggest setting a definite move out--if i'm still there-- after greece. But maybe you are ready and should do it now.\",\n",
       " 'I am in your office na.',\n",
       " \"Ur balance is now £500. Ur next question is: Who sang 'Uptown Girl' in the 80's ? 2 answer txt ur ANSWER to 83600. Good luck!\",\n",
       " 'Yup having my lunch buffet now.. U eat already?',\n",
       " 'Tell me again what your address is',\n",
       " 'Haha, that was the first person I was gonna ask',\n",
       " 'Yar but they say got some error.',\n",
       " '44 7732584351, Do you want a New Nokia 3510i colour phone DeliveredTomorrow? With 300 free minutes to any mobile + 100 free texts + Free Camcorder reply or call 08000930705.',\n",
       " 'Yeah, probably earlier than that',\n",
       " \"It's é only $140 ard...É rest all ard $180 at least...Which is é price 4 é 2 bedrm ($900)\",\n",
       " 'My sister going to earn more than me da.',\n",
       " 'K.:)do it at evening da:)urgent:)',\n",
       " 'I might come to kerala for 2 days.so you can be prepared to take a leave once i finalise .dont plan any travel during my visit.need to finish urgent works.',\n",
       " 'HEY THERE BABE, HOW U DOIN? WOT U UP 2 2NITE LOVE ANNIE X.',\n",
       " 'Oh. U must have taken your REAL Valentine out shopping first.',\n",
       " '5 Free Top Polyphonic Tones call 087018728737, National Rate. Get a toppoly tune sent every week, just text SUBPOLY to 81618, £3 per pole. UnSub 08718727870.',\n",
       " \"Not to worry. I'm sure you'll get it.\",\n",
       " 'Mum say we wan to go then go... Then she can shun bian watch da glass exhibition... ',\n",
       " 'Nan sonathaya soladha. Why boss?',\n",
       " '85233 FREE>Ringtone!Reply REAL',\n",
       " 'Me fine..absolutly fine',\n",
       " 'Ok can...',\n",
       " 'I dont understand your message.',\n",
       " \"And also I've sorta blown him off a couple times recently so id rather not text him out of the blue looking for weed\",\n",
       " 'Wanna have a laugh? Try CHIT-CHAT on your mobile now! Logon by txting the word: CHAT and send it to No: 8883 CM PO Box 4217 London W1A 6ZF 16+ 118p/msg rcvd',\n",
       " 'How much is torch in 9ja.',\n",
       " 'How long does it take to get it.',\n",
       " 'Those cocksuckers. If it makes you feel better ipads are worthless garbage novelty items and you should feel bad for even wanting one',\n",
       " 'Tone Club: Your subs has now expired 2 re-sub reply MONOC 4 monos or POLYC 4 polys 1 weekly @ 150p per week Txt STOP 2 stop This msg free Stream 0871212025016',\n",
       " \"Aah bless! How's your arm?\",\n",
       " 'Good afternoon, my love ! Any job prospects ? Are you missing me ? What do you do ? Are you being lazy and bleak, hmmm ? Or happy and filled with my love ?',\n",
       " 'Ok no prob. Take ur time.',\n",
       " 'You have an important customer service announcement from PREMIER.',\n",
       " 'Cool. So how come you havent been wined and dined before?',\n",
       " 'Sleeping nt feeling well',\n",
       " 'ME 2 BABE I FEEL THE SAME LETS JUST 4GET ABOUT IT+BOTH TRY +CHEER UP+NOT FIT SOO MUCHXXLOVE U LOCAXX',\n",
       " 'Great comedy..cant stop laughing da:)',\n",
       " 'Ok lor then we go tog lor...',\n",
       " 'I havent lei.. Next mon can?',\n",
       " 'Thank you. I like you as well...',\n",
       " 'Ok lor. I ned 2 go toa payoh 4 a while 2 return smth u wan 2 send me there or wat?',\n",
       " 'Watch lor. I saw a few swatch one i thk quite ok. Ard 116 but i need 2nd opinion leh...',\n",
       " 'You have 1 new message. Please call 08712400200.',\n",
       " 'FREE entry into our £250 weekly competition just text the word WIN to 80086 NOW. 18 T&C www.txttowin.co.uk',\n",
       " 'See you there! ',\n",
       " 'Yup, leaving right now, be back soon',\n",
       " \"No you'll just get a headache trying to figure it out. U can trust me to do the math. I promise. O:-)\",\n",
       " \"I can. But it will tell quite long, cos i haven't finish my film yet...\",\n",
       " 'Probably, want to pick up more?',\n",
       " 'Hey pple...$700 or $900 for 5 nights...Excellent location wif breakfast hamper!!!',\n",
       " 'What time you thinkin of goin?',\n",
       " 'Pls call me da. What happen.',\n",
       " 'How come u got nothing to do?',\n",
       " 'No screaming means shouting..',\n",
       " \"Where's mummy's boy ? Is he being good or bad ? Is he being positive or negative ? Why is mummy being made to wait? Hmmmm?\",\n",
       " 'cud u tell ppl im gona b a bit l8 cos 2 buses hav gon past cos they were full & im still waitin 4 1. Pete x',\n",
       " 'COME BACK TO TAMPA FFFFUUUUUUU',\n",
       " 'Except theres a chick with huge boobs.',\n",
       " 'Ü still got lessons?  Ü in sch?',\n",
       " 'XCLUSIVE@CLUBSAISAI 2MOROW 28/5 SOIREE SPECIALE ZOUK WITH NICHOLS FROM PARIS.FREE ROSES 2 ALL LADIES !!! info: 07946746291/07880867867 ',\n",
       " 'I like dis sweater fr mango but no more my size already so irritating.',\n",
       " 'I am back. Good journey! Let me know if you need any of the receipts. Shall i tell you like the pendent?',\n",
       " 'SMS. ac Sptv: The New Jersey Devils and the Detroit Red Wings play Ice Hockey. Correct or Incorrect? End? Reply END SPTV',\n",
       " '4 oclock at mine. Just to bash out a flat plan.',\n",
       " \"Hi this is yijue... It's regarding the 3230 textbook it's intro to algorithms second edition... I'm selling it for $50...\",\n",
       " 'FREE MESSAGE Activate your 500 FREE Text Messages by replying to this message with the word FREE For terms & conditions, visit www.07781482378.com',\n",
       " 'Sday only joined.so training we started today:)',\n",
       " 'Call 09095350301 and send our girls into erotic ecstacy. Just 60p/min. To stop texts call 08712460324 (nat rate)',\n",
       " \"How are you. Its been ages. How's abj\",\n",
       " 'not that I know of, most people up here are still out of town',\n",
       " 'REMINDER FROM O2: To get 2.50 pounds free call credit and details of great offers pls reply 2 this text with your valid name, house no and postcode',\n",
       " \"Great to hear you are settling well. So what's happenin wit ola?\",\n",
       " \"Omg Joanna is freaking me out. She's looked thru all my friends to find photos of me. And then she's asking about stuff on my MySpace which I haven't even logged on in like a year. :/\",\n",
       " 'Height of \"Oh shit....!!\" situation: A guy throws a luv letter on a gal but falls on her brothers head whos a gay,.;-):-D',\n",
       " 'Good afternoon, my boytoy ... How are you feeling today ? Better I hope? Are you being my good boy? Are you my obedient, slave? Do you please your Queen?',\n",
       " 'Who were those people ? Were you in a tour ? I thought you were doing that sofa thing you sent me ? Your curious sugar',\n",
       " 'K.k:)advance happy pongal.',\n",
       " \"No go. No openings for that room 'til after thanksgiving without an upcharge.\",\n",
       " 'K k:) sms chat with me.',\n",
       " \", how's things? Just a quick question.\",\n",
       " 'New TEXTBUDDY Chat 2 horny guys in ur area 4 just 25p Free 2 receive Search postcode or at gaytextbuddy.com. TXT ONE name to 89693. 08715500022 rpl Stop 2 cnl',\n",
       " 'Are you staying in town ?',\n",
       " \"I'm doing da intro covers energy trends n pros n cons... Brief description of nuclear fusion n oso brief history of iter n jet got abt 7 n half pages..\",\n",
       " 'Is xy going 4 e lunch?',\n",
       " 'This phone has the weirdest auto correct.',\n",
       " 'Can i meet ü at 5.. As 4 where depends on where ü wan 2 in lor..',\n",
       " \"As per your request 'Melle Melle (Oru Minnaminunginte Nurungu Vettam)' has been set as your callertune for all Callers. Press *9 to copy your friends Callertune\",\n",
       " \"Turns out my friends are staying for the whole show and won't be back til ~ &lt;#&gt; , so feel free to go ahead and smoke that $ &lt;#&gt;  worth\",\n",
       " 'Tick, tick, tick ... Babe',\n",
       " 'How abt making some of the pics bigger?',\n",
       " ':-) :-)',\n",
       " \"He didn't see his shadow. We get an early spring yay\",\n",
       " 'I can send you a pic if you like :)',\n",
       " 'goldviking (29/M) is inviting you to be his friend. Reply YES-762 or NO-762 See him: www.SMS.ac/u/goldviking STOP? Send STOP FRND to 62468',\n",
       " 'Yes.he have good crickiting mind',\n",
       " 'Yeah probably, I still gotta check out with leo',\n",
       " 'Juz go google n search 4 qet...',\n",
       " \"I've been searching for the right words to thank you for this breather. I promise i wont take your help for granted and will fulfil my promise. You have been wonderful and a blessing at all times.\",\n",
       " 'Cool, text me when you head out',\n",
       " 'I am not having her number sir',\n",
       " '.Please charge my mobile when you get up in morning.',\n",
       " 'Going to take your babe out ?',\n",
       " \"That would be great. We'll be at the Guild. Could meet on Bristol road or somewhere - will get in touch over weekend. Our plans take flight! Have a good week\",\n",
       " 'Pls clarify back if an open return ticket that i have can be preponed for me to go back to kerala.',\n",
       " \"E admin building there? I might b slightly earlier... I'll call u when i'm reaching...\",\n",
       " 'U really pig leh sleep so much. My dad wake me up at 10 smth 2 eat lunch today.',\n",
       " \"Wait that's still not all that clear, were you not sure about me being sarcastic or that that's why x doesn't want to live with us\",\n",
       " 'Good afternoon, my love! How goes that day ? I hope maybe you got some leads on a job. I think of you, boytoy and send you a passionate kiss from across the sea',\n",
       " 'Tell where you reached',\n",
       " 'Might ax well im there.',\n",
       " 'Nothing spl..wat abt u and whr ru?',\n",
       " 'How come guoyang go n tell her? Then u told her?',\n",
       " 'Yeah no probs - last night is obviously catching up with you... Speak soon ',\n",
       " 'pdate_Now - Double mins and 1000 txts on Orange tariffs. Latest Motorola, SonyEricsson & Nokia & Bluetooth FREE! Call MobileUpd8 on 08000839402 or call2optout/!YHL',\n",
       " 'Cashbin.co.uk (Get lots of cash this weekend!) www.cashbin.co.uk Dear Welcome to the weekend We have got our biggest and best EVER cash give away!! These..',\n",
       " \"Babe! I fucking love you too !! You know? Fuck it was so good to hear your voice. I so need that. I crave it. I can't get enough. I adore you, Ahmad *kisses*\",\n",
       " \"Can't take any major roles in community outreach. You rock mel\",\n",
       " 'Tension ah?what machi?any problem?',\n",
       " 'Sorry pa, i dont knw who ru pa?',\n",
       " 'Remember to ask alex about his pizza',\n",
       " \"God's love has no limit. God's grace has no measure. God's power has no boundaries. May u have God's endless blessings always in ur life...!! Gud ni8\",\n",
       " 'we tried to contact you re your response to our offer of a new nokia fone and camcorder hit reply or call 08000930705 for delivery',\n",
       " 'Haha okay... Today weekend leh... ',\n",
       " 'Great! So what attracts you to the brothas?',\n",
       " 'I went to ur hon lab but no one is there.',\n",
       " 'No! But we found a diff farm shop to buy some cheese. On way back now, can i call in?',\n",
       " 'We currently have a message awaiting your collection. To collect your message just call 08718723815.',\n",
       " \"I'm putting it on now. It should be ready for  &lt;TIME&gt; \",\n",
       " \"K fyi x has a ride early tomorrow morning but he's crashing at our place tonight\",\n",
       " 'Hiya, had a good day? Have you spoken to since the weekend?',\n",
       " 'Thinking of u ;) x',\n",
       " 'Here got ur favorite oyster... N got my favorite sashimi... Ok lar i dun say already... Wait ur stomach start rumbling...',\n",
       " '8007 FREE for 1st week! No1 Nokia tone 4 ur mob every week just txt NOKIA to 8007 Get txting and tell ur mates www.getzed.co.uk POBox 36504 W4 5WQ norm 150p/tone 16+',\n",
       " 'Ok.',\n",
       " \"Aight I'll grab something to eat too, text me when you're back at mu\",\n",
       " 'Good night. Am going to sleep.',\n",
       " 'Damn, can you make it tonight or do you want to just wait til tomorrow',\n",
       " 'I got your back! Do you have any dislikes in bed?',\n",
       " \"Under the sea, there lays a rock. In the rock, there is an envelope. In the envelope, there is a paper. On the paper, there are 3 words... '\",\n",
       " 'Hi, wlcome back, did wonder if you got eaten by a lion or something, nothing much',\n",
       " 'Yay! You better not have told that to 5 other girls either.',\n",
       " 'Be sure to check your yahoo email. We sent photos yesterday',\n",
       " 'Wewa is 130. Iriver 255. All 128 mb.',\n",
       " \"You said to me before i went back to bed that you can't sleep for anything.\",\n",
       " 'Haf u eaten? Wat time u wan me 2 come?',\n",
       " 'Congratulations ur awarded either a yrs supply of CDs from Virgin Records or a Mystery Gift GUARANTEED Call 09061104283 Ts&Cs www.smsco.net £1.50pm approx 3mins',\n",
       " 'Just normal only here :)',\n",
       " \"Fyi I'm gonna call you sporadically starting at like  &lt;#&gt;  bc we are not not doin this shit\",\n",
       " 'A swt thought: \"Nver get tired of doing little things 4 lovable persons..\" Coz..somtimes those little things occupy d biggest part in their Hearts.. Gud ni8',\n",
       " 'Oh :-)only 4 outside players allowed to play know',\n",
       " 'Mm feeling sleepy. today itself i shall get that dear',\n",
       " 'Reminder: You have not downloaded the content you have already paid for. Goto http://doit. mymoby. tv/ to collect your content.',\n",
       " 'It does it on its own. Most of the time it fixes my spelling. But sometimes it gets a completely diff word. Go figure',\n",
       " \"In that case I guess I'll see you at campus lodge\",\n",
       " \"Lemme know when I can swing by and pick up, I'm free basically any time after 1 all this semester\",\n",
       " 'Are u coming to the funeral home',\n",
       " 'Congratulations! Thanks to a good friend U have WON the £2,000 Xmas prize. 2 claim is easy, just call 08718726971 NOW! Only 10p per minute. BT-national-rate.',\n",
       " \"25p 4 alfie Moon's Children in need song on ur mob. Tell ur m8s. Txt Tone charity to 8007 for Nokias or Poly charity for polys: zed 08701417012 profit 2 charity.\",\n",
       " 'Da is good good player.why he is unsold.',\n",
       " 'Both :) i shoot big loads so get ready!',\n",
       " 'You have won ?1,000 cash or a ?2,000 prize! To claim, call09050000327',\n",
       " 'Shopping? Eh ger i toking abt syd leh...Haha',\n",
       " 'Probably not, still going over some stuff here',\n",
       " 'I wonder how you got online, my love ? Had you gone to the net cafe ? Did you get your phone recharged ? Were you on a friends net ? I think of you, boytoy',\n",
       " \"Xmas & New Years Eve tickets are now on sale from the club, during the day from 10am till 8pm, and on Thurs, Fri & Sat night this week. They're selling fast!\",\n",
       " \"I'd say that's a good sign but, well, you know my track record at reading women\",\n",
       " 'Men like shorter ladies. Gaze up into his eyes.',\n",
       " 'Hi ....My engagement has been fixd on  &lt;#&gt; th of next month. I know its really shocking bt....hmm njan vilikkam....t ws al of a sudn;-(.',\n",
       " \"Keep yourself safe for me because I need you and I miss you already and I envy everyone that see's you in real life\",\n",
       " 'Sppok up ur mob with a Halloween collection of nokia logo&pic message plus a FREE eerie tone, txt CARD SPOOK to 8007',\n",
       " 'And now electricity just went out fml.',\n",
       " 'Nt only for driving even for many reasons she is called BBD..thts it chikku, then hw abt dvg cold..heard tht vinobanagar violence hw is the condition..and hw ru ? Any problem?',\n",
       " 'Getting tickets 4 walsall tue 6 th march. My mate is getting me them on sat. ill pay my treat. Want 2 go. Txt bak .Terry',\n",
       " 'Nt joking seriously i told',\n",
       " \"says the  &lt;#&gt;  year old with a man and money. I'm down to my last  &lt;#&gt; . Still waiting for that check.\",\n",
       " 'Babe: U want me dont u baby! Im nasty and have a thing 4 filthyguys. Fancy a rude time with a sexy bitch. How about we go slo n hard! Txt XXX SLO(4msgs)',\n",
       " 'sports fans - get the latest sports news str* 2 ur mobile 1 wk FREE PLUS a FREE TONE Txt SPORT ON to 8007 www.getzed.co.uk 0870141701216+ norm 4txt/120p ',\n",
       " 'Or ill be a little closer like at the bus stop on the same street',\n",
       " 'Goodmorning, today i am late for 2hrs. Because of back pain.',\n",
       " \"Of course ! Don't tease me ... You know I simply must see ! *grins* ... Do keep me posted my prey ... *loving smile* *devouring kiss*\",\n",
       " 'Nah dub but je still buff',\n",
       " \"I'm gonna rip out my uterus.\",\n",
       " \"I'm okay. Chasing the dream. What's good. What are you doing next.\",\n",
       " 'Hello- thanx for taking that call. I got a job! Starts on monday!',\n",
       " 'Then why no one talking to me',\n",
       " 'Somewhr someone is surely made 4 u. And God has decided a perfect time to make u meet dat person. . . . till den, . . . . . Enjoy ur crushes..!!!;-)',\n",
       " 'I havent add ü yet right.. ',\n",
       " \"I'm on my way home. Went to change batt 4 my watch then go shop a bit lor.\",\n",
       " \"Idk. I'm sitting here in a stop and shop parking lot right now bawling my eyes out because i feel like i'm a failure in everything. Nobody wants me and now i feel like i'm failing you.\",\n",
       " 'Is avatar supposed to have subtoitles',\n",
       " \"Aight, I'll ask a few of my roommates\",\n",
       " \"Solve d Case : A Man Was Found Murdered On  &lt;DECIMAL&gt; . &lt;#&gt;  AfterNoon. 1,His wife called Police. 2,Police questioned everyone. 3,Wife: Sir,I was sleeping, when the murder took place. 4.Cook: I was cooking. 5.Gardener: I was picking vegetables. 6.House-Maid: I went 2 d post office. 7.Children: We went 2 play. 8.Neighbour: We went 2 a marriage. Police arrested d murderer Immediately. Who's It? Reply With Reason, If U r Brilliant.\",\n",
       " 'Wow ... I love you sooo much, you know ? I can barely stand it ! I wonder how your day goes and if you are well, my love ... I think of you and miss you',\n",
       " \"Id have to check but there's only like 1 bowls worth left\",\n",
       " \"What's up bruv, hope you had a great break. Do have a rewarding semester.\",\n",
       " 'Hi. Happy New Year. I dont mean to intrude but can you pls let me know how much tuition you paid last semester and how much this semester is. Thanks',\n",
       " 'Wen u miss someone, the person is definitely special for u..... But if the person is so special, why to miss them, just Keep-in-touch gdeve..',\n",
       " 'Yeah work is fine, started last week, all the same stuff as before, dull but easy and guys are fun!',\n",
       " 'Ill call u 2mrw at ninish, with my address that icky American freek wont stop callin me 2 bad Jen k eh?',\n",
       " 'ALRITE SAM ITS NIC JUST CHECKIN THAT THIS IS UR NUMBER-SO IS IT?T.B*',\n",
       " '-PLS STOP bootydelious (32/F) is inviting you to be her friend. Reply YES-434 or NO-434 See her: www.SMS.ac/u/bootydelious STOP? Send STOP FRND to 62468',\n",
       " 'Minimum walk is 3miles a day.',\n",
       " \"Well I wasn't available as I washob nobbing with last night so they had to ask Nickey Platt instead of me!;\",\n",
       " \"K and you're sure I don't have to have consent forms to do it :V\",\n",
       " 'Come aftr  &lt;DECIMAL&gt; ..now i m cleaning the house',\n",
       " '2marrow only. Wed at  &lt;#&gt;  to 2 aha.',\n",
       " 'Dude got a haircut. Now its breezy up there',\n",
       " 'I.ll always be there, even if its just in spirit. I.ll get a bb soon. Just trying to be sure i need it.',\n",
       " \"Oops my phone died and I didn't even know. Yeah I like it better.\",\n",
       " 'The Xmas story is peace.. The Xmas msg is love.. The Xmas miracle is jesus.. Hav a blessed month ahead &amp; wish U Merry Xmas...',\n",
       " 'Did u find a sitter for kaitlyn? I was sick and slept all day yesterday.',\n",
       " 'S.this will increase the chance of winning.',\n",
       " 'SMS SERVICES For your inclusive text credits pls gotto www.comuk.net login 3qxj9 unsubscribe with STOP no extra charge help 08702840625 comuk.220cm2 9AE',\n",
       " 'watever reLation u built up in dis world only thing which remains atlast iz lonlines with lotz n lot memories! feeling..',\n",
       " 'i see. When we finish we have loads of loans to pay',\n",
       " 'Call Germany for only 1 pence per minute! Call from a fixed line via access number 0844 861 85 85. No prepayment. Direct access!',\n",
       " 'Yo come over carlos will be here soon',\n",
       " 'SMS SERVICES. for your inclusive text credits, pls goto www.comuk.net login= ***** unsubscribe with STOP. no extra charge. help:08700469649. PO BOX420. IP4 5WE',\n",
       " 'Is that what time you want me to come?',\n",
       " \"Think I could stop by in like an hour or so? My roommate's looking to stock up for a trip\",\n",
       " 'K, if u bored up just come to my home..',\n",
       " 'I have printed it oh. So  &lt;#&gt;  come upstairs',\n",
       " 'Tessy..pls do me a favor. Pls convey my birthday wishes to Nimya..pls dnt forget it. Today is her birthday Shijas',\n",
       " 'Babe ? I lost you ... :-(',\n",
       " 'Well obviously not because all the people in my cool college life went home ;_;',\n",
       " 'Dhoni have luck to win some big title.so we will win:)',\n",
       " \"Too late. I said i have the website. I didn't i have or dont have the slippers\",\n",
       " 'Nothing much, chillin at home. Any super bowl plan?',\n",
       " 'Why tired what special there you had',\n",
       " \"Carlos is taking his sweet time as usual so let me know when you and patty are done/want to smoke and I'll tell him to haul ass\",\n",
       " '500 New Mobiles from 2004, MUST GO! Txt: NOKIA to No: 89545 & collect yours today!From ONLY £1 www.4-tc.biz 2optout 087187262701.50gbp/mtmsg18 TXTAUCTION',\n",
       " 'Lol! Oops sorry! Have fun. ',\n",
       " 'I cant wait to see you! How were the photos were useful? :)',\n",
       " \"Evening * v good if somewhat event laden. Will fill you in, don't you worry … Head * ok but throat * wrecked. See you at six then!\",\n",
       " 'Havent shopping now lor i juz arrive only',\n",
       " 'What happened to our yo date?',\n",
       " 'Dear, take care. I am just reaching home.love u a lot.',\n",
       " 'FREE UNLIMITED HARDCORE PORN direct 2 your mobile Txt PORN to 69200 & get FREE access for 24 hrs then chrgd@50p per day txt Stop 2exit. This msg is free',\n",
       " 'East coast',\n",
       " 'Y so late but i need to go n get da laptop...',\n",
       " 'So what u doing today?',\n",
       " 'Promotion Number: 8714714 - UR awarded a City Break and could WIN a £200 Summer Shopping spree every WK. Txt STORE to 88039 . SkilGme. TsCs087147403231Winawk!Age16 £1.50perWKsub',\n",
       " 'WOT STUDENT DISCOUNT CAN U GET ON BOOKS?',\n",
       " 'I can do that! I want to please you both inside and outside the bedroom...',\n",
       " 'Hi juan. Im coming home on fri hey. Of course i expect a welcome party and lots of presents. Ill phone u when i get back. Loads of love nicky x x x x x x x x x',\n",
       " 'Do you want 750 anytime any network mins 150 text and a NEW video phone for only five pounds per week call 08000776320 now or reply for delivery Tomorrow',\n",
       " 'Congratulations ur awarded 500 of CD vouchers or 125gift guaranteed & Free entry 2 100 wkly draw txt MUSIC to 87066 TnCs www.Ldew.com1win150ppmx3age16',\n",
       " 'URGENT! Your Mobile number has been awarded with a £2000 prize GUARANTEED. Call 09058094454 from land line. Claim 3030. Valid 12hrs only',\n",
       " 'Happy new year to u too!',\n",
       " \"There's no point hangin on to mr not right if he's not makin u happy\",\n",
       " 'Are you still playing with gautham?',\n",
       " '3 FREE TAROT TEXTS! Find out about your love life now! TRY 3 FOR FREE! Text CHANCE to 85555 16 only! After 3 Free, Msgs £1.50 each',\n",
       " 'Please call our customer service representative on FREEPHONE 0808 145 4742 between 9am-11pm as you have WON a guaranteed £1000 cash or £5000 prize!',\n",
       " 'Yo, you around? Just got my car back',\n",
       " 'Hm good morning, headache anyone? :-)',\n",
       " 'URGENT! Your Mobile No was awarded a £2,000 Bonus Caller Prize on 1/08/03! This is our 2nd attempt to contact YOU! Call 0871-4719-523 BOX95QU BT National Rate',\n",
       " 'Huh so slow i tot u reach long ago liao... U 2 more days only i 4 more leh...',\n",
       " 'Ya very nice. . .be ready on thursday',\n",
       " \"Sorry man, accidentally left my phone on silent last night and didn't check it til I got up\",\n",
       " 'Wish u many many returns of the day.. Happy birthday vikky..',\n",
       " \"&lt;#&gt;  is fast approaching. So, Wish u a very Happy New Year Happy Sankranti Happy republic day Happy Valentines Day Happy Shivratri Happy Ugadi Happy Fools day Happy May Day Happy Independence Day, Happy Friendship,Mother,Father,Teachers,Childrens Day, &amp; HAPPY BIRTHDAY 4 U. Happy Ganesh festival Happy Dasara Happy Diwali Happy Christmas  &lt;#&gt;  Good Mornings Afternoons, Evenings Nights. RememberI AM the first to WISHING U ALL THESE...your's Raj\",\n",
       " 'You still coming tonight?',\n",
       " 'Crucify is c not s. You should have told me earlier.',\n",
       " 'Thank u!',\n",
       " 'Oh k.i think most of wi and nz players unsold.',\n",
       " \"He's just gonna worry for nothing. And he won't give you money its no use.\",\n",
       " 'Oh k k:)but he is not a big hitter.anyway good',\n",
       " 'Da my birthdate in certificate is in april but real date is today. But dont publish it. I shall give you a special treat if you keep the secret. Any way thanks for the wishes',\n",
       " 'I had been hoping i would not have to send you this message. My rent is due and i dont have enough for it. My reserves are completely gone. Its a loan i need and was hoping you could her. The balance is  &lt;#&gt; . Is there a way i could get that from you, till mid march when i hope to pay back.',\n",
       " 'Ok which your another number',\n",
       " \"My Parents, My Kidz, My Friends n My Colleagues. All screaming.. SURPRISE !! and I was waiting on the sofa.. ... ..... ' NAKED...!\",\n",
       " 'Dunno lei... I thk mum lazy to go out... I neva ask her yet...',\n",
       " 'Wishing you a beautiful day. Each moment revealing even more things to keep you smiling. Do enjoy it.',\n",
       " 'Glad to see your reply.',\n",
       " \"cThen i thk shd b enuff.. Still got conclusion n contents pg n references.. I'll b doing da contents pg n cover pg..\",\n",
       " 'No got new job at bar in airport on satsgettin 4.47per hour but means no lie in! keep in touch',\n",
       " \"Gr8. So how do you handle the victoria island traffic. Plus when's the album due\",\n",
       " 'tells u 2 call 09066358152 to claim £5000 prize. U have 2 enter all ur mobile & personal details @ the prompts. Careful!',\n",
       " 'HARD BUT TRUE: How much you show &amp;  express your love to someone....that much it will hurt when they leave you or you get seperated...!鈥┾??〨ud evening...',\n",
       " 'Sure, whenever you show the fuck up &gt;:(',\n",
       " \"T-Mobile customer you may now claim your FREE CAMERA PHONE upgrade & a pay & go sim card for your loyalty. Call on 0845 021 3680.Offer ends 28thFeb.T&C's apply\",\n",
       " \"Dear 0776xxxxxxx U've been invited to XCHAT. This is our final attempt to contact u! Txt CHAT to 86688 150p/MsgrcvdHG/Suite342/2Lands/Row/W1J6HL LDN 18yrs\",\n",
       " 'Yo theres no class tmrw right?',\n",
       " 'Every monday..nxt week vl be completing..',\n",
       " 'Where is it. Is there any opening for mca.',\n",
       " 'will you like to be spoiled? :)',\n",
       " 'Aww you must be nearly dead!Well Jez isComing over toDo some workAnd that whillTake forever!',\n",
       " 'R u in this continent?',\n",
       " 'Just got part Nottingham - 3 hrs 63miles. Good thing i love my man so much, but only doing 40mph. Hey ho',\n",
       " \"If you can make it any time tonight or whenever you can it's cool, just text me whenever you're around\",\n",
       " 'Want to finally have lunch today?',\n",
       " 'Ok. Not much to do here though. H&M Friday, cant wait. Dunno wot the hell im gonna do for another 3 weeks! Become a slob- oh wait, already done that! ',\n",
       " \"LookAtMe!: Thanks for your purchase of a video clip from LookAtMe!, you've been charged 35p. Think you can do better? Why not send a video in a MMSto 32323.\",\n",
       " \"Yes. They replied my mail. I'm going to the management office later. Plus will in to bank later also.or on wednesday.\",\n",
       " 'Which channel:-):-):):-).',\n",
       " \"Thanx. Yup we coming back on sun. Finish dinner going back 2 hotel now. Time flies, we're tog 4 exactly a mth today. Hope we'll haf many more mths to come...\",\n",
       " 'Okay name ur price as long as its legal! Wen can I pick them up? Y u ave x ams xx',\n",
       " \"Haha I heard that, text me when you're around\",\n",
       " \"Ü eatin later but i'm eatin wif my frens now lei... Ü going home first? \",\n",
       " 'Just nw i came to hme da..',\n",
       " \"Please don't text me anymore. I have nothing else to say.\",\n",
       " 'Ok lor.',\n",
       " 'Merry Christmas to you too babe, i love ya *kisses*',\n",
       " 'All e best 4 ur exam later.',\n",
       " 'they released another Italian one today and it has a cosign option',\n",
       " 'Hi darlin i cantdo anythingtomorrow as myparents aretaking me outfor a meal. when are u free? Katexxx',\n",
       " 'Al he does is moan at me if n e thin goes wrong its my fault&al de arguments r my fault&fed up of him of himso y bother? Hav 2go, thanx.xx',\n",
       " 'If india win or level series means this is record:)',\n",
       " \"Not really dude, have no friends i'm afraid :(\",\n",
       " 'Great escape. I fancy the bridge but needs her lager. See you tomo ',\n",
       " 'I got arrested for possession at, I shit you not,  &lt;TIME&gt;  pm',\n",
       " 'Thank you. do you generally date the brothas?',\n",
       " 'Yes :)it completely in out of form:)clark also utter waste.',\n",
       " \"I've sent my wife your text. After we buy them she'll tell you what to do. So just relax. We should go get them this wkend.\",\n",
       " 'Oh great. I.ll disturb him more so that we can talk.',\n",
       " 'Lol alright i was thinkin that too haha',\n",
       " \"Can you let me know details of fri when u find out cos I'm not in tom or fri. mentionned chinese. Thanks\",\n",
       " \"Man this bus is so so so slow. I think you're gonna get there before me\",\n",
       " 'Hi, my love! How goes that day? Fuck, this morning I woke and dropped my cell on the way down the stairs but it seems alright ... *phews* I miss you !',\n",
       " \"Congratulations YOU'VE Won. You're a Winner in our August £1000 Prize Draw. Call 09066660100 NOW. Prize Code 2309.\",\n",
       " 'It‘s £6 to get in, is that ok?',\n",
       " 'Do you want a New Nokia 3510i colour phone DeliveredTomorrow? With 300 free minutes to any mobile + 100 free texts + Free Camcorder reply or call 08000930705',\n",
       " 'Then dun wear jeans lor...',\n",
       " 'Its  &lt;#&gt; k here oh. Should i send home for sale.',\n",
       " 'Thanks. It was only from tescos but quite nice. All gone now. Speak soon ',\n",
       " 'You have an important customer service announcement. Call FREEPHONE 0800 542 0825 now!',\n",
       " 'Hey tmr meet at bugis 930 ?',\n",
       " 'What you thinked about me. First time you saw me in class.',\n",
       " \"Yep get with the program. You're slacking.\",\n",
       " \"Havent stuck at orchard in my dad's car. Going 4 dinner now. U leh? So r they free tonight?\",\n",
       " 'K k pa Had your lunch aha.',\n",
       " 'Pls give her the food preferably pap very slowly with loads of sugar. You can take up to an hour to give it. And then some water. Very very slowly.',\n",
       " \"Hey r ü still online? I've finished the formatting...\",\n",
       " 'Thanks for this hope you had a good day today',\n",
       " 'Stupid auto correct on my phone',\n",
       " 'Are you in castor? You need to see something',\n",
       " 'Dear good morning now only i am up',\n",
       " 'I called but no one pick up e phone. I ask both of them already they said ok.',\n",
       " 'U in town alone?',\n",
       " \"Nope but i'll b going 2 sch on fri quite early lor cos mys sis got paper in da morn :-)\",\n",
       " 'Lol I would but despite these cramps I like being a girl.',\n",
       " \"Ü neva tell me how i noe... I'm not at home in da aft wat... \",\n",
       " 'By the way, make sure u get train to worc foregate street not shrub hill. Have fun night x',\n",
       " 'You call him and tell now infront of them. Call him now.',\n",
       " 'Camera - You are awarded a SiPix Digital Camera! call 09061221066 fromm landline. Delivery within 28 days',\n",
       " 'CHEERS FOR CALLIN BABE.SOZI CULDNT TALKBUT I WANNATELL U DETAILS LATER WENWECAN CHAT PROPERLY X',\n",
       " \"Pls tell nelson that the bb's are no longer comin. The money i was expecting aint coming\",\n",
       " \"Doc prescribed me morphine cause the other pain meds aren't enough. Waiting for my mom to bring it. That med should kick in fast so I'm gonna try to be on later\",\n",
       " 'Pls accept me for one day. Or am begging you change the number.',\n",
       " 'Dont you have message offer',\n",
       " 'Ü v ma fan...',\n",
       " 'Sac will score big hundred.he is set batsman:-)',\n",
       " 'Mom wants to know where you at',\n",
       " 'How much she payed. Suganya.',\n",
       " \"I've reached home finally...\",\n",
       " 'Hope you are having a good week. Just checking in',\n",
       " 'Are u awake? Is there snow there?',\n",
       " 'I wnt to buy a BMW car urgently..its vry urgent.but hv a shortage of  &lt;#&gt; Lacs.there is no source to arng dis amt. &lt;#&gt; lacs..thats my prob',\n",
       " 'ALRITE HUNNY!WOT U UP 2 2NITE? DIDNT END UP GOIN DOWN TOWN JUS DA PUB INSTEAD! JUS CHILLIN AT DA MO IN ME BEDROOM!LOVE JEN XXX.',\n",
       " 'Ok that would b lovely, if u r sure. Think about wot u want to do, drinkin, dancin, eatin, cinema, in, out, about... Up to u! Wot about ? ',\n",
       " 'FreeMSG You have been awarded a FREE mini DIGITAL CAMERA, just reply SNAP to collect your prize! (quizclub Opt out? Stop 80122300p/wk SP:RWM Ph:08704050406)',\n",
       " 'You only hate me. You can call any but you didnt accept even a single call of mine. Or even you messaged',\n",
       " 'Already one guy loving you:-.',\n",
       " \"&lt;#&gt; , that's all? Guess that's easy enough\",\n",
       " 'Huh but i cant go 2 ur house empty handed right?',\n",
       " \"Ya, i'm referin to mei's ex wat... No ah, waitin 4 u to treat, somebody shld b rich liao...So gd, den u dun have to work frm tmr onwards...\",\n",
       " \"I've told him that i've returned it. That should i re order it.\",\n",
       " 'Todays Voda numbers ending with 7634 are selected to receive a £350 reward. If you have a match please call 08712300220 quoting claim code 7684 standard rates apply.',\n",
       " 'Do you want a new Video handset? 750 any time any network mins? UNLIMITED TEXT? Camcorder? Reply or Call now 08000930705 for del Sat AM',\n",
       " 'Aiyo cos i sms ü then ü neva reply so i wait 4 ü to reply lar. I tot ü havent finish ur lab wat.',\n",
       " \"No chikku nt yet.. Ya i'm free\",\n",
       " 'Package all your programs well',\n",
       " 'No let me do the math. Your not good at it.',\n",
       " 'Huh y lei...',\n",
       " 'Hi. Wk been ok - on hols now! Yes on for a bit of a run. Forgot that i have hairdressers appointment at four so need to get home n shower beforehand. Does that cause prob for u?\"',\n",
       " 'You still at the game?',\n",
       " 'Yes..he is really great..bhaji told kallis best cricketer after sachin in world:).very tough to get out.',\n",
       " \"We'll join the  &lt;#&gt;  bus\",\n",
       " \"Oh yeah clearly it's my fault\",\n",
       " 'Good afternoon loverboy ! How goes you day ? Any luck come your way? I think of you, sweetie and send my love across the sea to make you smile and happy',\n",
       " 'Sorry my roommates took forever, it ok if I come by now?',\n",
       " 'Left dessert. U wan me 2 go suntec look 4 u?',\n",
       " \"I'm not coming home 4 dinner.\",\n",
       " \"Genius what's up. How your brother. Pls send his number to my skype.\",\n",
       " \"Yeah that's the impression I got\",\n",
       " \"FR'NDSHIP is like a needle of a clock. Though V r in d same clock, V r nt able 2 met. Evn if V meet,itz only 4few seconds. Bt V alwys stay conected. Gud 9t;-)\",\n",
       " \"Nvm... I'm going to wear my sport shoes anyway... I'm going to be late leh.\",\n",
       " 'Where are you call me.',\n",
       " 'Alright, see you in a bit',\n",
       " 'How many times i told in the stage all use to laugh. You not listen aha.',\n",
       " '&lt;#&gt; %of pple marry with their lovers... becz they hav gud undrstndng dat avoids problems. i sent dis 2 u, u wil get gud news on friday by d person you like. And tomorrow will be the best day of your life. Dont break this chain. If you break you will suffer. send this to  &lt;#&gt;  frnds in &lt;#&gt;  mins whn u read...',\n",
       " 'How will I creep on you now? ;_;',\n",
       " 'Did you hear about the new \"Divorce Barbie\"? It comes with all of Ken\\'s stuff!',\n",
       " 'But my family not responding for anything. Now am in room not went to home for diwali but no one called me and why not coming. It makes me feel like died.',\n",
       " \"That's fine, have him give me a call if he knows what he wants or has any questions\",\n",
       " 'You are guaranteed the latest Nokia Phone, a 40GB iPod MP3 player or a £500 prize! Txt word: COLLECT to No: 83355! IBHltd LdnW15H 150p/Mtmsgrcvd18+',\n",
       " 'Midnight at the earliest',\n",
       " \"Yeah that's what I thought, lemme know if anything's goin on later\",\n",
       " 'Am in film ill call you later.',\n",
       " 'swhrt how u dey,hope ur ok, tot about u 2day.love n miss.take care.',\n",
       " 'I‘m going to try for 2 months ha ha only joking',\n",
       " 'Found it, ENC  &lt;#&gt; , where you at?',\n",
       " 'Call from 08702490080 - tells u 2 call 09066358152 to claim £5000 prize. U have 2 enter all ur mobile & personal details @ the prompts. Careful!',\n",
       " 'Ok... But bag again..',\n",
       " 'No..but heard abt tat..',\n",
       " 'Anything is valuable in only 2 situations: First- Before getting it... Second- After loosing it...',\n",
       " 'Ok... Let u noe when i leave my house.',\n",
       " 'There the size of elephant tablets & u shove um up ur ass!!',\n",
       " 'I asked you to call him now ok',\n",
       " 'Please tell me not all of my car keys are in your purse',\n",
       " \"You available now? I'm like right around hillsborough &amp;  &lt;#&gt; th\",\n",
       " 'You see the requirements please',\n",
       " 'Thank You meet you monday',\n",
       " \"Hey sweet, I was wondering when you had a moment if you might come to me ? I want to send a file to someone but it won't go over yahoo for them because their connection sucks, remember when you set up that page for me to go to and download the format disc ? Could you tell me how to do that ? Or do you know some other way to download big files ? Because they can download stuff directly from the internet. Any help would be great, my prey ... *teasing kiss*\",\n",
       " \"What u mean u almost done? Done wif sleeping? But i tot u going to take a nap.. Yup i send her liao so i'm picking her up at ard 4 smth lor..\",\n",
       " 'URGENT!: Your Mobile No. was awarded a £2,000 Bonus Caller Prize on 02/09/03! This is our 2nd attempt to contact YOU! Call 0871-872-9755 BOX95QU',\n",
       " 'whatever, im pretty pissed off.',\n",
       " 'Finally it has happened..! Aftr decades..! BEER is now cheaper than PETROL! The goverment expects us to \"DRINK\". . . But don\\'t \"DRIVE \"',\n",
       " 'Then its most likely called Mittelschmertz. Google it. If you dont have paracetamol dont worry it will go.',\n",
       " 'Not tonight mate. Catching up on some sleep. This is my new number by the way. ',\n",
       " \"No dude, its not fake..my frnds got money, thts y i'm reffering u..if u member wit my mail link, u vl be credited  &lt;#&gt; rs and il be getiing  &lt;#&gt; rs..i can draw my acc wen it is  &lt;#&gt; rs..\",\n",
       " \"I thk ü gotta go home by urself. Cos i'll b going out shopping 4 my frens present. \",\n",
       " 'Ok then no need to tell me anything i am going to sleep good night',\n",
       " 'YOU HAVE WON! As a valued Vodafone customer our computer has picked YOU to win a £150 prize. To collect is easy. Just call 09061743386',\n",
       " 'Good morning, my Love ... I go to sleep now and wish you a great day full of feeling better and opportunity ... You are my last thought babe, I LOVE YOU *kiss*',\n",
       " \"Don know. I did't msg him recently.\",\n",
       " \"Yeah there's barely enough room for the two of us, x has too many fucking shoes. Sorry man, see you later\",\n",
       " \"Sorry da thangam.it's my mistake.\",\n",
       " 'Fine. Do you remember me.',\n",
       " \"Yeah I don't see why not\",\n",
       " 'I thk 50 shd be ok he said plus minus 10.. Did ü leave a line in between paragraphs?',\n",
       " 'Mm yes dear look how i am hugging you both. :-P',\n",
       " 'Yes! How is a pretty lady like you single?',\n",
       " 'Oh ok..',\n",
       " 'Watching telugu movie..wat abt u?',\n",
       " 'Ok i shall talk to him',\n",
       " 'Pls help me tell Ashley that i cant find her number oh',\n",
       " 'Not course. Only maths one day one chapter with in one month we can finish.',\n",
       " \"I'll probably be by tomorrow (or even later tonight if something's going on)\",\n",
       " \"Hmm ok, i'll stay for like an hour cos my eye is really sore!\",\n",
       " \"Oh shut it. Omg yesterday I had a dream that I had 2 kids both boys. I was so pissed. Not only about the kids but them being boys. I even told mark in my dream that he was changing diapers cause I'm not getting owed in the face.\",\n",
       " 'No. Yes please. Been swimming?',\n",
       " 'You unbelievable faglord',\n",
       " 'No need for the drug anymore.',\n",
       " 'K then 2marrow are you coming to class.',\n",
       " 'Hows the street where the end of library walk is?',\n",
       " 'I don know account details..i will ask my mom and send you.my mom is out of reach now.',\n",
       " 'Well am officially in a philosophical hole, so if u wanna call am at home ready to be saved!',\n",
       " 'Todays Vodafone numbers ending with 4882 are selected to a receive a £350 award. If your number matches call 09064019014 to receive your £350 award.',\n",
       " \"What's up. Do you want me to come online?\",\n",
       " \"I'm fine. Hope you are also\",\n",
       " 'Hello! Just got here, st andrews-boy its a long way! Its cold. I will keep you posted',\n",
       " 'Sian... Aft meeting supervisor got work 2 do liao... U working now?',\n",
       " 'Thts wat Wright Brother did to fly..',\n",
       " \"Alright, we're all set here, text the man\",\n",
       " 'Hi :)finally i completed the course:)',\n",
       " 'Heehee that was so funny tho',\n",
       " 'Your B4U voucher w/c 27/03 is MARSMS. Log onto www.B4Utele.com for discount credit. To opt out reply stop. Customer care call 08717168528',\n",
       " \"Oh, the grand is having a bit of a party but it doesn't mention any cover charge so it's probably first come first served\",\n",
       " \"(No promises on when though, haven't even gotten dinner yet)\",\n",
       " 'thesmszone.com lets you send free anonymous and masked messages..im sending this message from there..do you see the potential for abuse???',\n",
       " \"Aight, let me know when you're gonna be around usf\",\n",
       " \"Yeah there's quite a bit left, I'll swing by tomorrow when I get up\",\n",
       " \"Aww that's the first time u said u missed me without asking if I missed u first. You DO love me! :)\",\n",
       " \"If you don't, your prize will go to another customer. T&C at www.t-c.biz 18+ 150p/min Polo Ltd Suite 373 London W1J 6HL Please call back if busy\",\n",
       " \"Wat's da model num of ur phone?\",\n",
       " 'Yes, my reg is  Ciao!',\n",
       " \"Y she dun believe leh? I tot i told her it's true already. I thk she muz c us tog then she believe.\",\n",
       " \"So ü'll be submitting da project tmr rite?\",\n",
       " 'Hey... What time is your driving on fri? We go for evaluation on fri?',\n",
       " 'Response is one of d powerful weapon 2 occupy a place in others \\'HEART\\'... So, always give response 2 who cares 4 U\"... Gud night..swt dreams..take care',\n",
       " 'Yo we are watching a movie on netflix',\n",
       " 'Hmmm:)how many players selected?',\n",
       " 'I not free today i haf 2 pick my parents up tonite...',\n",
       " 'i can call in  &lt;#&gt;  min if thats ok',\n",
       " 'Y?WHERE U AT DOGBREATH? ITS JUST SOUNDING LIKE JAN C THAT\\x92S AL!!!!!!!!!',\n",
       " \"What is this 'hex' place you talk of? Explain!\",\n",
       " 'Nope... Think i will go for it on monday... Sorry i replied so late',\n",
       " 'Its sarcasm.. .nt scarcasim',\n",
       " 'Miss call miss call khelate kintu opponenter miss call dhorte lage. Thats d rule. One with great phone receiving quality wins.',\n",
       " \"Sorry i cant take your call right now. It so happens that there r 2waxsto do wat you want. She can come and ill get her medical insurance. And she'll be able to deliver and have basic care. I'm currently shopping for the right medical insurance for her. So just give me til friday morning. Thats when i.ll see the major person that can guide me to the right insurance.\",\n",
       " 'In da car park ',\n",
       " 'Later i guess. I needa do mcat study too.',\n",
       " \"Hi hope u r both ok, he said he would text and he hasn't, have u seen him, let me down gently please \",\n",
       " \"Sorry, got a late start, we're on the way\",\n",
       " 'Doing project w frens lor. ',\n",
       " \"Lol they don't know about my awesome phone. I could click delete right now if I want.\",\n",
       " 'K tell me anything about you.',\n",
       " 'Missing you too.pray inshah allah',\n",
       " 'Many more happy returns of the day. I wish you happy birthday.',\n",
       " 'Guess he wants alone time. We could just show up and watch when they do..',\n",
       " 'URGENT! Your Mobile number has been awarded with a £2000 prize GUARANTEED. Call 09058094455 from land line. Claim 3030. Valid 12hrs only',\n",
       " 'Meet after lunch la...',\n",
       " 'Ay wana meet on sat?ü wkg on sat?',\n",
       " 'Remember all those whom i hurt during days of satanic imposter in me.need to pay a price,so be it.may destiny keep me going and as u said pray that i get the mind to get over the same.',\n",
       " 'Tell them no need to investigate about me anywhere.',\n",
       " \"Me sef dey laugh you. Meanwhile how's my darling anjie!\",\n",
       " 'sir, you will receive the account no another 1hr time. Sorry for the delay.',\n",
       " 'Ok how you dear. Did you call chechi',\n",
       " 'Well, I have to leave for my class babe ... You never came back to me ... :-( ... Hope you have a nice sleep, my love',\n",
       " 'I sent you  &lt;#&gt;  bucks',\n",
       " 'Holy living christ what is taking you so long',\n",
       " 'Ic. There are a lotta childporn cars then.',\n",
       " 'There bold 2  &lt;#&gt; . Is that yours',\n",
       " 'Dude avatar 3d was imp. At one point i thought there were actually flies in the room and almost tried hittng one as a reflex',\n",
       " \"sry can't talk on phone, with parents\",\n",
       " \"Nice. Wait...should you be texting right now? I'm not gonna pay your ticket, ya know!\",\n",
       " 'Your dad is back in ph?',\n",
       " 'Garbage bags, eggs, jam, bread, hannaford wheat chex',\n",
       " \"Great. I'm in church now, will holla when i get out\",\n",
       " 'Haf u found him? I feel so stupid da v cam was working.',\n",
       " 'Love that holiday Monday feeling even if I have to go to the dentists in an hour',\n",
       " 'Hmm...Bad news...Hype park plaza $700 studio taken...Only left 2 bedrm-$900...',\n",
       " \"No. But we'll do medical missions to nigeria\",\n",
       " \"You're right I have now that I think about it\",\n",
       " 'Thanks for sending this mental ability question..',\n",
       " \"So i'm doing a list of buyers.\",\n",
       " 'Dear got bus directly to calicut',\n",
       " 'This is the 2nd time we have tried to contact u. U have won the £400 prize. 2 claim is easy, just call 087104711148 NOW! Only 10p per minute. BT-national-rate',\n",
       " 'They said ü dun haf passport or smth like dat.. Or ü juz send to my email account..  ',\n",
       " \"Damn, poor zac doesn't stand a chance\",\n",
       " 'Wait.i will come out.. &lt;#&gt;  min:)',\n",
       " 'Argh my 3g is spotty, anyway the only thing I remember from the research we did was that province and sterling were the only problem-free places we looked at',\n",
       " \"I'm home. Doc gave me pain meds says everything is fine.\",\n",
       " \"Yeah I think my usual guy's still passed out from last night, if you get ahold of anybody let me know and I'll throw down\",\n",
       " 'We don call like  &lt;#&gt;  times oh. No give us hypertension oh.',\n",
       " 'WIN a £200 Shopping spree every WEEK Starting NOW. 2 play text STORE to 88039. SkilGme. TsCs08714740323 1Winawk! age16 £1.50perweeksub.',\n",
       " 'How is it possible to teach you. And where.',\n",
       " \"The affidavit says  &lt;#&gt;  E Twiggs St, division g, courtroom  &lt;#&gt; , &lt;TIME&gt;  AM. I'll double check and text you again tomorrow\",\n",
       " 'Wishing you and your family Merry \"X\" mas and HAPPY NEW Year in advance..',\n",
       " 'Okie...',\n",
       " 'Good Morning my Dear........... Have a great &amp; successful day.',\n",
       " 'It only does simple arithmetic not percentages.',\n",
       " \"And I don't plan on staying the night but I prolly won't be back til late\",\n",
       " 'Call Germany for only 1 pence per minute! Call from a fixed line via access number 0844 861 85 85. No prepayment. Direct access! www.telediscount.co.uk',\n",
       " 'Lol yep did that yesterday. Already got my fireplace. Now its just another icon sitting there for me.',\n",
       " 'Shall i start from hear.',\n",
       " 'Am on the uworld site. Am i buying the qbank only or am i buying it with the self assessment also?',\n",
       " \"I'm in office now . I will call you  &lt;#&gt;  min:)\",\n",
       " 'Oh thanks a lot..i already bought 2 eggs ..',\n",
       " \"Yeah my usual guy's out of town but there're definitely people around I know\",\n",
       " 'Well boy am I glad G wasted all night at applebees for nothing',\n",
       " 'Mum ask ü to buy food home...',\n",
       " 'What will we do in the shower, baby?',\n",
       " 'S.i think he is waste for rr..',\n",
       " \"Wat's my dear doing? Sleeping ah?\",\n",
       " 'Howz that persons story',\n",
       " 'You are a big chic. Common. Declare',\n",
       " 'Your account has been credited with 500 FREE Text Messages. To activate, just txt the word: CREDIT to No: 80488 T&Cs www.80488.biz',\n",
       " 'For many things its an antibiotic and it can be used for chest abdomen and gynae infections even bone infections.',\n",
       " 'S...from the training manual it show there is no tech process:)its all about password reset and troubleshooting:)',\n",
       " 'No message..no responce..what happend?',\n",
       " 'Your weekly Cool-Mob tones are ready to download !This weeks new Tones include: 1) Crazy Frog-AXEL F>>> 2) Akon-Lonely>>> 3) Black Eyed-Dont P >>>More info in n',\n",
       " \"I re-met alex nichols from middle school and it turns out he's dealing!\",\n",
       " 'Today is \"song dedicated day..\" Which song will u dedicate for me? Send this to all ur valuable frnds but first rply me...',\n",
       " 'Sounds good, keep me posted',\n",
       " 'Got meh... When?',\n",
       " 'It just seems like weird timing that the night that all you and g want is for me to come smoke is the same day as when a shitstorm is attributed to me always coming over and making everyone smoke',\n",
       " 'How come she can get it? Should b quite diff to guess rite...',\n",
       " 'Host-based IDPS for linux systems.',\n",
       " 'My battery is low babe',\n",
       " \"Fuck babe ... I miss you already, you know ? Can't you let me send you some money towards your net ? I need you ... I want you ... I crave you ...\",\n",
       " 'happened here while you were adventuring',\n",
       " 'Spoons it is then okay?',\n",
       " \"Mah b, I'll pick it up tomorrow\",\n",
       " 'Are you driving or training?',\n",
       " 'Urgent! Please call 09061743811 from landline. Your ABTA complimentary 4* Tenerife Holiday or £5000 cash await collection SAE T&Cs Box 326 CW25WX 150ppm',\n",
       " 'As in i want custom officer discount oh.',\n",
       " 'Xmas Offer! Latest Motorola, SonyEricsson & Nokia & FREE Bluetooth or DVD! Double Mins & 1000 Txt on Orange. Call MobileUpd8 on 08000839402 or call2optout/4QF2',\n",
       " 'One of the joys in lifeis waking up each daywith thoughts that somewhereSomeone cares enough tosend a warm morning greeting.. -',\n",
       " 'Apo all other are mokka players only',\n",
       " 'And you! Will expect you whenever you text! Hope all goes well tomo ',\n",
       " 'Or just do that 6times',\n",
       " 'Cool, what time you think you can get here?',\n",
       " \"Free-message: Jamster!Get the crazy frog sound now! For poly text MAD1, for real text MAD2 to 88888. 6 crazy sounds for just 3 GBP/week! 16+only! T&C's apply\",\n",
       " 'Hey , is * rite u put »10 evey mnth is that all?',\n",
       " \"I can't, I don't have her number!\",\n",
       " 'Er mw im filled tuth is aight',\n",
       " 'There r many model..sony ericson also der.. &lt;#&gt; ..it luks good bt i forgot modl no',\n",
       " \"I'm ok. Will do my part tomorrow\",\n",
       " 'England v Macedonia - dont miss the goals/team news. Txt ur national team to 87077 eg ENGLAND to 87077 Try:WALES, SCOTLAND 4txt/ú1.20 POBOXox36504W45WQ 16+',\n",
       " 'Shall i get my pouch?',\n",
       " 'sexy sexy cum and text me im wet and warm and ready for some porn! u up for some fun? THIS MSG IS FREE RECD MSGS 150P INC VAT 2 CANCEL TEXT STOP',\n",
       " 'No probably  &lt;#&gt; %.',\n",
       " 'I wait 4 ü inside da car park...',\n",
       " 'Hello. They are going to the village pub at 8 so either come here or there accordingly. Ok?',\n",
       " 'My mobile number.pls sms ur mail id.convey regards to achan,amma.Rakhesh.Qatar',\n",
       " \"Sorry I flaked last night, shit's seriously goin down with my roommate, what you up to tonight?\",\n",
       " 'Be happy there. I will come after noon',\n",
       " 'How come it takes so little time for a child who is afraid of the dark to become a teenager who wants to stay out all night?',\n",
       " 'I have a rather prominent bite mark on my right cheek',\n",
       " ':) ',\n",
       " 'This msg is for your mobile content order It has been resent as previous attempt failed due to network error Queries to customersqueries@netvision.uk.com',\n",
       " 'You know, wot people wear. T shirts, jumpers, hat, belt, is all we know. We r at Cribbs',\n",
       " \"When people see my msgs, They think Iam addicted to msging... They are wrong, Bcoz They don\\\\'t know that Iam addicted to my sweet Friends..!! BSLVYL\",\n",
       " 'Loans for any purpose even if you have Bad Credit! Tenants Welcome. Call NoWorriesLoans.com on 08717111821',\n",
       " \"Let's pool our money together and buy a bunch of lotto tickets. If we win I get &lt;#&gt; % u get &lt;#&gt; %. Deal?\",\n",
       " \"Bored of speed dating? Try SPEEDCHAT, txt SPEEDCHAT to 80155, if you don't like em txt SWAP and get a new chatter! Chat80155 POBox36504W45WQ 150p/msg rcd 16\",\n",
       " 'Fancy a shag? I do.Interested? sextextuk.com txt XXUK SUZY to 69876. Txts cost 1.50 per msg. TnCs on website. X',\n",
       " 'Your 2004 account for 07XXXXXXXXX shows 786 unredeemed points. To claim call 08719181259 Identifier code: XXXXX Expires 26.03.05',\n",
       " \"Sorry vikky, i'm Watching olave mandara movie kano in trishul theatre wit my frnds..\",\n",
       " 'Doing nothing, then u not having dinner w us?',\n",
       " 'Shit that is really shocking and scary, cant imagine for a second. Def up for night out. Do u think there is somewhere i could crash for night, save on taxi?',\n",
       " \"My friend, she's studying at warwick, we've planned to go shopping and to concert tmw, but it may be canceled, havn't seen  for ages, yeah we should get together sometime!\",\n",
       " 'Hi if ur lookin 4 saucy daytime fun wiv busty married woman Am free all next week Chat now 2 sort time 09099726429 JANINExx Calls£1/minMobsmoreLKPOBOX177HP51FL',\n",
       " 'Are you going to write ccna exam this week??',\n",
       " 'I accidentally deleted the message. Resend please.',\n",
       " 'URGENT! This is the 2nd attempt to contact U!U have WON £1000CALL 09071512432 b4 300603t&csBCM4235WC1N3XX.callcost150ppmmobilesvary. max£7. 50',\n",
       " 'Did you say bold, then torch later. Or one torch and 2bold?',\n",
       " 'Dear are you angry i was busy dear',\n",
       " 'Oops. 4 got that bit.',\n",
       " 'Bognor it is! Should be splendid at this time of year.',\n",
       " 'Urgh, coach hot, smells of chip fat! Thanks again, especially for the duvet (not a predictive text word).',\n",
       " \"No he didn't. Spring is coming early yay!\",\n",
       " 'Would really appreciate if you call me. Just need someone to talk to.',\n",
       " 'Den only weekdays got special price... Haiz... Cant eat liao... Cut nails oso muz wait until i finish drivin wat, lunch still muz eat wat... ',\n",
       " 'I told that am coming on wednesday.',\n",
       " 'Ok cool. See ya then.',\n",
       " 'You made my day. Do have a great day too.',\n",
       " 'I think just yourself …Thanks and see you tomo',\n",
       " 'Yup song bro. No creative. Neva test quality. He said check review online.',\n",
       " \"He fucking chickened out. He messaged me he would be late and woould buzz me and then I didn't hear a word from him\",\n",
       " \"Yeah that'd pretty much be the best case scenario\",\n",
       " 'Yup... From what i remb... I think should be can book... ',\n",
       " 'Mm umma ask vava also to come tell him can play later together',\n",
       " 'Pls go ahead with watts. I just wanted to be sure. Do have a great weekend. Abiola',\n",
       " 'Hai ana tomarrow am coming on morning.  &lt;DECIMAL&gt;  ill be there in sathy then we ll go to RTO office. Reply me after came to home.',\n",
       " 'Now thats going to ruin your thesis!',\n",
       " 'Oi when you gonna ring',\n",
       " 'Have you been practising your curtsey?',\n",
       " \"Sir, I have been late in paying rent for the past few months and had to pay a $ &lt;#&gt;  charge. I felt it would be inconsiderate of me to nag about something you give at great cost to yourself and that's why i didnt speak up. I however am in a recession and wont be able to pay the charge this month hence my askin well ahead of month's end. Can you please help. Thanks\",\n",
       " \"Wanna get laid 2nite? Want real Dogging locations sent direct to ur mobile? Join the UK's largest Dogging Network. Txt PARK to 69696 now! Nyt. ec2a. 3lp £1.50/msg\",\n",
       " 'Ya even those cookies have jelly on them',\n",
       " 'Jolly good! By the way,  will give u tickets for sat eve 7.30. Speak before then x',\n",
       " 'Ya that one is slow as poo',\n",
       " 'Take some small dose tablet for fever',\n",
       " 'Block Breaker now comes in deluxe format with new features and great graphics from T-Mobile. Buy for just £5 by replying GET BBDELUXE and take the challenge',\n",
       " 'You have won a Nokia 7250i. This is what you get when you win our FREE auction. To take part send Nokia to 86021 now. HG/Suite342/2Lands Row/W1JHL 16+ ',\n",
       " 'Send to someone else :-)',\n",
       " \"Well imma definitely need to restock before thanksgiving, I'll let you know when I'm out\",\n",
       " 'URGENT! We are trying to contact U. Todays draw shows that you have won a £800 prize GUARANTEED. Call 09050001808 from land line. Claim M95. Valid12hrs only',\n",
       " 'Urgent! Please call 0906346330. Your ABTA complimentary 4* Spanish Holiday or £10,000 cash await collection SAE T&Cs BOX 47 PO19 2EZ 150ppm 18+',\n",
       " 'Dear Voucher Holder, To claim this weeks offer, at your PC please go to http://www.wtlp.co.uk/text. Ts&Cs apply.',\n",
       " 'Come to me, slave. Your doing it again ... Going into your shell and unconsciously avoiding me ... You are making me unhappy :-(',\n",
       " 'Mode men or have you left.',\n",
       " 'Yeah I imagine he would be really gentle. Unlike the other docs who treat their patients like turkeys.',\n",
       " \"She's borderline but yeah whatever.\",\n",
       " 'Dare i ask... Any luck with sorting out the car?',\n",
       " 'Ur TONEXS subscription has been renewed and you have been charged £4.50. You can choose 10 more polys this month. www.clubzed.co.uk *BILLING MSG*',\n",
       " 'Update_Now - 12Mths Half Price Orange line rental: 400mins...Call MobileUpd8 on 08000839402 or call2optout=J5Q',\n",
       " 'Yep. I do like the pink furniture tho.',\n",
       " 'Alright took the morphine. Back in yo.',\n",
       " 'Wat would u like 4 ur birthday?',\n",
       " 'Thank you baby! I cant wait to taste the real thing...',\n",
       " \"And is there a way you can send shade's stuff to her. And she has been wonderful too.\",\n",
       " 'Shopping lor. Them raining mah hard 2 leave orchard.',\n",
       " 'No need lar i go engin? Cos my sis at arts today...',\n",
       " 'Thanks honey. Have a great day.',\n",
       " 'I know you mood off today',\n",
       " 'He is impossible to argue with and he always treats me like his sub, like he never released me ... Which he did and I will remind him of that if necessary',\n",
       " \"Ugh its been a long day. I'm exhausted. Just want to cuddle up and take a nap\",\n",
       " \"(I should add that I don't really care and if you can't I can at least get this dude to fuck off but hey, your money if you want it)\",\n",
       " 'How much it will cost approx . Per month.',\n",
       " 'We tried to contact you re your reply to our offer of a Video Phone 750 anytime any network mins Half Price Line Rental Camcorder Reply or call 08000930705',\n",
       " 'Its so common hearin How r u? Wat r u doing? How was ur day? So let me ask u something different. Did u smile today? If not, do it now.... Gud evng.',\n",
       " 'Lol they were mad at first but then they woke up and gave in.',\n",
       " \"Party's at my place at usf, no charge (but if you can contribute in any way it is greatly appreciated) and yeah, we got room for one more\",\n",
       " 'Ok... Thanx... Gd nite 2 ü too...',\n",
       " 'Oh k:)after that placement there ah?',\n",
       " 'Im done. Just studyn in library',\n",
       " \"What's the significance?\",\n",
       " 'Do you like shaking your booty on the dance floor?',\n",
       " \"Alex says he's not ok with you not being ok with it\",\n",
       " \"It'll be tough, but I'll do what I have to\",\n",
       " 'Beautiful Truth against Gravity.. Read carefully: \"Our heart feels light when someone is in it.. But it feels very heavy when someone leaves it..\" GOODMORNING',\n",
       " 'Lol no. U can trust me.',\n",
       " 'CLAIRE here am havin borin time & am now alone U wanna cum over 2nite? Chat now 09099725823 hope 2 C U Luv CLAIRE xx Calls£1/minmoremobsEMSPOBox45PO139WA',\n",
       " 'Hey mr  and I are going to the sea view and having a couple of gays I mean games! Give me a bell when ya finish ',\n",
       " \"It's ok, at least armand's still around\",\n",
       " \"I don't have anybody's number, I still haven't thought up a tactful way to ask alex\",\n",
       " 'U buy newspapers already?',\n",
       " 'In xam hall boy asked girl Tell me the starting term for dis answer I can den manage on my own After lot of hesitation n lookin around silently she said THE! intha ponnungale ipaditan;)',\n",
       " 'Each Moment in a day,has its own value-Morning brings hope,afternoon brings faith,Evening brings luv,Night brings rest,Wish u find them all today.Good Morning',\n",
       " 'Oh you got many responsibilities.',\n",
       " 'When I was born, GOD said, \"Oh No! Another IDIOT\". When you were born, GOD said, \"OH No! COMPETITION\". Who knew, one day these two will become FREINDS FOREVER!',\n",
       " 'Ok lor... Or u wan me go look 4 u?',\n",
       " 'Alright i have a new goal now',\n",
       " 'Nah, Wednesday. When should I bring the mini cheetos bag over?',\n",
       " 'Hi its Kate how is your evening? I hope i can see you tomorrow for a bit but i have to bloody babyjontet! Txt back if u can. :) xxx',\n",
       " 'So ü pay first lar... Then when is da stock comin...',\n",
       " 'Hey we can go jazz power yoga hip hop kb and yogasana ',\n",
       " 'Oh Howda gud gud.. Mathe en samachara chikku:-)',\n",
       " 'At home by the way',\n",
       " \"I dun thk i'll quit yet... Hmmm, can go jazz ? Yogasana oso can... We can go meet em after our lessons den... \",\n",
       " 'Only once then after ill obey all yours.',\n",
       " 'I tagged MY friends that you seemed to count as YOUR friends.',\n",
       " 'Think + da. You wil do.',\n",
       " 'Idea will soon get converted to live:)',\n",
       " 'So you think i should actually talk to him? Not call his boss in the morning? I went to this place last year and he told me where i could go and get my car fixed cheaper. He kept telling me today how much he hoped i would come back in, how he always regretted not getting my number, etc.',\n",
       " 'Yar lor... How u noe? U used dat route too?',\n",
       " 'K..k...from tomorrow onwards started ah?',\n",
       " 'It will stop on itself. I however suggest she stays with someone that will be able to give ors for every stool.',\n",
       " 'Y lei?',\n",
       " 'U still going to the mall?',\n",
       " 'Yeah go on then, bored and depressed sittin waitin for phone to ring... Hope the wind drops though, scary',\n",
       " 'I will be gentle baby! Soon you will be taking all  &lt;#&gt;  inches deep inside your tight pussy...',\n",
       " 'You have won a guaranteed £200 award or even £1000 cashto claim UR award call free on 08000407165 (18+) 2 stop getstop on 88222 PHP. RG21 4JX',\n",
       " 'Really good:)dhanush rocks once again:)',\n",
       " 'U coming back 4 dinner rite? Dad ask me so i re confirm wif u...',\n",
       " 'Which is weird because I know I had it at one point',\n",
       " 'XMAS iscoming & ur awarded either £500 CD gift vouchers & free entry 2 r £100 weekly draw txt MUSIC to 87066 TnC www.Ldew.com1win150ppmx3age16subscription ',\n",
       " 'Good morning princess! Happy New Year!',\n",
       " 'Reckon need to be in town by eightish to walk from * carpark.',\n",
       " 'U’ve Bin Awarded £50 to Play 4 Instant Cash. Call 08715203028 To Claim. EVERY 9th Player Wins Min £50-£500. OptOut 08718727870',\n",
       " 'Dear Voucher Holder 2 claim your 1st class airport lounge passes when using Your holiday voucher call 08704439680. When booking quote 1st class x 2',\n",
       " 'Two teams waiting for some players',\n",
       " \"Aah! A cuddle would be lush! I'd need lots of tea and soup before any kind of fumbling!\",\n",
       " 'Oh k :)why you got job then whats up?',\n",
       " 'I dunno they close oredi not... Ü v ma fan...',\n",
       " \"No rushing. I'm not working. I'm in school so if we rush we go hungry.\",\n",
       " \"K come to nordstrom when you're done\",\n",
       " 'Ur cash-balance is currently 500 pounds - to maximize ur cash-in now send GO to 86688 only 150p/meg. CC: 08718720201 HG/Suite342/2lands Row/W1j6HL',\n",
       " 'Beerage?',\n",
       " \"Ok... But they said i've got wisdom teeth hidden inside n mayb need 2 remove.\",\n",
       " '[…] anyway, many good evenings to u! s',\n",
       " 'No plm i will come da. On the way.',\n",
       " \"Thanx 4 e brownie it's v nice...\",\n",
       " 'CERI U REBEL! SWEET DREAMZ ME LITTLE BUDDY!! C YA 2MORO! WHO NEEDS BLOKES',\n",
       " \"As I entered my cabin my PA said, '' Happy B'day Boss !!''. I felt special. She askd me 4 lunch. After lunch she invited me to her apartment. We went there.\",\n",
       " 'So that takes away some money worries',\n",
       " 'Apart from the one i told you about yesterday?',\n",
       " \"Yeah. I got a list with only u and Joanna if I'm feeling really anti social\",\n",
       " 'See? I thought it all through',\n",
       " 'JADE ITS PAUL. Y DIDN\\x92T U TXT ME? DO U REMEMBER ME FROM BARMED? I WANT 2 TALK 2 U! TXT ME',\n",
       " 'Ok then u tell me wat time u coming later lor.',\n",
       " \"OH MR SHEFFIELD! You wanna play THAT game, okay. You're the boss and I'm the nanny. You give me a raise and I'll give YOU one!!\",\n",
       " 'Dear we are going to our rubber place',\n",
       " 'K...k...when will you give treat?',\n",
       " 'Thankyou so much for the call. I appreciate your care.',\n",
       " \"Its Ur luck to Love someone. Its Ur fortune to Love the one who Loves U. But, its a miracle to Love a person who can't Love anyone except U... Gud nyt...\",\n",
       " 'HMM yeah if your not too grooved out! And im looking forward to my pound special :)',\n",
       " \"OK i'm waliking ard now... Do u wan me 2 buy anything go ur house?\",\n",
       " 'Yar lor he wan 2 go c horse racing today mah, so eat earlier lor. I ate chicken rice. U?',\n",
       " 'Urgent! call 09066350750 from your landline. Your complimentary 4* Ibiza Holiday or 10,000 cash await collection SAE T&Cs PO BOX 434 SK3 8WP 150 ppm 18+ ',\n",
       " 'Just glad to be talking to you.',\n",
       " 'You are a winner you have been specially selected to receive £1000 cash or a £2000 award. Speak to a live operator to claim call 087147123779am-7pm. Cost 10p',\n",
       " 'I got to video tape pple type in message lor. U so free wan 2 help me? Hee... Cos i noe u wan 2 watch infernal affairs so ask u along. Asking shuhui oso.',\n",
       " 'I want  &lt;#&gt;  rs da:)do you have it?',\n",
       " '(And my man carlos is definitely coming by mu tonight, no excuses)',\n",
       " 'Hello! How r u? Im bored. Inever thought id get bored with the tv but I am. Tell me something exciting has happened there? Anything! =/',\n",
       " 'Just sleeping..and surfing',\n",
       " 'Is there any movie theatre i can go to and watch unlimited movies and just pay once?',\n",
       " \"Yo you around? A friend of mine's lookin to pick up later tonight\",\n",
       " 'CHA QUITEAMUZING THAT\\x92SCOOL BABE,PROBPOP IN & CU SATTHEN HUNNY 4BREKKIE! LOVE JEN XXX. PSXTRA LRG PORTIONS 4 ME PLEASE ',\n",
       " \"Hello, my boytoy! I made it home and my constant thought is of you, my love. I hope your having a nice visit but I can't wait till you come home to me ...*kiss*\",\n",
       " 'I send the print  outs da.',\n",
       " 'I dunno until when... Lets go learn pilates...',\n",
       " \"chile, please! It's only a  &lt;DECIMAL&gt;  hour drive for me. I come down all the time and will be subletting feb-april for audition season.\",\n",
       " 'Convey my regards to him',\n",
       " 'Early bird! Any purchases yet?',\n",
       " \"K, can I pick up another 8th when you're done?\",\n",
       " \"Was just about to ask. Will keep this one. Maybe that's why you didn't get all the messages we sent you on glo\",\n",
       " 'Gud mrng dear hav a nice day',\n",
       " 'NOT MUCH NO FIGHTS. IT WAS A GOOD NITE!!',\n",
       " \"Yeah I should be able to, I'll text you when I'm ready to meet up\",\n",
       " \"I'm going for bath will msg you next  &lt;#&gt;  min..\",\n",
       " 'Can a not?',\n",
       " 'YOU 07801543489 are guaranteed the latests Nokia Phone, a 40GB iPod MP3 player or a £500 prize! Txt word:COLLECT to No:83355! TC-LLC NY-USA 150p/Mt msgrcvd18+',\n",
       " 'No need lar. Jus testing e phone card. Dunno network not gd i thk. Me waiting 4 my sis 2 finish bathing so i can bathe. Dun disturb u liao u cleaning ur room.',\n",
       " 'You have been selected to stay in 1 of 250 top British hotels - FOR NOTHING! Holiday Worth £350! To Claim, Call London 02072069400. Bx 526, SW73SS',\n",
       " 'Do you want a NEW video phone750 anytime any network mins 150 text for only five pounds per week call 08000776320 now or reply for delivery tomorrow',\n",
       " 'Oic cos me n my sis got no lunch today my dad went out... So dunno whether 2 eat in sch or wat...',\n",
       " 'Aaooooright are you at work?',\n",
       " \"Probably not, I'm almost out of gas and I get some cash tomorrow\",\n",
       " 'Great. Have a safe trip. Dont panic surrender all.',\n",
       " \"K I'll be sure to get up before noon and see what's what\",\n",
       " '2 celebrate my b\\x92day, y else?',\n",
       " 'Almost there, see u in a sec',\n",
       " 'U WILL SWITCH YOUR FONE ON DAMMIT!!',\n",
       " 'I tot u reach liao. He said t-shirt.',\n",
       " \"Like I made him throw up when we were smoking in our friend's car one time, it was awesome\",\n",
       " 'K..k.:)congratulation ..',\n",
       " 'Ü come lt 25 n pass to me lar',\n",
       " \"GSOH? Good with SPAM the ladies?U could b a male gigolo? 2 join the uk's fastest growing mens club reply ONCALL. mjzgroup. 08714342399.2stop reply STOP. msg@£1.50rcvd\",\n",
       " \"There's someone here that has a year  &lt;#&gt;  toyota camry like mr olayiwola's own. Mileage is  &lt;#&gt; k.its clean but i need to know how much will it sell for. If i can raise the dough for it how soon after landing will it sell. Holla back.\",\n",
       " 'Back 2 work 2morro half term over! Can U C me 2nite 4 some sexy passion B4 I have 2 go back? Chat NOW 09099726481 Luv DENA Calls £1/minMobsmoreLKPOBOX177HP51FL',\n",
       " 'Yeah, we can probably swing by once my roommate finishes up with his girl',\n",
       " 'ELLO BABE U OK?',\n",
       " 'So what do you guys do.',\n",
       " 'That was random saw my old roomate on campus. He graduated',\n",
       " \"We're on the opposite side from where we dropped you off\",\n",
       " \"Only if you promise your getting out as SOON as you can. And you'll text me in the morning to let me know you made it in ok.\",\n",
       " 'So now my dad is gonna call after he gets out of work and ask all these crazy questions.',\n",
       " 'Really do hope the work doesnt get stressful. Have a gr8 day.',\n",
       " 'FreeMsg Hi baby wow just got a new cam moby. Wanna C a hot pic? or Fancy a chat?Im w8in 4uTxt / rply CHAT to 82242 Hlp 08712317606 Msg150p 2rcv',\n",
       " \"Hey! There's veggie pizza... :/\",\n",
       " 'We have new local dates in your area - Lots of new people registered in YOUR AREA. Reply DATE to start now! 18 only www.flirtparty.us REPLYS150',\n",
       " 'Reading gud habit.. Nan bari hudgi yorge pataistha ertini kano:-)',\n",
       " 'Mum not going robinson already.',\n",
       " 'R we still meeting 4 dinner tonight?',\n",
       " 'Hai priya are you right. What doctor said pa. Where are you.',\n",
       " 'Hey...Great deal...Farm tour 9am to 5pm $95/pax, $50 deposit by 16 May',\n",
       " 'How many licks does it take to get to the center of a tootsie pop?',\n",
       " 'Hiya, probably coming home * weekend after next',\n",
       " \"This is hoping you enjoyed your game yesterday. Sorry i've not been in touch but pls know that you are fondly bein thot off. Have a great week. Abiola\",\n",
       " 'I gotta collect da car at 6 lei.',\n",
       " 'Dunno lei shd b driving lor cos i go sch 1 hr oni.',\n",
       " \"The LAY MAN! Just to let you know you are missed and thought off. Do have a great day. And if you can send me bimbo and ugo's numbers, ill appreciate. Safe\",\n",
       " \"I guess that's why you re worried. You must know that there's a way the body repairs itself. And i'm quite sure you shouldn't worry. We'll take it slow. First the tests, they will guide when your ovulation is then just relax. Nothing you've said is a reason to worry but i.ll keep on followin you up.\",\n",
       " \"Sorry, I'll call later in meeting.\",\n",
       " \"I've told you everything will stop. Just dont let her get dehydrated.\",\n",
       " 'Customer Loyalty Offer:The NEW Nokia6650 Mobile from ONLY £10 at TXTAUCTION! Txt word: START to No: 81151 & get yours Now! 4T&Ctxt TC 150p/MTmsg',\n",
       " 'I am hot n horny and willing I live local to you - text a reply to hear strt back from me 150p per msg Netcollex LtdHelpDesk: 02085076972 reply Stop to end',\n",
       " '* Was really good to see you the other day dudette, been missing you!',\n",
       " 'Buzzzz! *grins* Did I buzz your ass? Buzz your chest ? Buzz your cock ? Where do you keep your phone ? Is the vibrator on ? Did you feel it shake ?',\n",
       " \"I realise you are a busy guy and i'm trying not to be a bother. I have to get some exams outta the way and then try the cars. Do have a gr8 day\",\n",
       " 'PRIVATE! Your 2004 Account Statement for 07742676969 shows 786 unredeemed Bonus Points. To claim call 08719180248 Identifier Code: 45239 Expires',\n",
       " \"Haha good to hear, I'm officially paid and on the market for an 8th\",\n",
       " 'When are you going to ride your bike?',\n",
       " 'No, I was trying it all weekend ;V',\n",
       " 'Today my system sh get ready.all is well and i am also in the deep well',\n",
       " 'What???? Hello wats talks email address?',\n",
       " \"Awesome, lemme know whenever you're around\",\n",
       " 'Goal! Arsenal 4 (Henry, 7 v Liverpool 2 Henry scores with a simple shot from 6 yards from a pass by Bergkamp to give Arsenal a 2 goal margin after 78 mins.',\n",
       " 'Can u look 4 me in da lib i got stuff havent finish yet.',\n",
       " \"Aight sorry I take ten years to shower. What's the plan?\",\n",
       " 'Mine here like all fr china then so noisy.',\n",
       " 'Id onluy matters when getting on from offcampus',\n",
       " 'No..few hours before.went to hair cut .',\n",
       " 'SPJanuary Male Sale! Hot Gay chat now cheaper, call 08709222922. National rate from 1.5p/min cheap to 7.8p/min peak! To stop texts call 08712460324 (10p/min)',\n",
       " 'FREE GAME. Get Rayman Golf 4 FREE from the O2 Games Arcade. 1st get UR games settings. Reply POST, then save & activ8. Press 0 key for Arcade. Termsapply',\n",
       " 'FREE MSG:We billed your mobile number by mistake from shortcode 83332.Please call 08081263000 to have charges refunded.This call will be free from a BT landline',\n",
       " \"Come to mu, we're sorting out our narcotics situation\",\n",
       " 'You still at grand prix?',\n",
       " 'U say leh... Of course nothing happen lar. Not say v romantic jus a bit only lor. I thk e nite scenery not so nice leh.',\n",
       " 'Looks like u wil b getting a headstart im leaving here bout 2.30ish but if u r desperate for my company I could head in earlier-we were goin to meet in rummer.',\n",
       " 'K, wait chikku..il send aftr  &lt;#&gt; mins',\n",
       " 'Think i might have to give it a miss. Am teaching til twelve, then have lecture at two. Damn this working thing.',\n",
       " 'Ü bot notes oredi... Cos i juz rem i got...',\n",
       " 'Summers finally here! Fancy a chat or flirt with sexy singles in yr area? To get MATCHED up just reply SUMMER now. Free 2 Join. OptOut txt STOP Help08714742804',\n",
       " 'Hi darlin did youPhone me? Im atHome if youwanna chat.',\n",
       " 'Do you know when dad will be back?',\n",
       " 'From here after The performance award is calculated every two month.not for current one month period..',\n",
       " 'How long has it been since you screamed, princess?',\n",
       " 'I love you. You set my soul on fire. It is not just a spark. But it is a flame. A big rawring flame. XoXo',\n",
       " 'How long does applebees fucking take',\n",
       " 'Ill be there on  &lt;#&gt;  ok.',\n",
       " 'YOUR CHANCE TO BE ON A REALITY FANTASY SHOW call now = 08707509020 Just 20p per min NTT Ltd, PO Box 1327 Croydon CR9 5WB 0870 is a national = rate call.',\n",
       " 'U GOIN OUT 2NITE?',\n",
       " 'So when you gonna get rimac access ',\n",
       " \"Aight no rush, I'll ask jay\",\n",
       " 'Urgent Urgent! We have 800 FREE flights to Europe to give away, call B4 10th Sept & take a friend 4 FREE. Call now to claim on 09050000555. BA128NNFWFLY150ppm',\n",
       " \"Ugh fuck it I'm resubbing to eve\",\n",
       " 'We got a divorce. Lol. She.s here',\n",
       " 'Yup no more already... Thanx 4 printing n handing it up.',\n",
       " 'K da:)how many page you want?',\n",
       " 'Play w computer? Aiyah i tok 2 u lor?',\n",
       " \"Also hi wesley how've you been\",\n",
       " 'What do u want when i come back?.a beautiful necklace as a token of my heart for you.thats what i will give but ONLY to MY WIFE OF MY LIKING.BE THAT AND SEE..NO ONE can give you that.dont call me.i will wait till i come.',\n",
       " \"Same here, but I consider walls and bunkers and shit important just because I never play on peaceful but I guess your place is high enough that it don't matter\",\n",
       " 'One small prestige problem now.',\n",
       " 'Tell me whos this pls:-)',\n",
       " \"Unfortunately i've just found out that we have to pick my sister up from the airport that evening so don't think i'll be going out at all. We should try to go out one of th\",\n",
       " 'Fine am simply sitting.',\n",
       " \"Orange customer, you may now claim your FREE CAMERA PHONE upgrade for your loyalty. Call now on 0207 153 9996. Offer ends 14thMarch. T&C's apply. Opt-out availa\",\n",
       " \"I don't know u and u don't know me. Send CHAT to 86688 now and let's find each other! Only 150p/Msg rcvd. HG/Suite342/2Lands/Row/W1J6HL LDN. 18 years or over.\",\n",
       " 'All e best 4 ur driving tmr :-)',\n",
       " 'Did you try making another butt.',\n",
       " 'PRIVATE! Your 2004 Account Statement for 078498****7 shows 786 unredeemed Bonus Points. To claim call 08719180219 Identifier Code: 45239 Expires 06.05.05',\n",
       " 'Then why you not responding',\n",
       " 'Probably money worries. Things are coming due and i have several outstanding invoices for work i did two and three months ago.',\n",
       " ...}"
      ]
     },
     "execution_count": 15,
     "metadata": {},
     "output_type": "execute_result"
    }
   ],
   "source": [
    "set(mess['message'])"
   ]
  },
  {
   "cell_type": "code",
   "execution_count": null,
   "metadata": {},
   "outputs": [],
   "source": []
  },
  {
   "cell_type": "code",
   "execution_count": 18,
   "metadata": {},
   "outputs": [
    {
     "data": {
      "text/plain": [
       "'U dun say so early hor... U c already then say...'"
      ]
     },
     "execution_count": 18,
     "metadata": {},
     "output_type": "execute_result"
    }
   ],
   "source": [
    "mess4"
   ]
  },
  {
   "cell_type": "code",
   "execution_count": 19,
   "metadata": {},
   "outputs": [],
   "source": [
    "bow4 = bow_transform.transform([mess4])"
   ]
  },
  {
   "cell_type": "code",
   "execution_count": 20,
   "metadata": {},
   "outputs": [
    {
     "name": "stdout",
     "output_type": "stream",
     "text": [
      "  (0, 4068)\t2\n",
      "  (0, 4629)\t1\n",
      "  (0, 5261)\t1\n",
      "  (0, 6204)\t1\n",
      "  (0, 6222)\t1\n",
      "  (0, 7186)\t1\n",
      "  (0, 9554)\t2\n"
     ]
    }
   ],
   "source": [
    "print(bow4)"
   ]
  },
  {
   "cell_type": "code",
   "execution_count": 20,
   "metadata": {},
   "outputs": [
    {
     "data": {
      "text/plain": [
       "(5572, 2)"
      ]
     },
     "execution_count": 20,
     "metadata": {},
     "output_type": "execute_result"
    }
   ],
   "source": [
    "mess.shape"
   ]
  },
  {
   "cell_type": "code",
   "execution_count": 19,
   "metadata": {},
   "outputs": [
    {
     "data": {
      "text/plain": [
       "(1, 11425)"
      ]
     },
     "execution_count": 19,
     "metadata": {},
     "output_type": "execute_result"
    }
   ],
   "source": [
    "bow4.shape"
   ]
  },
  {
   "cell_type": "code",
   "execution_count": 21,
   "metadata": {},
   "outputs": [
    {
     "data": {
      "text/plain": [
       "'U'"
      ]
     },
     "execution_count": 21,
     "metadata": {},
     "output_type": "execute_result"
    }
   ],
   "source": [
    "#to view which word appear twice\n",
    "bow_transform.get_feature_names()[4068]"
   ]
  },
  {
   "cell_type": "code",
   "execution_count": 22,
   "metadata": {},
   "outputs": [
    {
     "data": {
      "text/plain": [
       "'say'"
      ]
     },
     "execution_count": 22,
     "metadata": {},
     "output_type": "execute_result"
    }
   ],
   "source": [
    "#to view which word appear twice\n",
    "bow_transform.get_feature_names()[9554]"
   ]
  },
  {
   "cell_type": "code",
   "execution_count": 23,
   "metadata": {},
   "outputs": [],
   "source": [
    "#vectorization\n",
    "#apply bow on total column\n",
    "mess_bow = bow_transform.transform(mess['message'])"
   ]
  },
  {
   "cell_type": "code",
   "execution_count": 24,
   "metadata": {},
   "outputs": [
    {
     "name": "stdout",
     "output_type": "stream",
     "text": [
      "shape of the sparse matrix:  (5572, 11425)\n"
     ]
    }
   ],
   "source": [
    "print('shape of the sparse matrix: ', mess_bow.shape)"
   ]
  },
  {
   "cell_type": "code",
   "execution_count": 25,
   "metadata": {},
   "outputs": [
    {
     "data": {
      "text/plain": [
       "50548"
      ]
     },
     "execution_count": 25,
     "metadata": {},
     "output_type": "execute_result"
    }
   ],
   "source": [
    "#check non-zero occurences \n",
    "mess_bow.nnz"
   ]
  },
  {
   "cell_type": "code",
   "execution_count": 26,
   "metadata": {},
   "outputs": [
    {
     "name": "stdout",
     "output_type": "stream",
     "text": [
      "sparsity: 0\n"
     ]
    }
   ],
   "source": [
    "#compare the number of non-zero messages versus the total number of messages to get an idea of how many zeroes in the matrix\n",
    "#this basically gives an idea of how many zeries are there in the matrix\n",
    "#with this we've done with counting \n",
    "sparsity = (100.0 * mess_bow.nnz / (mess_bow.shape[0] * mess_bow.shape[1]))\n",
    "print('sparsity: {}'.format(round(sparsity)))"
   ]
  },
  {
   "cell_type": "code",
   "execution_count": 27,
   "metadata": {},
   "outputs": [
    {
     "name": "stdout",
     "output_type": "stream",
     "text": [
      "sparsity: 0.07940295412668218\n"
     ]
    }
   ],
   "source": [
    "print('sparsity: {}'.format(sparsity))"
   ]
  },
  {
   "cell_type": "code",
   "execution_count": 28,
   "metadata": {},
   "outputs": [],
   "source": [
    "#transform simple word count(bow) into tfidf \n",
    "#TF-IDF\n",
    "from sklearn.feature_extraction.text import TfidfTransformer"
   ]
  },
  {
   "cell_type": "code",
   "execution_count": 29,
   "metadata": {},
   "outputs": [],
   "source": [
    "tfidf_transform = TfidfTransformer().fit(mess_bow)"
   ]
  },
  {
   "cell_type": "code",
   "execution_count": 30,
   "metadata": {},
   "outputs": [],
   "source": [
    "#fit with bow4\n",
    "tfidf4 = tfidf_transform.transform(bow4)"
   ]
  },
  {
   "cell_type": "code",
   "execution_count": 31,
   "metadata": {},
   "outputs": [
    {
     "name": "stdout",
     "output_type": "stream",
     "text": [
      "  (0, 9554)\t0.5385626262927564\n",
      "  (0, 7186)\t0.4389365653379857\n",
      "  (0, 6222)\t0.3187216892949149\n",
      "  (0, 6204)\t0.29953799723697416\n",
      "  (0, 5261)\t0.29729957405868723\n",
      "  (0, 4629)\t0.26619801906087187\n",
      "  (0, 4068)\t0.40832589933384067\n"
     ]
    }
   ],
   "source": [
    "print(tfidf4)"
   ]
  },
  {
   "cell_type": "code",
   "execution_count": null,
   "metadata": {},
   "outputs": [],
   "source": [
    "Just interpret these numbers as a weight value of each of these words versus the actual document  "
   ]
  },
  {
   "cell_type": "code",
   "execution_count": 34,
   "metadata": {},
   "outputs": [
    {
     "data": {
      "text/plain": [
       "8.527076498901426"
      ]
     },
     "execution_count": 34,
     "metadata": {},
     "output_type": "execute_result"
    }
   ],
   "source": [
    "#inverse document frequency of a particular word \n",
    "#check the document frequency for the word 'university'\n",
    "#grab inverse document frequency\n",
    "tfidf_transform.idf_[bow_transform.vocabulary_['university']]"
   ]
  },
  {
   "cell_type": "code",
   "execution_count": 36,
   "metadata": {},
   "outputs": [],
   "source": [
    "#convert the entire bag-of-word corpus into a tfidf corpus at once \n",
    "#there many ways that data can be preprocessed and vectorized and these steps involve feature engineering and building a pipeline\n",
    "#check scikit documentation\n",
    "mess_tfidf = tfidf_transform.transform(mess_bow)"
   ]
  },
  {
   "cell_type": "code",
   "execution_count": 37,
   "metadata": {},
   "outputs": [],
   "source": [
    "#multinomial naive bayes algorithm\n",
    "#check the link in jupyternote\n",
    "from sklearn.naive_bayes import MultinomialNB"
   ]
  },
  {
   "cell_type": "code",
   "execution_count": 38,
   "metadata": {},
   "outputs": [
    {
     "data": {
      "text/html": [
       "<div>\n",
       "<style scoped>\n",
       "    .dataframe tbody tr th:only-of-type {\n",
       "        vertical-align: middle;\n",
       "    }\n",
       "\n",
       "    .dataframe tbody tr th {\n",
       "        vertical-align: top;\n",
       "    }\n",
       "\n",
       "    .dataframe thead th {\n",
       "        text-align: right;\n",
       "    }\n",
       "</style>\n",
       "<table border=\"1\" class=\"dataframe\">\n",
       "  <thead>\n",
       "    <tr style=\"text-align: right;\">\n",
       "      <th></th>\n",
       "      <th>label</th>\n",
       "      <th>message</th>\n",
       "    </tr>\n",
       "  </thead>\n",
       "  <tbody>\n",
       "    <tr>\n",
       "      <th>0</th>\n",
       "      <td>ham</td>\n",
       "      <td>Go until jurong point, crazy.. Available only ...</td>\n",
       "    </tr>\n",
       "    <tr>\n",
       "      <th>1</th>\n",
       "      <td>ham</td>\n",
       "      <td>Ok lar... Joking wif u oni...</td>\n",
       "    </tr>\n",
       "    <tr>\n",
       "      <th>2</th>\n",
       "      <td>spam</td>\n",
       "      <td>Free entry in 2 a wkly comp to win FA Cup fina...</td>\n",
       "    </tr>\n",
       "    <tr>\n",
       "      <th>3</th>\n",
       "      <td>ham</td>\n",
       "      <td>U dun say so early hor... U c already then say...</td>\n",
       "    </tr>\n",
       "    <tr>\n",
       "      <th>4</th>\n",
       "      <td>ham</td>\n",
       "      <td>Nah I don't think he goes to usf, he lives aro...</td>\n",
       "    </tr>\n",
       "  </tbody>\n",
       "</table>\n",
       "</div>"
      ],
      "text/plain": [
       "  label                                            message\n",
       "0   ham  Go until jurong point, crazy.. Available only ...\n",
       "1   ham                      Ok lar... Joking wif u oni...\n",
       "2  spam  Free entry in 2 a wkly comp to win FA Cup fina...\n",
       "3   ham  U dun say so early hor... U c already then say...\n",
       "4   ham  Nah I don't think he goes to usf, he lives aro..."
      ]
     },
     "execution_count": 38,
     "metadata": {},
     "output_type": "execute_result"
    }
   ],
   "source": [
    "mess.head()"
   ]
  },
  {
   "cell_type": "code",
   "execution_count": 39,
   "metadata": {},
   "outputs": [],
   "source": [
    "#fit model with mess_tfidf versus label\n",
    "spam_detect_model = MultinomialNB().fit(mess_tfidf, mess['label'])"
   ]
  },
  {
   "cell_type": "code",
   "execution_count": 40,
   "metadata": {},
   "outputs": [
    {
     "data": {
      "text/plain": [
       "array(['ham'], dtype='<U4')"
      ]
     },
     "execution_count": 40,
     "metadata": {},
     "output_type": "execute_result"
    }
   ],
   "source": [
    "#predict\n",
    "spam_detect_model.predict(tfidf4)"
   ]
  },
  {
   "cell_type": "code",
   "execution_count": null,
   "metadata": {},
   "outputs": [],
   "source": [
    "my model detected/predicted the message 4 will be ham"
   ]
  },
  {
   "cell_type": "code",
   "execution_count": 47,
   "metadata": {},
   "outputs": [],
   "source": [
    "#predict all the messages\n",
    "all_pred = spam_detect_model.predict(mess_tfidf)"
   ]
  },
  {
   "cell_type": "code",
   "execution_count": 48,
   "metadata": {},
   "outputs": [
    {
     "data": {
      "text/plain": [
       "array(['ham', 'ham', 'spam', ..., 'ham', 'ham', 'ham'], dtype='<U4')"
      ]
     },
     "execution_count": 48,
     "metadata": {},
     "output_type": "execute_result"
    }
   ],
   "source": [
    "all_pred"
   ]
  },
  {
   "cell_type": "code",
   "execution_count": 41,
   "metadata": {},
   "outputs": [],
   "source": [
    "#split the data into train and test \n",
    "from sklearn.model_selection import train_test_split"
   ]
  },
  {
   "cell_type": "code",
   "execution_count": 42,
   "metadata": {},
   "outputs": [],
   "source": [
    "#splitting into train & test with test size of 30% from the original dat\n",
    "mess_train, mess_test, label_train, label_test = train_test_split(mess['message'], mess['label'], test_size=0.3)"
   ]
  },
  {
   "cell_type": "code",
   "execution_count": 43,
   "metadata": {},
   "outputs": [
    {
     "data": {
      "text/plain": [
       "(3900,)"
      ]
     },
     "execution_count": 43,
     "metadata": {},
     "output_type": "execute_result"
    }
   ],
   "source": [
    "mess_train.shape"
   ]
  },
  {
   "cell_type": "code",
   "execution_count": 44,
   "metadata": {},
   "outputs": [
    {
     "data": {
      "text/plain": [
       "(1672,)"
      ]
     },
     "execution_count": 44,
     "metadata": {},
     "output_type": "execute_result"
    }
   ],
   "source": [
    "mess_test.shape"
   ]
  },
  {
   "cell_type": "code",
   "execution_count": 48,
   "metadata": {},
   "outputs": [
    {
     "data": {
      "text/plain": [
       "(3900,)"
      ]
     },
     "execution_count": 48,
     "metadata": {},
     "output_type": "execute_result"
    }
   ],
   "source": [
    "label_train.shape"
   ]
  },
  {
   "cell_type": "code",
   "execution_count": null,
   "metadata": {},
   "outputs": [],
   "source": [
    "#now we have two options"
   ]
  },
  {
   "cell_type": "code",
   "execution_count": 54,
   "metadata": {},
   "outputs": [
    {
     "data": {
      "text/plain": [
       "4034    I am taking you for italian food. How about a ...\n",
       "4735    Buy Space Invaders 4 a chance 2 win orig Arcad...\n",
       "1949    I cant pick the phone right now. Pls send a me...\n",
       "239     New Theory: Argument wins d SITUATION, but los...\n",
       "1963    it to 80488. Your 500 free text messages are v...\n",
       "4443              Dear i am not denying your words please\n",
       "4570                  At WHAT TIME should i come tomorrow\n",
       "743     Just got up. have to be out of the room very s...\n",
       "3498    Oh, the grand is having a bit of a party but i...\n",
       "2888                               K I'll take care of it\n",
       "2735     Can you do a mag meeting this avo at some point?\n",
       "694     Will purchase d stuff today and mail to you. D...\n",
       "5372       Ok., is any problem to u frm him? Wats matter?\n",
       "84                                         Yup next stop.\n",
       "4211    No da:)he is stupid da..always sending like th...\n",
       "3556    From next month get upto 50% More Calls 4 Ur s...\n",
       "3614    Depends on individual lor e hair dresser say p...\n",
       "2810    Oh yeah I forgot. U can only take 2 out shoppi...\n",
       "4878    The world's most happiest frnds never have the...\n",
       "2166                        I'm not coming home 4 dinner.\n",
       "4286                         I pocked you up there before\n",
       "639                  What will we do in the shower, baby?\n",
       "1431    Don't look back at the building because you ha...\n",
       "2900    Aight, I should be there by 8 at the latest, p...\n",
       "5236    Your opinion about me? 1. Over 2. Jada 3. Kusr...\n",
       "3534                               Sorry, I'll call later\n",
       "1618                        Did u download the fring app?\n",
       "4355    important information 4 orange user 0789xxxxxx...\n",
       "3012                Hm good morning, headache anyone? :-)\n",
       "3337                         Then u go back urself lor...\n",
       "                              ...                        \n",
       "256     Don't necessarily expect it to be done before ...\n",
       "3114                      Wat time liao, where still got.\n",
       "2046    Okay... I booked all already... Including the ...\n",
       "4041                               I'm at home n ready...\n",
       "4068    You are being contacted by our Dating Service ...\n",
       "3521    No it will reach by 9 only. She telling she wi...\n",
       "3372    Tomorrow i am not going to theatre. . . So i c...\n",
       "2128    Tessy..pls do me a favor. Pls convey my birthd...\n",
       "2596    Sunshine Quiz Wkly Q! Win a top Sony DVD playe...\n",
       "1179    I'm outside islands, head towards hard rock an...\n",
       "5085    Sorry i missed your call. Can you please call ...\n",
       "461     Where did u go? My phone is gonna die you have...\n",
       "5195    Darren was saying dat if u meeting da ge den w...\n",
       "356     Thank You for calling.Forgot to say Happy Onam...\n",
       "2074    FreeMsg: Claim ur 250 SMS messages-Text OK to ...\n",
       "3393                      What r u cooking me for dinner?\n",
       "289     My life Means a lot to me, Not because I love ...\n",
       "3080    *deep sigh* ... I miss you :-( ... I am really...\n",
       "5097    Sorry about that this is my mates phone and i ...\n",
       "4616    Sunshine Quiz! Win a super Sony DVD recorder i...\n",
       "3274    Just finished eating. Got u a plate. NOT lefto...\n",
       "2283                        Whom you waited for yesterday\n",
       "2146    Sunshine Hols. To claim ur med holiday send a ...\n",
       "4784    Especially since i talk about boston all up in...\n",
       "875     Talk With Yourself Atleast Once In A Day...!!!...\n",
       "2523    Dunno lei... I might b eatin wif my frens... I...\n",
       "4970    I will cme i want to go to hos 2morow. After t...\n",
       "732             No he didn't. Spring is coming early yay!\n",
       "3811                  Aight, can you text me the address?\n",
       "3039    You are not bothering me but you have to trust...\n",
       "Name: message, Length: 3900, dtype: object"
      ]
     },
     "execution_count": 54,
     "metadata": {},
     "output_type": "execute_result"
    }
   ],
   "source": [
    "#mess_train is just the list of all the text\n",
    "mess_train"
   ]
  },
  {
   "cell_type": "code",
   "execution_count": 49,
   "metadata": {},
   "outputs": [],
   "source": [
    "from sklearn.pipeline import Pipeline"
   ]
  },
  {
   "cell_type": "code",
   "execution_count": 51,
   "metadata": {},
   "outputs": [],
   "source": [
    "#create pipeline for naive bayes classification\n",
    "#1.strings of token integer counts\n",
    "#2.take these integer counts to weigh tfidf scores\n",
    "pipeline = Pipeline([\n",
    "    ('bow', CountVectorizer(analyzer=text_process)), #strings of integer counts - bow\n",
    "    ('tfidf', TfidfTransformer()), #integer counts of weighted tfidf scores\n",
    "    ('classifier', MultinomialNB()) #train this on semi model\n",
    "])\n",
    "\n",
    "#basically treat this pipeline model as basic estimator "
   ]
  },
  {
   "cell_type": "code",
   "execution_count": 52,
   "metadata": {},
   "outputs": [
    {
     "data": {
      "text/plain": [
       "Pipeline(memory=None,\n",
       "     steps=[('bow', CountVectorizer(analyzer=<function text_process at 0x000000000C291620>,\n",
       "        binary=False, decode_error='strict', dtype=<class 'numpy.int64'>,\n",
       "        encoding='utf-8', input='content', lowercase=True, max_df=1.0,\n",
       "        max_features=None, min_df=1, ngram_range=(1, 1), preprocesso...f=False, use_idf=True)), ('classifier', MultinomialNB(alpha=1.0, class_prior=None, fit_prior=True))])"
      ]
     },
     "execution_count": 52,
     "metadata": {},
     "output_type": "execute_result"
    }
   ],
   "source": [
    "#fit pipeline on train datasets\n",
    "pipeline.fit(mess_train,label_train)"
   ]
  },
  {
   "cell_type": "code",
   "execution_count": 53,
   "metadata": {},
   "outputs": [],
   "source": [
    "predictions = pipeline.predict(mess_test)"
   ]
  },
  {
   "cell_type": "code",
   "execution_count": 54,
   "metadata": {},
   "outputs": [],
   "source": [
    "#run a classification report\n",
    "from sklearn.metrics import classification_report"
   ]
  },
  {
   "cell_type": "code",
   "execution_count": 56,
   "metadata": {},
   "outputs": [
    {
     "name": "stdout",
     "output_type": "stream",
     "text": [
      "              precision    recall  f1-score   support\n",
      "\n",
      "         ham       0.95      1.00      0.98      1438\n",
      "        spam       1.00      0.69      0.82       234\n",
      "\n",
      "   micro avg       0.96      0.96      0.96      1672\n",
      "   macro avg       0.98      0.84      0.90      1672\n",
      "weighted avg       0.96      0.96      0.95      1672\n",
      "\n"
     ]
    }
   ],
   "source": [
    "print(classification_report(label_test, predictions))"
   ]
  },
  {
   "cell_type": "code",
   "execution_count": 57,
   "metadata": {},
   "outputs": [],
   "source": [
    "#apply random forest model\n",
    "from sklearn.ensemble import RandomForestClassifier"
   ]
  },
  {
   "cell_type": "code",
   "execution_count": 58,
   "metadata": {},
   "outputs": [],
   "source": [
    "rf_pipeline = Pipeline([\n",
    "    ('bow', CountVectorizer(analyzer=text_process)), #strings of integer counts - bow\n",
    "    ('tfidf', TfidfTransformer()), #integer counts of weighted tfidf scores\n",
    "    ('classifier', RandomForestClassifier()) #train this on semi model\n",
    "])\n"
   ]
  },
  {
   "cell_type": "code",
   "execution_count": 59,
   "metadata": {},
   "outputs": [
    {
     "name": "stderr",
     "output_type": "stream",
     "text": [
      "C:\\ProgramData\\Anaconda3\\lib\\site-packages\\sklearn\\ensemble\\forest.py:246: FutureWarning: The default value of n_estimators will change from 10 in version 0.20 to 100 in 0.22.\n",
      "  \"10 in version 0.20 to 100 in 0.22.\", FutureWarning)\n"
     ]
    },
    {
     "data": {
      "text/plain": [
       "Pipeline(memory=None,\n",
       "     steps=[('bow', CountVectorizer(analyzer=<function text_process at 0x000000000C291620>,\n",
       "        binary=False, decode_error='strict', dtype=<class 'numpy.int64'>,\n",
       "        encoding='utf-8', input='content', lowercase=True, max_df=1.0,\n",
       "        max_features=None, min_df=1, ngram_range=(1, 1), preprocesso...obs=None,\n",
       "            oob_score=False, random_state=None, verbose=0,\n",
       "            warm_start=False))])"
      ]
     },
     "execution_count": 59,
     "metadata": {},
     "output_type": "execute_result"
    }
   ],
   "source": [
    "#fit pipeline on train datasets\n",
    "rf_pipeline.fit(mess_train,label_train)"
   ]
  },
  {
   "cell_type": "code",
   "execution_count": 61,
   "metadata": {},
   "outputs": [],
   "source": [
    "rf_predictions = pipeline.predict(mess_test)"
   ]
  },
  {
   "cell_type": "code",
   "execution_count": 62,
   "metadata": {},
   "outputs": [
    {
     "name": "stdout",
     "output_type": "stream",
     "text": [
      "              precision    recall  f1-score   support\n",
      "\n",
      "         ham       0.95      1.00      0.98      1438\n",
      "        spam       1.00      0.69      0.82       234\n",
      "\n",
      "   micro avg       0.96      0.96      0.96      1672\n",
      "   macro avg       0.98      0.84      0.90      1672\n",
      "weighted avg       0.96      0.96      0.95      1672\n",
      "\n"
     ]
    }
   ],
   "source": [
    "print(classification_report(label_test, rf_predictions))"
   ]
  },
  {
   "cell_type": "code",
   "execution_count": null,
   "metadata": {},
   "outputs": [],
   "source": []
  }
 ],
 "metadata": {
  "kernelspec": {
   "display_name": "Python 3",
   "language": "python",
   "name": "python3"
  },
  "language_info": {
   "codemirror_mode": {
    "name": "ipython",
    "version": 3
   },
   "file_extension": ".py",
   "mimetype": "text/x-python",
   "name": "python",
   "nbconvert_exporter": "python",
   "pygments_lexer": "ipython3",
   "version": "3.7.3"
  }
 },
 "nbformat": 4,
 "nbformat_minor": 2
}
